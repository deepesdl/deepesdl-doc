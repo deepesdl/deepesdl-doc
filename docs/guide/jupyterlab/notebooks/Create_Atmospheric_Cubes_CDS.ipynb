{
 "cells": [
  {
   "cell_type": "markdown",
   "metadata": {},
   "source": [
    "## xcube Data Store Framework – Climate Data Store\n",
    "### Creating and writing data cubes"
   ]
  },
  {
   "cell_type": "markdown",
   "metadata": {},
   "source": [
    "This notebook demonstrates how to access [Climate Data Store](https://cds.climate.copernicus.eu) (CDS) data via the dedicated xcube store, which provides dynamic data cube views into each gridded data set. Furthermore, an overview will be given on how to write data cubes into a team storage.\n",
    "\n",
    "Please, also refer to the [DeepESDL documentation](https://deepesdl.readthedocs.io/en/latest/guide/jupyterlab/) and visit the platform's [website](https://www.earthsystemdatalab.net/) for further information!\n",
    "\n",
    "Brockmann Consult, 2024\n",
    "\n",
    "-----------------\n",
    "\n",
    "**This notebook runs with the python environment `deepesdl-xcube-1.7.0`, please checkout the documentation for [help on changing the environment](https://deepesdl.readthedocs.io/en/latest/guide/jupyterlab/#python-environment-selection-of-the-jupyter-kerne).**"
   ]
  },
  {
   "cell_type": "markdown",
   "metadata": {},
   "source": [
    "**Please note:** \n",
    "    \n",
    "To access data from the Climate Data Store, you need a CDS API key. \n",
    "\n",
    "#### Obtain a CDS Personal Access Token\n",
    "\n",
    "You can obtain a CDS Personal Access Token as follows:\n",
    "\n",
    "1. Create a user account on the\n",
    "   [CDS Website](https://cds-beta.climate.copernicus.eu/).\n",
    "2. Log in to the website with your username and password.\n",
    "3. Navigate to your [user page](https://cds-beta.climate.copernicus.eu/profile), \n",
    "   where you can find your Personal Access Token.\n",
    "\n",
    "#### Configure CDS API access\n",
    "\n",
    "Your CDS Personal Access Token must be made available to the CDS API library.\n",
    "You can do this by creating a file named `.cdsapirc` in your home directory,\n",
    "with the following format:\n",
    "\n",
    "```\n",
    "url: https://cds-beta.climate.copernicus.eu/api\n",
    "key: <PERSONAL-ACCESS-TOKEN>\n",
    "```\n",
    "\n",
    "Replace `<PERSONAL-ACCESS-TOKEN>` with your Personal Access Token.\n",
    "\n",
    "Then export the `CDSAPI_URL` and `CDSAPI_KEY` environment variables:\n",
    "\n",
    "```bash\n",
    "export CDSAPI_URL=https://cds-beta.climate.copernicus.eu/api\n",
    "export CDSAPI_KEY=[PERSONAL-ACCESS-TOKEN]\n",
    "```\n",
    "\n",
    "#### Agree to the terms of use for the datasets you require\n",
    "\n",
    "The datasets available through CDS have associated terms of use. Before\n",
    "accessing a dataset via the API, you must agree to its terms of use, which\n",
    "can only be done via the CDS website, as follows:\n",
    "\n",
    "1. [Log in](https://cds-beta.climate.copernicus.eu) to the CDS website,\n",
    "   and go to 'Datasets' to find the dataset you require.\n",
    "2. On the dataset's web page, select the ‘Download’ tab.\n",
    "3. Scroll to the bottom of the page, and you will see a section titled\n",
    "   ‘Terms of use’, which will contain either an ‘Accept terms’ button to\n",
    "   allow you to accept the terms, or a confirmation that you have already\n",
    "   accepted the terms.\n",
    "\n",
    "Once you have accepted the terms on the website, the dataset will also be\n",
    "made available to you through the API."
   ]
  },
  {
   "cell_type": "code",
   "execution_count": 30,
   "metadata": {
    "tags": []
   },
   "outputs": [],
   "source": [
    "import os\n",
    "os.environ['CDSAPI_URL'] = 'https://cds-beta.climate.copernicus.eu/api'\n",
    "os.environ['CDSAPI_KEY'] = '[PERSONAL-ACCESS-TOKEN]'"
   ]
  },
  {
   "cell_type": "code",
   "execution_count": 2,
   "metadata": {
    "tags": []
   },
   "outputs": [],
   "source": [
    "# mandatory imports\n",
    "from xcube.core.store import find_data_store_extensions\n",
    "from xcube.core.store import get_data_store_params_schema\n",
    "from xcube.core.store import new_data_store\n",
    "\n",
    "# Utilities for notebook visualization\n",
    "import shapely.geometry\n",
    "import IPython.display\n",
    "from IPython.display import JSON\n",
    "import matplotlib as mpl\n",
    "import matplotlib.pyplot as plt"
   ]
  },
  {
   "cell_type": "markdown",
   "metadata": {},
   "source": [
    "Configure matplotlib to display graphs inline directly in the notebook and set a sensible default figure size."
   ]
  },
  {
   "cell_type": "code",
   "execution_count": 3,
   "metadata": {
    "tags": []
   },
   "outputs": [],
   "source": [
    "%matplotlib inline\n",
    "plt.rcParams[\"figure.figsize\"] = 16,12"
   ]
  },
  {
   "cell_type": "markdown",
   "metadata": {},
   "source": [
    "### Connect to cds store"
   ]
  },
  {
   "cell_type": "markdown",
   "metadata": {},
   "source": [
    "Check whether the `cds` store is among the available stores, if not please follow the installation information from the top of this notebook. "
   ]
  },
  {
   "cell_type": "code",
   "execution_count": 4,
   "metadata": {
    "tags": []
   },
   "outputs": [
    {
     "data": {
      "application/json": {
       "abfs": {
        "description": "Data store that uses a Azure blob compatible object storage"
       },
       "cciodp": {
        "data_store_notices": [
         {
          "content": "The ESA CCI Open Data Portal (ODP) utilises an \"[ontology](http://vocab-test.ceda.ac.uk/ontology/cci/cci-content/index.html) whose terms might slightly differ from the ones used in this software.\nFor example, a *Dataset* in the CCI terminology may refer to all data products generated by a certain CCI project using a specific configuration of algorithms and auxiliary data.\nIn this software, a *Data Source* refers to a subset (a file set) of a given ODP dataset whose data share a common spatio-temporal grid and/or share other common properties, e.g. the instrument used for the original measurements.\nIn addition, the term *Dataset* is used to represent in-memory instances of gridded data sources or subsets of them.",
          "icon": "info-sign",
          "id": "terminologyClarification",
          "intent": "primary",
          "title": "Terminology Clarification"
         },
         {
          "content": "This data store currently provides **only a subset of all datasets** provided by the \"ESA CCI Open Data Portal (ODP), namely gridded datasets originally stored in NetCDF format.\nIn upcoming versions, the store will also allow for browsing and accessing the remaining ODP datasets. This includes gridded data in TIFF format and also vector data using ESRI Shapefile format.\nFor the time being users can download the missing vector data from the ODP FTP server](http://cci.esa.int/data#ftp) `ftp://anon-ftp.ceda.ac.uk/neodc/esacci/`\n* CCI Glaciers in FTP directory `glaciers`\n* CCI Ice Sheets in FTP directories `ice_sheets_antarctica` and `ice_sheets_greenland",
          "icon": "warning-sign",
          "id": "dataCompleteness",
          "intent": "warning",
          "title": "Data Completeness"
         }
        ],
        "description": "ESA CCI Open Data Portal"
       },
       "ccizarr": {
        "description": "xarray.Dataset in Zarr format from ESA CCI Object Storage"
       },
       "cds": {
        "description": "Climate Data Store API"
       },
       "cmems": {
        "description": "Cmems DataStore"
       },
       "file": {
        "description": "Data store that uses a local filesystem"
       },
       "ftp": {
        "description": "Data store that uses a FTP filesystem"
       },
       "https": {
        "description": "Data store that uses a HTTPS filesystem"
       },
       "memory": {
        "description": "Data store that uses a in-memory filesystem"
       },
       "reference": {
        "description": "Data store that uses Kerchunk references"
       },
       "s3": {
        "description": "Data store that uses a AWS S3 compatible object storage"
       },
       "sentinelhub": {
        "description": "Sentinel Hub Cloud API"
       },
       "smos": {
        "description": "SMOS Level-2 Soil Moisture and Ocean Salinity"
       }
      },
      "text/plain": [
       "<IPython.core.display.JSON object>"
      ]
     },
     "execution_count": 4,
     "metadata": {
      "application/json": {
       "expanded": false,
       "root": "root"
      }
     },
     "output_type": "execute_result"
    }
   ],
   "source": [
    "JSON({e.name: e.metadata for e in find_data_store_extensions()})"
   ]
  },
  {
   "cell_type": "markdown",
   "metadata": {},
   "source": [
    "Usually we need more information to get the actual data store object. Which data store parameters are available for `cds`?"
   ]
  },
  {
   "cell_type": "code",
   "execution_count": 5,
   "metadata": {
    "tags": []
   },
   "outputs": [
    {
     "data": {
      "application/json": {
       "additionalProperties": false,
       "properties": {
        "cds_api_key": {
         "type": "string"
        },
        "endpoint_url": {
         "type": "string"
        },
        "normalize_names": {
         "default": false,
         "type": "boolean"
        },
        "num_retries": {
         "default": 200,
         "minimum": 0,
         "type": "integer"
        }
       },
       "type": "object"
      },
      "text/plain": [
       "<xcube.util.jsonschema.JsonObjectSchema at 0x7f85ed082490>"
      ]
     },
     "execution_count": 5,
     "metadata": {},
     "output_type": "execute_result"
    }
   ],
   "source": [
    "get_data_store_params_schema('cds')"
   ]
  },
  {
   "cell_type": "markdown",
   "metadata": {},
   "source": [
    "Provide mandatory parameters to instantiate the store class:"
   ]
  },
  {
   "cell_type": "code",
   "execution_count": 6,
   "metadata": {
    "tags": []
   },
   "outputs": [
    {
     "data": {
      "text/plain": [
       "<xcube_cds.store.CDSDataStore at 0x7f85ed1bed50>"
      ]
     },
     "execution_count": 6,
     "metadata": {},
     "output_type": "execute_result"
    }
   ],
   "source": [
    "store = new_data_store('cds')\n",
    "store"
   ]
  },
  {
   "cell_type": "markdown",
   "metadata": {},
   "source": [
    "Which datasets are provided? (the list may contain both gridded and vector datasets):"
   ]
  },
  {
   "cell_type": "code",
   "execution_count": 7,
   "metadata": {
    "tags": []
   },
   "outputs": [
    {
     "data": {
      "application/json": [
       "reanalysis-era5-single-levels-monthly-means:monthly_averaged_ensemble_members",
       "reanalysis-era5-single-levels-monthly-means:monthly_averaged_reanalysis",
       "reanalysis-era5-land-monthly-means:monthly_averaged_reanalysis",
       "reanalysis-era5-single-levels:ensemble_mean",
       "reanalysis-era5-single-levels:ensemble_members",
       "reanalysis-era5-single-levels:ensemble_spread",
       "reanalysis-era5-single-levels:reanalysis",
       "reanalysis-era5-land",
       "satellite-soil-moisture:saturation:daily",
       "satellite-soil-moisture:saturation:10-day",
       "satellite-soil-moisture:saturation:monthly",
       "satellite-soil-moisture:volumetric:daily",
       "satellite-soil-moisture:volumetric:10-day",
       "satellite-soil-moisture:volumetric:monthly",
       "satellite-sea-ice-thickness:envisat",
       "satellite-sea-ice-thickness:cryosat-2"
      ],
      "text/plain": [
       "<IPython.core.display.JSON object>"
      ]
     },
     "execution_count": 7,
     "metadata": {
      "application/json": {
       "expanded": false,
       "root": "root"
      }
     },
     "output_type": "execute_result"
    }
   ],
   "source": [
    "JSON(store.list_data_ids())"
   ]
  },
  {
   "cell_type": "markdown",
   "metadata": {},
   "source": [
    "Get more info about a specific dataset. This includes a description of the possible open formats:"
   ]
  },
  {
   "cell_type": "markdown",
   "metadata": {},
   "source": [
    "### Retrieve and open requested dataset"
   ]
  },
  {
   "cell_type": "markdown",
   "metadata": {
    "tags": []
   },
   "source": [
    "There are 4 required parameters, so we need to provide them to open a dataset:"
   ]
  },
  {
   "cell_type": "code",
   "execution_count": 8,
   "metadata": {
    "tags": []
   },
   "outputs": [
    {
     "data": {
      "application/json": {
       "bbox": [
        -180,
        -90,
        180,
        90
       ],
       "crs": "WGS84",
       "data_id": "reanalysis-era5-single-levels-monthly-means:monthly_averaged_reanalysis",
       "data_type": "dataset",
       "data_vars": {
        "alnid": {
         "attrs": {
          "long_name": "Near IR albedo for diffuse radiation",
          "units": "[0 - 1]"
         },
         "dims": [
          "time",
          "latitude",
          "longitude"
         ],
         "dtype": "float32",
         "name": "alnid"
        },
        "alnip": {
         "attrs": {
          "long_name": "Near IR albedo for direct radiation",
          "units": "[0 - 1]"
         },
         "dims": [
          "time",
          "latitude",
          "longitude"
         ],
         "dtype": "float32",
         "name": "alnip"
        },
        "aluvd": {
         "attrs": {
          "long_name": "UV visible albedo for diffuse radiation",
          "units": "[0 - 1]"
         },
         "dims": [
          "time",
          "latitude",
          "longitude"
         ],
         "dtype": "float32",
         "name": "aluvd"
        },
        "aluvp": {
         "attrs": {
          "long_name": "UV visible albedo for direct radiation",
          "units": "[0 - 1]"
         },
         "dims": [
          "time",
          "latitude",
          "longitude"
         ],
         "dtype": "float32",
         "name": "aluvp"
        },
        "anor": {
         "attrs": {
          "long_name": "Angle of sub-gridscale orography",
          "units": "radians"
         },
         "dims": [
          "time",
          "latitude",
          "longitude"
         ],
         "dtype": "float32",
         "name": "anor"
        },
        "asn": {
         "attrs": {
          "long_name": "Snow albedo",
          "units": "[0 - 1]"
         },
         "dims": [
          "time",
          "latitude",
          "longitude"
         ],
         "dtype": "float32",
         "name": "asn"
        },
        "bfi": {
         "attrs": {
          "long_name": "Benjamin-Feir index",
          "units": "dimensionless"
         },
         "dims": [
          "time",
          "latitude",
          "longitude"
         ],
         "dtype": "float32",
         "name": "bfi"
        },
        "bld": {
         "attrs": {
          "long_name": "Boundary layer dissipation",
          "units": "J m**-2"
         },
         "dims": [
          "time",
          "latitude",
          "longitude"
         ],
         "dtype": "float32",
         "name": "bld"
        },
        "blh": {
         "attrs": {
          "long_name": "Boundary layer height",
          "units": "m"
         },
         "dims": [
          "time",
          "latitude",
          "longitude"
         ],
         "dtype": "float32",
         "name": "blh"
        },
        "cape": {
         "attrs": {
          "long_name": "Convective available potential energy",
          "units": "J kg**-1"
         },
         "dims": [
          "time",
          "latitude",
          "longitude"
         ],
         "dtype": "float32",
         "name": "cape"
        },
        "cbh": {
         "attrs": {
          "long_name": "Cloud base height",
          "units": "m"
         },
         "dims": [
          "time",
          "latitude",
          "longitude"
         ],
         "dtype": "float32",
         "name": "cbh"
        },
        "cdir": {
         "attrs": {
          "long_name": "Clear-sky direct solar radiation at surface",
          "units": "J m**-2"
         },
         "dims": [
          "time",
          "latitude",
          "longitude"
         ],
         "dtype": "float32",
         "name": "cdir"
        },
        "cdww": {
         "attrs": {
          "long_name": "Coefficient of drag with waves",
          "units": "dimensionless"
         },
         "dims": [
          "time",
          "latitude",
          "longitude"
         ],
         "dtype": "float32",
         "name": "cdww"
        },
        "chnk": {
         "attrs": {
          "long_name": "Charnock",
          "units": "~"
         },
         "dims": [
          "time",
          "latitude",
          "longitude"
         ],
         "dtype": "float32",
         "name": "chnk"
        },
        "cin": {
         "attrs": {
          "long_name": "Convective inhibition",
          "units": "J kg**-1"
         },
         "dims": [
          "time",
          "latitude",
          "longitude"
         ],
         "dtype": "float32",
         "name": "cin"
        },
        "cl": {
         "attrs": {
          "long_name": "Lake cover",
          "units": "[0 - 1]"
         },
         "dims": [
          "time",
          "latitude",
          "longitude"
         ],
         "dtype": "float32",
         "name": "cl"
        },
        "cp": {
         "attrs": {
          "long_name": "Convective precipitation",
          "units": "m"
         },
         "dims": [
          "time",
          "latitude",
          "longitude"
         ],
         "dtype": "float32",
         "name": "cp"
        },
        "crr": {
         "attrs": {
          "long_name": "Convective rain rate",
          "units": "kg m**-2 s**-1"
         },
         "dims": [
          "time",
          "latitude",
          "longitude"
         ],
         "dtype": "float32",
         "name": "crr"
        },
        "csf": {
         "attrs": {
          "long_name": "Convective snowfall",
          "units": "m of water equivalent"
         },
         "dims": [
          "time",
          "latitude",
          "longitude"
         ],
         "dtype": "float32",
         "name": "csf"
        },
        "csfr": {
         "attrs": {
          "long_name": "Convective snowfall rate water equivalent",
          "units": "kg m**-2 s**-1"
         },
         "dims": [
          "time",
          "latitude",
          "longitude"
         ],
         "dtype": "float32",
         "name": "csfr"
        },
        "cvh": {
         "attrs": {
          "long_name": "High vegetation cover",
          "units": "[0 - 1]"
         },
         "dims": [
          "time",
          "latitude",
          "longitude"
         ],
         "dtype": "float32",
         "name": "cvh"
        },
        "cvl": {
         "attrs": {
          "long_name": "Low vegetation cover",
          "units": "[0 - 1]"
         },
         "dims": [
          "time",
          "latitude",
          "longitude"
         ],
         "dtype": "float32",
         "name": "cvl"
        },
        "d2m": {
         "attrs": {
          "long_name": "2 metre dewpoint temperature",
          "units": "K"
         },
         "dims": [
          "time",
          "latitude",
          "longitude"
         ],
         "dtype": "float32",
         "name": "d2m"
        },
        "dctb": {
         "attrs": {
          "long_name": "Duct base height",
          "units": "m"
         },
         "dims": [
          "time",
          "latitude",
          "longitude"
         ],
         "dtype": "float32",
         "name": "dctb"
        },
        "deg0l": {
         "attrs": {
          "long_name": "0 degrees C isothermal level [atm]",
          "units": "m"
         },
         "dims": [
          "time",
          "latitude",
          "longitude"
         ],
         "dtype": "float32",
         "name": "deg0l"
        },
        "dl": {
         "attrs": {
          "long_name": "Lake depth",
          "units": "m"
         },
         "dims": [
          "time",
          "latitude",
          "longitude"
         ],
         "dtype": "float32",
         "name": "dl"
        },
        "dndza": {
         "attrs": {
          "long_name": "Mean vertical gradient of refractivity inside trapping layer",
          "units": "m**-1"
         },
         "dims": [
          "time",
          "latitude",
          "longitude"
         ],
         "dtype": "float32",
         "name": "dndza"
        },
        "dndzn": {
         "attrs": {
          "long_name": "Minimum vertical gradient of refractivity inside trapping layer",
          "units": "m**-1"
         },
         "dims": [
          "time",
          "latitude",
          "longitude"
         ],
         "dtype": "float32",
         "name": "dndzn"
        },
        "dwi": {
         "attrs": {
          "long_name": "10 metre wind direction",
          "units": "degrees"
         },
         "dims": [
          "time",
          "latitude",
          "longitude"
         ],
         "dtype": "float32",
         "name": "dwi"
        },
        "dwps": {
         "attrs": {
          "long_name": "Wave spectral directional width for swell",
          "units": "dimensionless"
         },
         "dims": [
          "time",
          "latitude",
          "longitude"
         ],
         "dtype": "float32",
         "name": "dwps"
        },
        "dwww": {
         "attrs": {
          "long_name": "Wave spectral directional width for wind waves",
          "units": "dimensionless"
         },
         "dims": [
          "time",
          "latitude",
          "longitude"
         ],
         "dtype": "float32",
         "name": "dwww"
        },
        "e": {
         "attrs": {
          "long_name": "Evaporation",
          "units": "m of water equivalent"
         },
         "dims": [
          "time",
          "latitude",
          "longitude"
         ],
         "dtype": "float32",
         "name": "e"
        },
        "es": {
         "attrs": {
          "long_name": "Snow evaporation",
          "units": "m of water equivalent"
         },
         "dims": [
          "time",
          "latitude",
          "longitude"
         ],
         "dtype": "float32",
         "name": "es"
        },
        "ewss": {
         "attrs": {
          "long_name": "Eastward turbulent surface stress",
          "units": "N m**-2 s"
         },
         "dims": [
          "time",
          "latitude",
          "longitude"
         ],
         "dtype": "float32",
         "name": "ewss"
        },
        "fal": {
         "attrs": {
          "long_name": "Forecast albedo",
          "units": "[0 - 1]"
         },
         "dims": [
          "time",
          "latitude",
          "longitude"
         ],
         "dtype": "float32",
         "name": "fal"
        },
        "fdir": {
         "attrs": {
          "long_name": "Total sky direct solar radiation at surface",
          "units": "J m**-2"
         },
         "dims": [
          "time",
          "latitude",
          "longitude"
         ],
         "dtype": "float32",
         "name": "fdir"
        },
        "flsr": {
         "attrs": {
          "long_name": "Forecast logarithm of surface roughness for heat",
          "units": "~"
         },
         "dims": [
          "time",
          "latitude",
          "longitude"
         ],
         "dtype": "float32",
         "name": "flsr"
        },
        "fsr": {
         "attrs": {
          "long_name": "Forecast surface roughness",
          "units": "m"
         },
         "dims": [
          "time",
          "latitude",
          "longitude"
         ],
         "dtype": "float32",
         "name": "fsr"
        },
        "gwd": {
         "attrs": {
          "long_name": "Gravity wave dissipation",
          "units": "J m**-2"
         },
         "dims": [
          "time",
          "latitude",
          "longitude"
         ],
         "dtype": "float32",
         "name": "gwd"
        },
        "hcc": {
         "attrs": {
          "long_name": "High cloud cover",
          "units": "[0 - 1]"
         },
         "dims": [
          "time",
          "latitude",
          "longitude"
         ],
         "dtype": "float32",
         "name": "hcc"
        },
        "hmax": {
         "attrs": {
          "long_name": "Maximum individual wave height",
          "units": "m"
         },
         "dims": [
          "time",
          "latitude",
          "longitude"
         ],
         "dtype": "float32",
         "name": "hmax"
        },
        "i10fg": {
         "attrs": {
          "long_name": "Instantaneous 10 metre wind gust",
          "units": "m s**-1"
         },
         "dims": [
          "time",
          "latitude",
          "longitude"
         ],
         "dtype": "float32",
         "name": "i10fg"
        },
        "ie": {
         "attrs": {
          "long_name": "Instantaneous moisture flux",
          "units": "kg m**-2 s**-1"
         },
         "dims": [
          "time",
          "latitude",
          "longitude"
         ],
         "dtype": "float32",
         "name": "ie"
        },
        "iews": {
         "attrs": {
          "long_name": "Instantaneous eastward turbulent surface stress",
          "units": "N m**-2"
         },
         "dims": [
          "time",
          "latitude",
          "longitude"
         ],
         "dtype": "float32",
         "name": "iews"
        },
        "ilspf": {
         "attrs": {
          "long_name": "Instantaneous large-scale surface precipitation fraction",
          "units": "[0 - 1]"
         },
         "dims": [
          "time",
          "latitude",
          "longitude"
         ],
         "dtype": "float32",
         "name": "ilspf"
        },
        "inss": {
         "attrs": {
          "long_name": "Instantaneous northward turbulent surface stress",
          "units": "N m**-2"
         },
         "dims": [
          "time",
          "latitude",
          "longitude"
         ],
         "dtype": "float32",
         "name": "inss"
        },
        "ishf": {
         "attrs": {
          "long_name": "Instantaneous surface sensible heat flux",
          "units": "W m**-2"
         },
         "dims": [
          "time",
          "latitude",
          "longitude"
         ],
         "dtype": "float32",
         "name": "ishf"
        },
        "isor": {
         "attrs": {
          "long_name": "Anisotropy of sub-gridscale orography",
          "units": "~"
         },
         "dims": [
          "time",
          "latitude",
          "longitude"
         ],
         "dtype": "float32",
         "name": "isor"
        },
        "istl1": {
         "attrs": {
          "long_name": "Ice temperature layer 1",
          "units": "K"
         },
         "dims": [
          "time",
          "latitude",
          "longitude"
         ],
         "dtype": "float32",
         "name": "istl1"
        },
        "istl2": {
         "attrs": {
          "long_name": "Ice temperature layer 2",
          "units": "K"
         },
         "dims": [
          "time",
          "latitude",
          "longitude"
         ],
         "dtype": "float32",
         "name": "istl2"
        },
        "istl3": {
         "attrs": {
          "long_name": "Ice temperature layer 3",
          "units": "K"
         },
         "dims": [
          "time",
          "latitude",
          "longitude"
         ],
         "dtype": "float32",
         "name": "istl3"
        },
        "istl4": {
         "attrs": {
          "long_name": "Ice temperature layer 4",
          "units": "K"
         },
         "dims": [
          "time",
          "latitude",
          "longitude"
         ],
         "dtype": "float32",
         "name": "istl4"
        },
        "kx": {
         "attrs": {
          "long_name": "K index",
          "units": "K"
         },
         "dims": [
          "time",
          "latitude",
          "longitude"
         ],
         "dtype": "float32",
         "name": "kx"
        },
        "lai_hv": {
         "attrs": {
          "long_name": "Leaf area index, high vegetation",
          "units": "m**2 m**-2"
         },
         "dims": [
          "time",
          "latitude",
          "longitude"
         ],
         "dtype": "float32",
         "name": "lai_hv"
        },
        "lai_lv": {
         "attrs": {
          "long_name": "Leaf area index, low vegetation",
          "units": "m**2 m**-2"
         },
         "dims": [
          "time",
          "latitude",
          "longitude"
         ],
         "dtype": "float32",
         "name": "lai_lv"
        },
        "lblt": {
         "attrs": {
          "long_name": "Lake bottom temperature",
          "units": "K"
         },
         "dims": [
          "time",
          "latitude",
          "longitude"
         ],
         "dtype": "float32",
         "name": "lblt"
        },
        "lcc": {
         "attrs": {
          "long_name": "Low cloud cover",
          "units": "[0 - 1]"
         },
         "dims": [
          "time",
          "latitude",
          "longitude"
         ],
         "dtype": "float32",
         "name": "lcc"
        },
        "lgws": {
         "attrs": {
          "long_name": "Eastward gravity wave surface stress",
          "units": "N m**-2 s"
         },
         "dims": [
          "time",
          "latitude",
          "longitude"
         ],
         "dtype": "float32",
         "name": "lgws"
        },
        "licd": {
         "attrs": {
          "long_name": "Lake ice depth",
          "units": "m"
         },
         "dims": [
          "time",
          "latitude",
          "longitude"
         ],
         "dtype": "float32",
         "name": "licd"
        },
        "lict": {
         "attrs": {
          "long_name": "Lake ice temperature",
          "units": "K"
         },
         "dims": [
          "time",
          "latitude",
          "longitude"
         ],
         "dtype": "float32",
         "name": "lict"
        },
        "lmld": {
         "attrs": {
          "long_name": "Lake mix-layer depth",
          "units": "m"
         },
         "dims": [
          "time",
          "latitude",
          "longitude"
         ],
         "dtype": "float32",
         "name": "lmld"
        },
        "lmlt": {
         "attrs": {
          "long_name": "Lake mix-layer temperature",
          "units": "K"
         },
         "dims": [
          "time",
          "latitude",
          "longitude"
         ],
         "dtype": "float32",
         "name": "lmlt"
        },
        "lsf": {
         "attrs": {
          "long_name": "Large-scale snowfall",
          "units": "m of water equivalent"
         },
         "dims": [
          "time",
          "latitude",
          "longitude"
         ],
         "dtype": "float32",
         "name": "lsf"
        },
        "lshf": {
         "attrs": {
          "long_name": "Lake shape factor",
          "units": "dimensionless"
         },
         "dims": [
          "time",
          "latitude",
          "longitude"
         ],
         "dtype": "float32",
         "name": "lshf"
        },
        "lsm": {
         "attrs": {
          "long_name": "Land-sea mask",
          "units": "[0 - 1]"
         },
         "dims": [
          "time",
          "latitude",
          "longitude"
         ],
         "dtype": "float32",
         "name": "lsm"
        },
        "lsp": {
         "attrs": {
          "long_name": "Large-scale precipitation",
          "units": "m"
         },
         "dims": [
          "time",
          "latitude",
          "longitude"
         ],
         "dtype": "float32",
         "name": "lsp"
        },
        "lspf": {
         "attrs": {
          "long_name": "Large-scale precipitation fraction",
          "units": "s"
         },
         "dims": [
          "time",
          "latitude",
          "longitude"
         ],
         "dtype": "float32",
         "name": "lspf"
        },
        "lsrr": {
         "attrs": {
          "long_name": "Large scale rain rate",
          "units": "kg m**-2 s**-1"
         },
         "dims": [
          "time",
          "latitude",
          "longitude"
         ],
         "dtype": "float32",
         "name": "lsrr"
        },
        "lssfr": {
         "attrs": {
          "long_name": "Large scale snowfall rate water equivalent",
          "units": "kg m**-2 s**-1"
         },
         "dims": [
          "time",
          "latitude",
          "longitude"
         ],
         "dtype": "float32",
         "name": "lssfr"
        },
        "ltlt": {
         "attrs": {
          "long_name": "Lake total layer temperature",
          "units": "K"
         },
         "dims": [
          "time",
          "latitude",
          "longitude"
         ],
         "dtype": "float32",
         "name": "ltlt"
        },
        "magss": {
         "attrs": {
          "long_name": "Magnitude of turbulent surface stress",
          "units": "N m**-2 s"
         },
         "dims": [
          "time",
          "latitude",
          "longitude"
         ],
         "dtype": "float32",
         "name": "magss"
        },
        "mbld": {
         "attrs": {
          "long_name": "Mean boundary layer dissipation",
          "units": "W m**-2"
         },
         "dims": [
          "time",
          "latitude",
          "longitude"
         ],
         "dtype": "float32",
         "name": "mbld"
        },
        "mcc": {
         "attrs": {
          "long_name": "Medium cloud cover",
          "units": "[0 - 1]"
         },
         "dims": [
          "time",
          "latitude",
          "longitude"
         ],
         "dtype": "float32",
         "name": "mcc"
        },
        "mcpr": {
         "attrs": {
          "long_name": "Mean convective precipitation rate",
          "units": "kg m**-2 s**-1"
         },
         "dims": [
          "time",
          "latitude",
          "longitude"
         ],
         "dtype": "float32",
         "name": "mcpr"
        },
        "mcsr": {
         "attrs": {
          "long_name": "Mean convective snowfall rate",
          "units": "kg m**-2 s**-1"
         },
         "dims": [
          "time",
          "latitude",
          "longitude"
         ],
         "dtype": "float32",
         "name": "mcsr"
        },
        "mdts": {
         "attrs": {
          "long_name": "Mean direction of total swell",
          "units": "degrees"
         },
         "dims": [
          "time",
          "latitude",
          "longitude"
         ],
         "dtype": "float32",
         "name": "mdts"
        },
        "mdww": {
         "attrs": {
          "long_name": "Mean direction of wind waves",
          "units": "degrees"
         },
         "dims": [
          "time",
          "latitude",
          "longitude"
         ],
         "dtype": "float32",
         "name": "mdww"
        },
        "megwss": {
         "attrs": {
          "long_name": "Mean eastward gravity wave surface stress",
          "units": "N m**-2"
         },
         "dims": [
          "time",
          "latitude",
          "longitude"
         ],
         "dtype": "float32",
         "name": "megwss"
        },
        "mer": {
         "attrs": {
          "long_name": "Mean evaporation rate",
          "units": "kg m**-2 s**-1"
         },
         "dims": [
          "time",
          "latitude",
          "longitude"
         ],
         "dtype": "float32",
         "name": "mer"
        },
        "metss": {
         "attrs": {
          "long_name": "Mean eastward turbulent surface stress",
          "units": "N m**-2"
         },
         "dims": [
          "time",
          "latitude",
          "longitude"
         ],
         "dtype": "float32",
         "name": "metss"
        },
        "mgwd": {
         "attrs": {
          "long_name": "Mean gravity wave dissipation",
          "units": "W m**-2"
         },
         "dims": [
          "time",
          "latitude",
          "longitude"
         ],
         "dtype": "float32",
         "name": "mgwd"
        },
        "mgws": {
         "attrs": {
          "long_name": "Northward gravity wave surface stress",
          "units": "N m**-2 s"
         },
         "dims": [
          "time",
          "latitude",
          "longitude"
         ],
         "dtype": "float32",
         "name": "mgws"
        },
        "mlspf": {
         "attrs": {
          "long_name": "Mean large-scale precipitation fraction",
          "units": "Proportion"
         },
         "dims": [
          "time",
          "latitude",
          "longitude"
         ],
         "dtype": "float32",
         "name": "mlspf"
        },
        "mlspr": {
         "attrs": {
          "long_name": "Mean large-scale precipitation rate",
          "units": "kg m**-2 s**-1"
         },
         "dims": [
          "time",
          "latitude",
          "longitude"
         ],
         "dtype": "float32",
         "name": "mlspr"
        },
        "mlssr": {
         "attrs": {
          "long_name": "Mean large-scale snowfall rate",
          "units": "kg m**-2 s**-1"
         },
         "dims": [
          "time",
          "latitude",
          "longitude"
         ],
         "dtype": "float32",
         "name": "mlssr"
        },
        "mmtss": {
         "attrs": {
          "long_name": "Mean magnitude of turbulent surface stress",
          "units": "N m**-2"
         },
         "dims": [
          "time",
          "latitude",
          "longitude"
         ],
         "dtype": "float32",
         "name": "mmtss"
        },
        "mngwss": {
         "attrs": {
          "long_name": "Mean northward gravity wave surface stress",
          "units": "N m**-2"
         },
         "dims": [
          "time",
          "latitude",
          "longitude"
         ],
         "dtype": "float32",
         "name": "mngwss"
        },
        "mntss": {
         "attrs": {
          "long_name": "Mean northward turbulent surface stress",
          "units": "N m**-2"
         },
         "dims": [
          "time",
          "latitude",
          "longitude"
         ],
         "dtype": "float32",
         "name": "mntss"
        },
        "mp1": {
         "attrs": {
          "long_name": "Mean wave period based on first moment",
          "units": "s"
         },
         "dims": [
          "time",
          "latitude",
          "longitude"
         ],
         "dtype": "float32",
         "name": "mp1"
        },
        "mp2": {
         "attrs": {
          "long_name": "Mean zero-crossing wave period",
          "units": "s"
         },
         "dims": [
          "time",
          "latitude",
          "longitude"
         ],
         "dtype": "float32",
         "name": "mp2"
        },
        "mper": {
         "attrs": {
          "long_name": "Mean potential evaporation rate",
          "units": "kg m**-2 s**-1"
         },
         "dims": [
          "time",
          "latitude",
          "longitude"
         ],
         "dtype": "float32",
         "name": "mper"
        },
        "mpts": {
         "attrs": {
          "long_name": "Mean period of total swell",
          "units": "s"
         },
         "dims": [
          "time",
          "latitude",
          "longitude"
         ],
         "dtype": "float32",
         "name": "mpts"
        },
        "mpww": {
         "attrs": {
          "long_name": "Mean period of wind waves",
          "units": "s"
         },
         "dims": [
          "time",
          "latitude",
          "longitude"
         ],
         "dtype": "float32",
         "name": "mpww"
        },
        "mror": {
         "attrs": {
          "long_name": "Mean runoff rate",
          "units": "kg m**-2 s**-1"
         },
         "dims": [
          "time",
          "latitude",
          "longitude"
         ],
         "dtype": "float32",
         "name": "mror"
        },
        "msdrswrf": {
         "attrs": {
          "long_name": "Mean surface direct short-wave radiation flux",
          "units": "W m**-2"
         },
         "dims": [
          "time",
          "latitude",
          "longitude"
         ],
         "dtype": "float32",
         "name": "msdrswrf"
        },
        "msdrswrfcs": {
         "attrs": {
          "long_name": "Mean surface direct short-wave radiation flux, clear sky",
          "units": "W m**-2"
         },
         "dims": [
          "time",
          "latitude",
          "longitude"
         ],
         "dtype": "float32",
         "name": "msdrswrfcs"
        },
        "msdwlwrf": {
         "attrs": {
          "long_name": "Mean surface downward long-wave radiation flux",
          "units": "W m**-2"
         },
         "dims": [
          "time",
          "latitude",
          "longitude"
         ],
         "dtype": "float32",
         "name": "msdwlwrf"
        },
        "msdwlwrfcs": {
         "attrs": {
          "long_name": "Mean surface downward long-wave radiation flux, clear sky",
          "units": "W m**-2"
         },
         "dims": [
          "time",
          "latitude",
          "longitude"
         ],
         "dtype": "float32",
         "name": "msdwlwrfcs"
        },
        "msdwswrf": {
         "attrs": {
          "long_name": "Mean surface downward short-wave radiation flux",
          "units": "W m**-2"
         },
         "dims": [
          "time",
          "latitude",
          "longitude"
         ],
         "dtype": "float32",
         "name": "msdwswrf"
        },
        "msdwswrfcs": {
         "attrs": {
          "long_name": "Mean surface downward short-wave radiation flux, clear sky",
          "units": "W m**-2"
         },
         "dims": [
          "time",
          "latitude",
          "longitude"
         ],
         "dtype": "float32",
         "name": "msdwswrfcs"
        },
        "msdwuvrf": {
         "attrs": {
          "long_name": "Mean surface downward UV radiation flux",
          "units": "W m**-2"
         },
         "dims": [
          "time",
          "latitude",
          "longitude"
         ],
         "dtype": "float32",
         "name": "msdwuvrf"
        },
        "mser": {
         "attrs": {
          "long_name": "Mean snow evaporation rate",
          "units": "kg m**-2 s**-1"
         },
         "dims": [
          "time",
          "latitude",
          "longitude"
         ],
         "dtype": "float32",
         "name": "mser"
        },
        "msl": {
         "attrs": {
          "long_name": "Mean sea level pressure",
          "units": "Pa"
         },
         "dims": [
          "time",
          "latitude",
          "longitude"
         ],
         "dtype": "float32",
         "name": "msl"
        },
        "mslhf": {
         "attrs": {
          "long_name": "Mean surface latent heat flux",
          "units": "W m**-2"
         },
         "dims": [
          "time",
          "latitude",
          "longitude"
         ],
         "dtype": "float32",
         "name": "mslhf"
        },
        "msmr": {
         "attrs": {
          "long_name": "Mean snowmelt rate",
          "units": "kg m**-2 s**-1"
         },
         "dims": [
          "time",
          "latitude",
          "longitude"
         ],
         "dtype": "float32",
         "name": "msmr"
        },
        "msnlwrf": {
         "attrs": {
          "long_name": "Mean surface net long-wave radiation flux",
          "units": "W m**-2"
         },
         "dims": [
          "time",
          "latitude",
          "longitude"
         ],
         "dtype": "float32",
         "name": "msnlwrf"
        },
        "msnlwrfcs": {
         "attrs": {
          "long_name": "Mean surface net long-wave radiation flux, clear sky",
          "units": "W m**-2"
         },
         "dims": [
          "time",
          "latitude",
          "longitude"
         ],
         "dtype": "float32",
         "name": "msnlwrfcs"
        },
        "msnswrf": {
         "attrs": {
          "long_name": "Mean surface net short-wave radiation flux",
          "units": "W m**-2"
         },
         "dims": [
          "time",
          "latitude",
          "longitude"
         ],
         "dtype": "float32",
         "name": "msnswrf"
        },
        "msnswrfcs": {
         "attrs": {
          "long_name": "Mean surface net short-wave radiation flux, clear sky",
          "units": "W m**-2"
         },
         "dims": [
          "time",
          "latitude",
          "longitude"
         ],
         "dtype": "float32",
         "name": "msnswrfcs"
        },
        "msqs": {
         "attrs": {
          "long_name": "Mean square slope of waves",
          "units": "dimensionless"
         },
         "dims": [
          "time",
          "latitude",
          "longitude"
         ],
         "dtype": "float32",
         "name": "msqs"
        },
        "msr": {
         "attrs": {
          "long_name": "Mean snowfall rate",
          "units": "kg m**-2 s**-1"
         },
         "dims": [
          "time",
          "latitude",
          "longitude"
         ],
         "dtype": "float32",
         "name": "msr"
        },
        "msror": {
         "attrs": {
          "long_name": "Mean surface runoff rate",
          "units": "kg m**-2 s**-1"
         },
         "dims": [
          "time",
          "latitude",
          "longitude"
         ],
         "dtype": "float32",
         "name": "msror"
        },
        "msshf": {
         "attrs": {
          "long_name": "Mean surface sensible heat flux",
          "units": "W m**-2"
         },
         "dims": [
          "time",
          "latitude",
          "longitude"
         ],
         "dtype": "float32",
         "name": "msshf"
        },
        "mssror": {
         "attrs": {
          "long_name": "Mean sub-surface runoff rate",
          "units": "kg m**-2 s**-1"
         },
         "dims": [
          "time",
          "latitude",
          "longitude"
         ],
         "dtype": "float32",
         "name": "mssror"
        },
        "mtdwswrf": {
         "attrs": {
          "long_name": "Mean top downward short-wave radiation flux",
          "units": "W m**-2"
         },
         "dims": [
          "time",
          "latitude",
          "longitude"
         ],
         "dtype": "float32",
         "name": "mtdwswrf"
        },
        "mtnlwrf": {
         "attrs": {
          "long_name": "Mean top net long-wave radiation flux",
          "units": "W m**-2"
         },
         "dims": [
          "time",
          "latitude",
          "longitude"
         ],
         "dtype": "float32",
         "name": "mtnlwrf"
        },
        "mtnlwrfcs": {
         "attrs": {
          "long_name": "Mean top net long-wave radiation flux, clear sky",
          "units": "W m**-2"
         },
         "dims": [
          "time",
          "latitude",
          "longitude"
         ],
         "dtype": "float32",
         "name": "mtnlwrfcs"
        },
        "mtnswrf": {
         "attrs": {
          "long_name": "Mean top net short-wave radiation flux",
          "units": "W m**-2"
         },
         "dims": [
          "time",
          "latitude",
          "longitude"
         ],
         "dtype": "float32",
         "name": "mtnswrf"
        },
        "mtnswrfcs": {
         "attrs": {
          "long_name": "Mean top net short-wave radiation flux, clear sky",
          "units": "W m**-2"
         },
         "dims": [
          "time",
          "latitude",
          "longitude"
         ],
         "dtype": "float32",
         "name": "mtnswrfcs"
        },
        "mtpr": {
         "attrs": {
          "long_name": "Mean total precipitation rate",
          "units": "kg m**-2 s**-1"
         },
         "dims": [
          "time",
          "latitude",
          "longitude"
         ],
         "dtype": "float32",
         "name": "mtpr"
        },
        "mvimd": {
         "attrs": {
          "long_name": "Mean vertically integrated moisture divergence",
          "units": "kg m**-2 s**-1"
         },
         "dims": [
          "time",
          "latitude",
          "longitude"
         ],
         "dtype": "float32",
         "name": "mvimd"
        },
        "mwd": {
         "attrs": {
          "long_name": "Mean wave direction",
          "units": "Degree true"
         },
         "dims": [
          "time",
          "latitude",
          "longitude"
         ],
         "dtype": "float32",
         "name": "mwd"
        },
        "mwp": {
         "attrs": {
          "long_name": "Mean wave period",
          "units": "s"
         },
         "dims": [
          "time",
          "latitude",
          "longitude"
         ],
         "dtype": "float32",
         "name": "mwp"
        },
        "nsss": {
         "attrs": {
          "long_name": "Northward turbulent surface stress",
          "units": "N m**-2 s"
         },
         "dims": [
          "time",
          "latitude",
          "longitude"
         ],
         "dtype": "float32",
         "name": "nsss"
        },
        "p140121": {
         "attrs": {
          "long_name": "Significant wave height of first swell partition",
          "units": "m"
         },
         "dims": [
          "time",
          "latitude",
          "longitude"
         ],
         "dtype": "float32",
         "name": "p140121"
        },
        "p140122": {
         "attrs": {
          "long_name": "Mean wave direction of first swell partition",
          "units": "degrees"
         },
         "dims": [
          "time",
          "latitude",
          "longitude"
         ],
         "dtype": "float32",
         "name": "p140122"
        },
        "p140123": {
         "attrs": {
          "long_name": "Mean wave period of first swell partition",
          "units": "s"
         },
         "dims": [
          "time",
          "latitude",
          "longitude"
         ],
         "dtype": "float32",
         "name": "p140123"
        },
        "p140124": {
         "attrs": {
          "long_name": "Significant wave height of second swell partition",
          "units": "m"
         },
         "dims": [
          "time",
          "latitude",
          "longitude"
         ],
         "dtype": "float32",
         "name": "p140124"
        },
        "p140125": {
         "attrs": {
          "long_name": "Mean wave direction of second swell partition",
          "units": "degrees"
         },
         "dims": [
          "time",
          "latitude",
          "longitude"
         ],
         "dtype": "float32",
         "name": "p140125"
        },
        "p140126": {
         "attrs": {
          "long_name": "Mean wave period of second swell partition",
          "units": "s"
         },
         "dims": [
          "time",
          "latitude",
          "longitude"
         ],
         "dtype": "float32",
         "name": "p140126"
        },
        "p140127": {
         "attrs": {
          "long_name": "Significant wave height of third swell partition",
          "units": "m"
         },
         "dims": [
          "time",
          "latitude",
          "longitude"
         ],
         "dtype": "float32",
         "name": "p140127"
        },
        "p140128": {
         "attrs": {
          "long_name": "Mean wave direction of third swell partition",
          "units": "degrees"
         },
         "dims": [
          "time",
          "latitude",
          "longitude"
         ],
         "dtype": "float32",
         "name": "p140128"
        },
        "p140129": {
         "attrs": {
          "long_name": "Mean wave period of third swell partition",
          "units": "s"
         },
         "dims": [
          "time",
          "latitude",
          "longitude"
         ],
         "dtype": "float32",
         "name": "p140129"
        },
        "p140208": {
         "attrs": {
          "long_name": "Free convective velocity over the oceans",
          "units": "m s**-1"
         },
         "dims": [
          "time",
          "latitude",
          "longitude"
         ],
         "dtype": "float32",
         "name": "p140208"
        },
        "p140209": {
         "attrs": {
          "long_name": "Air density over the oceans",
          "units": "kg m**-3"
         },
         "dims": [
          "time",
          "latitude",
          "longitude"
         ],
         "dtype": "float32",
         "name": "p140209"
        },
        "p1ps": {
         "attrs": {
          "long_name": "Mean wave period based on first moment for swell",
          "units": "s"
         },
         "dims": [
          "time",
          "latitude",
          "longitude"
         ],
         "dtype": "float32",
         "name": "p1ps"
        },
        "p1ww": {
         "attrs": {
          "long_name": "Mean wave period based on first moment for wind waves",
          "units": "s"
         },
         "dims": [
          "time",
          "latitude",
          "longitude"
         ],
         "dtype": "float32",
         "name": "p1ww"
        },
        "p2ps": {
         "attrs": {
          "long_name": "Mean wave period based on second moment for swell",
          "units": "s"
         },
         "dims": [
          "time",
          "latitude",
          "longitude"
         ],
         "dtype": "float32",
         "name": "p2ps"
        },
        "p2ww": {
         "attrs": {
          "long_name": "Mean wave period based on second moment for wind waves",
          "units": "s"
         },
         "dims": [
          "time",
          "latitude",
          "longitude"
         ],
         "dtype": "float32",
         "name": "p2ww"
        },
        "p53.162": {
         "attrs": {
          "long_name": "Vertical integral of mass of atmosphere",
          "units": "kg m**-2"
         },
         "dims": [
          "time",
          "latitude",
          "longitude"
         ],
         "dtype": "float32",
         "name": "p53.162"
        },
        "p54.162": {
         "attrs": {
          "long_name": "Vertical integral of temperature",
          "units": "K kg m**-2"
         },
         "dims": [
          "time",
          "latitude",
          "longitude"
         ],
         "dtype": "float32",
         "name": "p54.162"
        },
        "p59.162": {
         "attrs": {
          "long_name": "Vertical integral of kinetic energy",
          "units": "J m**-2"
         },
         "dims": [
          "time",
          "latitude",
          "longitude"
         ],
         "dtype": "float32",
         "name": "p59.162"
        },
        "p60.162": {
         "attrs": {
          "long_name": "Vertical integral of thermal energy",
          "units": "J m**-2"
         },
         "dims": [
          "time",
          "latitude",
          "longitude"
         ],
         "dtype": "float32",
         "name": "p60.162"
        },
        "p61.162": {
         "attrs": {
          "long_name": "Vertical integral of potential+internal energy",
          "units": "J m**-2"
         },
         "dims": [
          "time",
          "latitude",
          "longitude"
         ],
         "dtype": "float32",
         "name": "p61.162"
        },
        "p62.162": {
         "attrs": {
          "long_name": "Vertical integral of potential+internal+latent energy",
          "units": "J m**-2"
         },
         "dims": [
          "time",
          "latitude",
          "longitude"
         ],
         "dtype": "float32",
         "name": "p62.162"
        },
        "p63.162": {
         "attrs": {
          "long_name": "Vertical integral of total energy",
          "units": "J m**-2"
         },
         "dims": [
          "time",
          "latitude",
          "longitude"
         ],
         "dtype": "float32",
         "name": "p63.162"
        },
        "p64.162": {
         "attrs": {
          "long_name": "Vertical integral of energy conversion",
          "units": "W m**-2"
         },
         "dims": [
          "time",
          "latitude",
          "longitude"
         ],
         "dtype": "float32",
         "name": "p64.162"
        },
        "p65.162": {
         "attrs": {
          "long_name": "Vertical integral of eastward mass flux",
          "units": "kg m**-1 s**-1"
         },
         "dims": [
          "time",
          "latitude",
          "longitude"
         ],
         "dtype": "float32",
         "name": "p65.162"
        },
        "p66.162": {
         "attrs": {
          "long_name": "Vertical integral of northward mass flux",
          "units": "kg m**-1 s**-1"
         },
         "dims": [
          "time",
          "latitude",
          "longitude"
         ],
         "dtype": "float32",
         "name": "p66.162"
        },
        "p67.162": {
         "attrs": {
          "long_name": "Vertical integral of eastward kinetic energy flux",
          "units": "W m**-1"
         },
         "dims": [
          "time",
          "latitude",
          "longitude"
         ],
         "dtype": "float32",
         "name": "p67.162"
        },
        "p68.162": {
         "attrs": {
          "long_name": "Vertical integral of northward kinetic energy flux",
          "units": "W m**-1"
         },
         "dims": [
          "time",
          "latitude",
          "longitude"
         ],
         "dtype": "float32",
         "name": "p68.162"
        },
        "p69.162": {
         "attrs": {
          "long_name": "Vertical integral of eastward heat flux",
          "units": "W m**-1"
         },
         "dims": [
          "time",
          "latitude",
          "longitude"
         ],
         "dtype": "float32",
         "name": "p69.162"
        },
        "p70.162": {
         "attrs": {
          "long_name": "Vertical integral of northward heat flux",
          "units": "W m**-1"
         },
         "dims": [
          "time",
          "latitude",
          "longitude"
         ],
         "dtype": "float32",
         "name": "p70.162"
        },
        "p71.162": {
         "attrs": {
          "long_name": "Vertical integral of eastward water vapour flux",
          "units": "kg m**-1 s**-1"
         },
         "dims": [
          "time",
          "latitude",
          "longitude"
         ],
         "dtype": "float32",
         "name": "p71.162"
        },
        "p72.162": {
         "attrs": {
          "long_name": "Vertical integral of northward water vapour flux",
          "units": "kg m**-1 s**-1"
         },
         "dims": [
          "time",
          "latitude",
          "longitude"
         ],
         "dtype": "float32",
         "name": "p72.162"
        },
        "p73.162": {
         "attrs": {
          "long_name": "Vertical integral of eastward geopotential flux",
          "units": "W m**-1"
         },
         "dims": [
          "time",
          "latitude",
          "longitude"
         ],
         "dtype": "float32",
         "name": "p73.162"
        },
        "p74.162": {
         "attrs": {
          "long_name": "Vertical integral of northward geopotential flux",
          "units": "W m**-1"
         },
         "dims": [
          "time",
          "latitude",
          "longitude"
         ],
         "dtype": "float32",
         "name": "p74.162"
        },
        "p75.162": {
         "attrs": {
          "long_name": "Vertical integral of eastward total energy flux",
          "units": "W m**-1"
         },
         "dims": [
          "time",
          "latitude",
          "longitude"
         ],
         "dtype": "float32",
         "name": "p75.162"
        },
        "p76.162": {
         "attrs": {
          "long_name": "Vertical integral of northward total energy flux",
          "units": "W m**-1"
         },
         "dims": [
          "time",
          "latitude",
          "longitude"
         ],
         "dtype": "float32",
         "name": "p76.162"
        },
        "p77.162": {
         "attrs": {
          "long_name": "Vertical integral of eastward ozone flux",
          "units": "kg m**-1 s**-1"
         },
         "dims": [
          "time",
          "latitude",
          "longitude"
         ],
         "dtype": "float32",
         "name": "p77.162"
        },
        "p78.162": {
         "attrs": {
          "long_name": "Vertical integral of northward ozone flux",
          "units": "kg m**-1 s**-1"
         },
         "dims": [
          "time",
          "latitude",
          "longitude"
         ],
         "dtype": "float32",
         "name": "p78.162"
        },
        "p79.162": {
         "attrs": {
          "long_name": "Vertical integral of divergence of cloud liquid water flux",
          "units": "kg m**-2 s**-1"
         },
         "dims": [
          "time",
          "latitude",
          "longitude"
         ],
         "dtype": "float32",
         "name": "p79.162"
        },
        "p80.162": {
         "attrs": {
          "long_name": "Vertical integral of divergence of cloud frozen water flux",
          "units": "kg m**-2 s**-1"
         },
         "dims": [
          "time",
          "latitude",
          "longitude"
         ],
         "dtype": "float32",
         "name": "p80.162"
        },
        "p81.162": {
         "attrs": {
          "long_name": "Vertical integral of divergence of mass flux",
          "units": "kg m**-2 s**-1"
         },
         "dims": [
          "time",
          "latitude",
          "longitude"
         ],
         "dtype": "float32",
         "name": "p81.162"
        },
        "p82.162": {
         "attrs": {
          "long_name": "Vertical integral of divergence of kinetic energy flux",
          "units": "W m**-2"
         },
         "dims": [
          "time",
          "latitude",
          "longitude"
         ],
         "dtype": "float32",
         "name": "p82.162"
        },
        "p83.162": {
         "attrs": {
          "long_name": "Vertical integral of divergence of thermal energy flux",
          "units": "W m**-2"
         },
         "dims": [
          "time",
          "latitude",
          "longitude"
         ],
         "dtype": "float32",
         "name": "p83.162"
        },
        "p84.162": {
         "attrs": {
          "long_name": "Vertical integral of divergence of moisture flux",
          "units": "kg m**-2 s**-1"
         },
         "dims": [
          "time",
          "latitude",
          "longitude"
         ],
         "dtype": "float32",
         "name": "p84.162"
        },
        "p85.162": {
         "attrs": {
          "long_name": "Vertical integral of divergence of geopotential flux",
          "units": "W m**-2"
         },
         "dims": [
          "time",
          "latitude",
          "longitude"
         ],
         "dtype": "float32",
         "name": "p85.162"
        },
        "p86.162": {
         "attrs": {
          "long_name": "Vertical integral of divergence of total energy flux",
          "units": "W m**-2"
         },
         "dims": [
          "time",
          "latitude",
          "longitude"
         ],
         "dtype": "float32",
         "name": "p86.162"
        },
        "p87.162": {
         "attrs": {
          "long_name": "Vertical integral of divergence of ozone flux",
          "units": "kg m**-2 s**-1"
         },
         "dims": [
          "time",
          "latitude",
          "longitude"
         ],
         "dtype": "float32",
         "name": "p87.162"
        },
        "p88.162": {
         "attrs": {
          "long_name": "Vertical integral of eastward cloud liquid water flux",
          "units": "kg m**-1 s**-1"
         },
         "dims": [
          "time",
          "latitude",
          "longitude"
         ],
         "dtype": "float32",
         "name": "p88.162"
        },
        "p89.162": {
         "attrs": {
          "long_name": "Vertical integral of northward cloud liquid water flux",
          "units": "kg m**-1 s**-1"
         },
         "dims": [
          "time",
          "latitude",
          "longitude"
         ],
         "dtype": "float32",
         "name": "p89.162"
        },
        "p90.162": {
         "attrs": {
          "long_name": "Vertical integral of eastward cloud frozen water flux",
          "units": "kg m**-1 s**-1"
         },
         "dims": [
          "time",
          "latitude",
          "longitude"
         ],
         "dtype": "float32",
         "name": "p90.162"
        },
        "p91.162": {
         "attrs": {
          "long_name": "Vertical integral of northward cloud frozen water flux ",
          "units": "kg m**-1 s**-1"
         },
         "dims": [
          "time",
          "latitude",
          "longitude"
         ],
         "dtype": "float32",
         "name": "p91.162"
        },
        "p92.162": {
         "attrs": {
          "long_name": "Vertical integral of mass tendency",
          "units": "kg m**-2 s**-1"
         },
         "dims": [
          "time",
          "latitude",
          "longitude"
         ],
         "dtype": "float32",
         "name": "p92.162"
        },
        "pev": {
         "attrs": {
          "long_name": "Potential evaporation",
          "units": "m"
         },
         "dims": [
          "time",
          "latitude",
          "longitude"
         ],
         "dtype": "float32",
         "name": "pev"
        },
        "phiaw": {
         "attrs": {
          "long_name": "Normalized energy flux into waves",
          "units": "dimensionless"
         },
         "dims": [
          "time",
          "latitude",
          "longitude"
         ],
         "dtype": "float32",
         "name": "phiaw"
        },
        "phioc": {
         "attrs": {
          "long_name": "Normalized energy flux into ocean",
          "units": "dimensionless"
         },
         "dims": [
          "time",
          "latitude",
          "longitude"
         ],
         "dtype": "float32",
         "name": "phioc"
        },
        "pp1d": {
         "attrs": {
          "long_name": "Peak wave period",
          "units": "s"
         },
         "dims": [
          "time",
          "latitude",
          "longitude"
         ],
         "dtype": "float32",
         "name": "pp1d"
        },
        "ptype": {
         "attrs": {
          "long_name": "Precipitation type",
          "units": "code table [4.201]"
         },
         "dims": [
          "time",
          "latitude",
          "longitude"
         ],
         "dtype": "float32",
         "name": "ptype"
        },
        "ro": {
         "attrs": {
          "long_name": "Runoff",
          "units": "m"
         },
         "dims": [
          "time",
          "latitude",
          "longitude"
         ],
         "dtype": "float32",
         "name": "ro"
        },
        "rsn": {
         "attrs": {
          "long_name": "Snow density",
          "units": "kg m**-3"
         },
         "dims": [
          "time",
          "latitude",
          "longitude"
         ],
         "dtype": "float32",
         "name": "rsn"
        },
        "sd": {
         "attrs": {
          "long_name": "Snow depth",
          "units": "m of water equivalent"
         },
         "dims": [
          "time",
          "latitude",
          "longitude"
         ],
         "dtype": "float32",
         "name": "sd"
        },
        "sdfor": {
         "attrs": {
          "long_name": "Standard deviation of filtered subgrid orography",
          "units": "m"
         },
         "dims": [
          "time",
          "latitude",
          "longitude"
         ],
         "dtype": "float32",
         "name": "sdfor"
        },
        "sdor": {
         "attrs": {
          "long_name": "Standard deviation of orography",
          "units": "~"
         },
         "dims": [
          "time",
          "latitude",
          "longitude"
         ],
         "dtype": "float32",
         "name": "sdor"
        },
        "sf": {
         "attrs": {
          "long_name": "Snowfall",
          "units": "m of water equivalent"
         },
         "dims": [
          "time",
          "latitude",
          "longitude"
         ],
         "dtype": "float32",
         "name": "sf"
        },
        "shts": {
         "attrs": {
          "long_name": "Significant height of total swell",
          "units": "m"
         },
         "dims": [
          "time",
          "latitude",
          "longitude"
         ],
         "dtype": "float32",
         "name": "shts"
        },
        "shww": {
         "attrs": {
          "long_name": "Significant height of wind waves",
          "units": "m"
         },
         "dims": [
          "time",
          "latitude",
          "longitude"
         ],
         "dtype": "float32",
         "name": "shww"
        },
        "si10": {
         "attrs": {
          "long_name": "10 metre wind speed",
          "units": "m s**-1"
         },
         "dims": [
          "time",
          "latitude",
          "longitude"
         ],
         "dtype": "float32",
         "name": "si10"
        },
        "siconc": {
         "attrs": {
          "long_name": "Sea ice area fraction",
          "units": "[0 - 1]"
         },
         "dims": [
          "time",
          "latitude",
          "longitude"
         ],
         "dtype": "float32",
         "name": "siconc"
        },
        "skt": {
         "attrs": {
          "long_name": "Skin temperature",
          "units": "K"
         },
         "dims": [
          "time",
          "latitude",
          "longitude"
         ],
         "dtype": "float32",
         "name": "skt"
        },
        "slhf": {
         "attrs": {
          "long_name": "Surface latent heat flux",
          "units": "J m**-2"
         },
         "dims": [
          "time",
          "latitude",
          "longitude"
         ],
         "dtype": "float32",
         "name": "slhf"
        },
        "slor": {
         "attrs": {
          "long_name": "Slope of sub-gridscale orography",
          "units": "~"
         },
         "dims": [
          "time",
          "latitude",
          "longitude"
         ],
         "dtype": "float32",
         "name": "slor"
        },
        "slt": {
         "attrs": {
          "long_name": "Soil type",
          "units": "~"
         },
         "dims": [
          "time",
          "latitude",
          "longitude"
         ],
         "dtype": "float32",
         "name": "slt"
        },
        "smlt": {
         "attrs": {
          "long_name": "Snowmelt",
          "units": "m of water equivalent"
         },
         "dims": [
          "time",
          "latitude",
          "longitude"
         ],
         "dtype": "float32",
         "name": "smlt"
        },
        "sp": {
         "attrs": {
          "long_name": "Surface pressure",
          "units": "Pa"
         },
         "dims": [
          "time",
          "latitude",
          "longitude"
         ],
         "dtype": "float32",
         "name": "sp"
        },
        "src": {
         "attrs": {
          "long_name": "Skin reservoir content",
          "units": "m of water equivalent"
         },
         "dims": [
          "time",
          "latitude",
          "longitude"
         ],
         "dtype": "float32",
         "name": "src"
        },
        "sro": {
         "attrs": {
          "long_name": "Surface runoff",
          "units": "m"
         },
         "dims": [
          "time",
          "latitude",
          "longitude"
         ],
         "dtype": "float32",
         "name": "sro"
        },
        "sshf": {
         "attrs": {
          "long_name": "Surface sensible heat flux",
          "units": "J m**-2"
         },
         "dims": [
          "time",
          "latitude",
          "longitude"
         ],
         "dtype": "float32",
         "name": "sshf"
        },
        "ssr": {
         "attrs": {
          "long_name": "Surface net solar radiation",
          "units": "J m**-2"
         },
         "dims": [
          "time",
          "latitude",
          "longitude"
         ],
         "dtype": "float32",
         "name": "ssr"
        },
        "ssrc": {
         "attrs": {
          "long_name": "Surface net solar radiation, clear sky",
          "units": "J m**-2"
         },
         "dims": [
          "time",
          "latitude",
          "longitude"
         ],
         "dtype": "float32",
         "name": "ssrc"
        },
        "ssrd": {
         "attrs": {
          "long_name": "Surface solar radiation downwards",
          "units": "J m**-2"
         },
         "dims": [
          "time",
          "latitude",
          "longitude"
         ],
         "dtype": "float32",
         "name": "ssrd"
        },
        "ssrdc": {
         "attrs": {
          "long_name": "Surface solar radiation downward clear-sky",
          "units": "J m**-2"
         },
         "dims": [
          "time",
          "latitude",
          "longitude"
         ],
         "dtype": "float32",
         "name": "ssrdc"
        },
        "ssro": {
         "attrs": {
          "long_name": "Sub-surface runoff",
          "units": "m"
         },
         "dims": [
          "time",
          "latitude",
          "longitude"
         ],
         "dtype": "float32",
         "name": "ssro"
        },
        "sst": {
         "attrs": {
          "long_name": "Sea surface temperature",
          "units": "K"
         },
         "dims": [
          "time",
          "latitude",
          "longitude"
         ],
         "dtype": "float32",
         "name": "sst"
        },
        "stl1": {
         "attrs": {
          "long_name": "Soil temperature level 1",
          "units": "K"
         },
         "dims": [
          "time",
          "latitude",
          "longitude"
         ],
         "dtype": "float32",
         "name": "stl1"
        },
        "stl2": {
         "attrs": {
          "long_name": "Soil temperature level 2",
          "units": "K"
         },
         "dims": [
          "time",
          "latitude",
          "longitude"
         ],
         "dtype": "float32",
         "name": "stl2"
        },
        "stl3": {
         "attrs": {
          "long_name": "Soil temperature level 3",
          "units": "K"
         },
         "dims": [
          "time",
          "latitude",
          "longitude"
         ],
         "dtype": "float32",
         "name": "stl3"
        },
        "stl4": {
         "attrs": {
          "long_name": "Soil temperature level 4",
          "units": "K"
         },
         "dims": [
          "time",
          "latitude",
          "longitude"
         ],
         "dtype": "float32",
         "name": "stl4"
        },
        "str": {
         "attrs": {
          "long_name": "Surface net thermal radiation",
          "units": "J m**-2"
         },
         "dims": [
          "time",
          "latitude",
          "longitude"
         ],
         "dtype": "float32",
         "name": "str"
        },
        "strc": {
         "attrs": {
          "long_name": "Surface net thermal radiation, clear sky",
          "units": "J m**-2"
         },
         "dims": [
          "time",
          "latitude",
          "longitude"
         ],
         "dtype": "float32",
         "name": "strc"
        },
        "strd": {
         "attrs": {
          "long_name": "Surface thermal radiation downwards",
          "units": "J m**-2"
         },
         "dims": [
          "time",
          "latitude",
          "longitude"
         ],
         "dtype": "float32",
         "name": "strd"
        },
        "strdc": {
         "attrs": {
          "long_name": "Surface thermal radiation downward clear-sky",
          "units": "J m**-2"
         },
         "dims": [
          "time",
          "latitude",
          "longitude"
         ],
         "dtype": "float32",
         "name": "strdc"
        },
        "swh": {
         "attrs": {
          "long_name": "Significant height of combined wind waves and swell",
          "units": "m"
         },
         "dims": [
          "time",
          "latitude",
          "longitude"
         ],
         "dtype": "float32",
         "name": "swh"
        },
        "swvl1": {
         "attrs": {
          "long_name": "Volumetric soil water layer 1",
          "units": "m**3 m**-3"
         },
         "dims": [
          "time",
          "latitude",
          "longitude"
         ],
         "dtype": "float32",
         "name": "swvl1"
        },
        "swvl2": {
         "attrs": {
          "long_name": "Volumetric soil water layer 2",
          "units": "m**3 m**-3"
         },
         "dims": [
          "time",
          "latitude",
          "longitude"
         ],
         "dtype": "float32",
         "name": "swvl2"
        },
        "swvl3": {
         "attrs": {
          "long_name": "Volumetric soil water layer 3",
          "units": "m**3 m**-3"
         },
         "dims": [
          "time",
          "latitude",
          "longitude"
         ],
         "dtype": "float32",
         "name": "swvl3"
        },
        "swvl4": {
         "attrs": {
          "long_name": "Volumetric soil water layer 4",
          "units": "m**3 m**-3"
         },
         "dims": [
          "time",
          "latitude",
          "longitude"
         ],
         "dtype": "float32",
         "name": "swvl4"
        },
        "t2m": {
         "attrs": {
          "long_name": "2 metre temperature",
          "units": "K"
         },
         "dims": [
          "time",
          "latitude",
          "longitude"
         ],
         "dtype": "float32",
         "name": "t2m"
        },
        "tauoc": {
         "attrs": {
          "long_name": "Normalized stress into ocean",
          "units": "dimensionless"
         },
         "dims": [
          "time",
          "latitude",
          "longitude"
         ],
         "dtype": "float32",
         "name": "tauoc"
        },
        "tcc": {
         "attrs": {
          "long_name": "Total cloud cover",
          "units": "[0 - 1]"
         },
         "dims": [
          "time",
          "latitude",
          "longitude"
         ],
         "dtype": "float32",
         "name": "tcc"
        },
        "tciw": {
         "attrs": {
          "long_name": "Total column cloud ice water",
          "units": "kg m**-2"
         },
         "dims": [
          "time",
          "latitude",
          "longitude"
         ],
         "dtype": "float32",
         "name": "tciw"
        },
        "tclw": {
         "attrs": {
          "long_name": "Total column cloud liquid water",
          "units": "kg m**-2"
         },
         "dims": [
          "time",
          "latitude",
          "longitude"
         ],
         "dtype": "float32",
         "name": "tclw"
        },
        "tco3": {
         "attrs": {
          "long_name": "Total column ozone",
          "units": "kg m**-2"
         },
         "dims": [
          "time",
          "latitude",
          "longitude"
         ],
         "dtype": "float32",
         "name": "tco3"
        },
        "tcrw": {
         "attrs": {
          "long_name": "Total column rain water",
          "units": "kg m**-2"
         },
         "dims": [
          "time",
          "latitude",
          "longitude"
         ],
         "dtype": "float32",
         "name": "tcrw"
        },
        "tcslw": {
         "attrs": {
          "long_name": "Total column supercooled liquid water",
          "units": "kg m**-2"
         },
         "dims": [
          "time",
          "latitude",
          "longitude"
         ],
         "dtype": "float32",
         "name": "tcslw"
        },
        "tcsw": {
         "attrs": {
          "long_name": "Total column snow water",
          "units": "kg m**-2"
         },
         "dims": [
          "time",
          "latitude",
          "longitude"
         ],
         "dtype": "float32",
         "name": "tcsw"
        },
        "tcw": {
         "attrs": {
          "long_name": "Total column water",
          "units": "kg m**-2"
         },
         "dims": [
          "time",
          "latitude",
          "longitude"
         ],
         "dtype": "float32",
         "name": "tcw"
        },
        "tcwv": {
         "attrs": {
          "long_name": "Total column water vapour",
          "units": "kg m**-2"
         },
         "dims": [
          "time",
          "latitude",
          "longitude"
         ],
         "dtype": "float32",
         "name": "tcwv"
        },
        "tisr": {
         "attrs": {
          "long_name": "TOA incident solar radiation",
          "units": "J m**-2"
         },
         "dims": [
          "time",
          "latitude",
          "longitude"
         ],
         "dtype": "float32",
         "name": "tisr"
        },
        "tmax": {
         "attrs": {
          "long_name": "Period corresponding to maximum individual wave height",
          "units": "s"
         },
         "dims": [
          "time",
          "latitude",
          "longitude"
         ],
         "dtype": "float32",
         "name": "tmax"
        },
        "totalx": {
         "attrs": {
          "long_name": "Total totals index",
          "units": "K"
         },
         "dims": [
          "time",
          "latitude",
          "longitude"
         ],
         "dtype": "float32",
         "name": "totalx"
        },
        "tp": {
         "attrs": {
          "long_name": "Total precipitation",
          "units": "m"
         },
         "dims": [
          "time",
          "latitude",
          "longitude"
         ],
         "dtype": "float32",
         "name": "tp"
        },
        "tplb": {
         "attrs": {
          "long_name": "Trapping layer base height",
          "units": "m"
         },
         "dims": [
          "time",
          "latitude",
          "longitude"
         ],
         "dtype": "float32",
         "name": "tplb"
        },
        "tplt": {
         "attrs": {
          "long_name": "Trapping layer top height",
          "units": "m"
         },
         "dims": [
          "time",
          "latitude",
          "longitude"
         ],
         "dtype": "float32",
         "name": "tplt"
        },
        "tsn": {
         "attrs": {
          "long_name": "Temperature of snow layer",
          "units": "K"
         },
         "dims": [
          "time",
          "latitude",
          "longitude"
         ],
         "dtype": "float32",
         "name": "tsn"
        },
        "tsr": {
         "attrs": {
          "long_name": "Top net solar radiation",
          "units": "J m**-2"
         },
         "dims": [
          "time",
          "latitude",
          "longitude"
         ],
         "dtype": "float32",
         "name": "tsr"
        },
        "tsrc": {
         "attrs": {
          "long_name": "Top net solar radiation, clear sky",
          "units": "J m**-2"
         },
         "dims": [
          "time",
          "latitude",
          "longitude"
         ],
         "dtype": "float32",
         "name": "tsrc"
        },
        "ttr": {
         "attrs": {
          "long_name": "Top net thermal radiation",
          "units": "J m**-2"
         },
         "dims": [
          "time",
          "latitude",
          "longitude"
         ],
         "dtype": "float32",
         "name": "ttr"
        },
        "ttrc": {
         "attrs": {
          "long_name": "Top net thermal radiation, clear sky",
          "units": "J m**-2"
         },
         "dims": [
          "time",
          "latitude",
          "longitude"
         ],
         "dtype": "float32",
         "name": "ttrc"
        },
        "tvh": {
         "attrs": {
          "long_name": "Type of high vegetation",
          "units": "~"
         },
         "dims": [
          "time",
          "latitude",
          "longitude"
         ],
         "dtype": "float32",
         "name": "tvh"
        },
        "tvl": {
         "attrs": {
          "long_name": "Type of low vegetation",
          "units": "~"
         },
         "dims": [
          "time",
          "latitude",
          "longitude"
         ],
         "dtype": "float32",
         "name": "tvl"
        },
        "u10": {
         "attrs": {
          "long_name": "10 metre U wind component",
          "units": "m s**-1"
         },
         "dims": [
          "time",
          "latitude",
          "longitude"
         ],
         "dtype": "float32",
         "name": "u10"
        },
        "u100": {
         "attrs": {
          "long_name": "100 metre U wind component",
          "units": "m s**-1"
         },
         "dims": [
          "time",
          "latitude",
          "longitude"
         ],
         "dtype": "float32",
         "name": "u100"
        },
        "u10n": {
         "attrs": {
          "long_name": "Neutral wind at 10 m u-component",
          "units": "m s**-1"
         },
         "dims": [
          "time",
          "latitude",
          "longitude"
         ],
         "dtype": "float32",
         "name": "u10n"
        },
        "ust": {
         "attrs": {
          "long_name": "U-component stokes drift",
          "units": "m s**-1"
         },
         "dims": [
          "time",
          "latitude",
          "longitude"
         ],
         "dtype": "float32",
         "name": "ust"
        },
        "uvb": {
         "attrs": {
          "long_name": "Downward UV radiation at the surface",
          "units": "J m**-2"
         },
         "dims": [
          "time",
          "latitude",
          "longitude"
         ],
         "dtype": "float32",
         "name": "uvb"
        },
        "v10": {
         "attrs": {
          "long_name": "10 metre V wind component",
          "units": "m s**-1"
         },
         "dims": [
          "time",
          "latitude",
          "longitude"
         ],
         "dtype": "float32",
         "name": "v10"
        },
        "v100": {
         "attrs": {
          "long_name": "100 metre V wind component",
          "units": "m s**-1"
         },
         "dims": [
          "time",
          "latitude",
          "longitude"
         ],
         "dtype": "float32",
         "name": "v100"
        },
        "v10n": {
         "attrs": {
          "long_name": "Neutral wind at 10 m v-component",
          "units": "m s**-1"
         },
         "dims": [
          "time",
          "latitude",
          "longitude"
         ],
         "dtype": "float32",
         "name": "v10n"
        },
        "vimd": {
         "attrs": {
          "long_name": "Vertically integrated moisture divergence",
          "units": "kg m**-2"
         },
         "dims": [
          "time",
          "latitude",
          "longitude"
         ],
         "dtype": "float32",
         "name": "vimd"
        },
        "vst": {
         "attrs": {
          "long_name": "V-component stokes drift",
          "units": "m s**-1"
         },
         "dims": [
          "time",
          "latitude",
          "longitude"
         ],
         "dtype": "float32",
         "name": "vst"
        },
        "wdw": {
         "attrs": {
          "long_name": "Wave spectral directional width",
          "units": "dimensionless"
         },
         "dims": [
          "time",
          "latitude",
          "longitude"
         ],
         "dtype": "float32",
         "name": "wdw"
        },
        "wind": {
         "attrs": {
          "long_name": "10 metre wind speed",
          "units": "m s**-1"
         },
         "dims": [
          "time",
          "latitude",
          "longitude"
         ],
         "dtype": "float32",
         "name": "wind"
        },
        "wmb": {
         "attrs": {
          "long_name": "Model bathymetry",
          "units": "m"
         },
         "dims": [
          "time",
          "latitude",
          "longitude"
         ],
         "dtype": "float32",
         "name": "wmb"
        },
        "wsk": {
         "attrs": {
          "long_name": "Wave spectral kurtosis",
          "units": "dimensionless"
         },
         "dims": [
          "time",
          "latitude",
          "longitude"
         ],
         "dtype": "float32",
         "name": "wsk"
        },
        "wsp": {
         "attrs": {
          "long_name": "Wave spectral peakedness",
          "units": "dimensionless"
         },
         "dims": [
          "time",
          "latitude",
          "longitude"
         ],
         "dtype": "float32",
         "name": "wsp"
        },
        "wss": {
         "attrs": {
          "long_name": "Wave Spectral Skewness",
          "units": "dimensionless"
         },
         "dims": [
          "time",
          "latitude",
          "longitude"
         ],
         "dtype": "float32",
         "name": "wss"
        },
        "z": {
         "attrs": {
          "long_name": "Geopotential",
          "units": "m**2 s**-2"
         },
         "dims": [
          "time",
          "latitude",
          "longitude"
         ],
         "dtype": "float32",
         "name": "z"
        },
        "zust": {
         "attrs": {
          "long_name": "Friction velocity",
          "units": "m s**-1"
         },
         "dims": [
          "time",
          "latitude",
          "longitude"
         ],
         "dtype": "float32",
         "name": "zust"
        }
       },
       "open_params_schema": {
        "additionalProperties": false,
        "properties": {
         "bbox": {
          "description": "bounding box (min_x, min_y, max_x, max_y)",
          "items": [
           {
            "maximum": 180,
            "minimum": -180,
            "type": "number"
           },
           {
            "maximum": 90,
            "minimum": -90,
            "type": "number"
           },
           {
            "maximum": 180,
            "minimum": -180,
            "type": "number"
           },
           {
            "maximum": 90,
            "minimum": -90,
            "type": "number"
           }
          ],
          "type": "array"
         },
         "spatial_res": {
          "description": "spatial resolution",
          "maximum": 10,
          "minimum": 0.25,
          "type": "number"
         },
         "time_range": {
          "items": [
           {
            "format": "date",
            "type": "string"
           },
           {
            "format": "date",
            "type": "string"
           }
          ],
          "type": "array"
         },
         "variable_names": {
          "description": "identifiers of the requested variables",
          "items": {
           "enum": [
            "100m_u_component_of_wind",
            "100m_v_component_of_wind",
            "10m_u_component_of_neutral_wind",
            "10m_u_component_of_wind",
            "10m_v_component_of_neutral_wind",
            "10m_v_component_of_wind",
            "10m_wind_speed",
            "2m_dewpoint_temperature",
            "2m_temperature",
            "air_density_over_the_oceans",
            "angle_of_sub_gridscale_orography",
            "anisotropy_of_sub_gridscale_orography",
            "benjamin_feir_index",
            "boundary_layer_dissipation",
            "boundary_layer_height",
            "charnock",
            "clear_sky_direct_solar_radiation_at_surface",
            "cloud_base_height",
            "coefficient_of_drag_with_waves",
            "convective_available_potential_energy",
            "convective_inhibition",
            "convective_precipitation",
            "convective_rain_rate",
            "convective_snowfall",
            "convective_snowfall_rate_water_equivalent",
            "downward_uv_radiation_at_the_surface",
            "duct_base_height",
            "eastward_gravity_wave_surface_stress",
            "eastward_turbulent_surface_stress",
            "evaporation",
            "forecast_albedo",
            "forecast_logarithm_of_surface_roughness_for_heat",
            "forecast_surface_roughness",
            "free_convective_velocity_over_the_oceans",
            "friction_velocity",
            "geopotential",
            "gravity_wave_dissipation",
            "high_cloud_cover",
            "high_vegetation_cover",
            "ice_temperature_layer_1",
            "ice_temperature_layer_2",
            "ice_temperature_layer_3",
            "ice_temperature_layer_4",
            "instantaneous_10m_wind_gust",
            "instantaneous_eastward_turbulent_surface_stress",
            "instantaneous_large_scale_surface_precipitation_fraction",
            "instantaneous_moisture_flux",
            "instantaneous_northward_turbulent_surface_stress",
            "instantaneous_surface_sensible_heat_flux",
            "k_index",
            "lake_bottom_temperature",
            "lake_cover",
            "lake_depth",
            "lake_ice_depth",
            "lake_ice_temperature",
            "lake_mix_layer_depth",
            "lake_mix_layer_temperature",
            "lake_shape_factor",
            "lake_total_layer_temperature",
            "land_sea_mask",
            "large_scale_precipitation",
            "large_scale_precipitation_fraction",
            "large_scale_rain_rate",
            "large_scale_snowfall",
            "large_scale_snowfall_rate_water_equivalent",
            "leaf_area_index_high_vegetation",
            "leaf_area_index_low_vegetation",
            "low_cloud_cover",
            "low_vegetation_cover",
            "magnitude_of_turbulent_surface_stress",
            "maximum_individual_wave_height",
            "mean_boundary_layer_dissipation",
            "mean_convective_precipitation_rate",
            "mean_convective_snowfall_rate",
            "mean_direction_of_total_swell",
            "mean_direction_of_wind_waves",
            "mean_eastward_gravity_wave_surface_stress",
            "mean_eastward_turbulent_surface_stress",
            "mean_evaporation_rate",
            "mean_gravity_wave_dissipation",
            "mean_large_scale_precipitation_fraction",
            "mean_large_scale_precipitation_rate",
            "mean_large_scale_snowfall_rate",
            "mean_magnitude_of_turbulent_surface_stress",
            "mean_northward_gravity_wave_surface_stress",
            "mean_northward_turbulent_surface_stress",
            "mean_period_of_total_swell",
            "mean_period_of_wind_waves",
            "mean_potential_evaporation_rate",
            "mean_runoff_rate",
            "mean_sea_level_pressure",
            "mean_snow_evaporation_rate",
            "mean_snowfall_rate",
            "mean_snowmelt_rate",
            "mean_square_slope_of_waves",
            "mean_sub_surface_runoff_rate",
            "mean_surface_direct_short_wave_radiation_flux",
            "mean_surface_direct_short_wave_radiation_flux_clear_sky",
            "mean_surface_downward_long_wave_radiation_flux",
            "mean_surface_downward_long_wave_radiation_flux_clear_sky",
            "mean_surface_downward_short_wave_radiation_flux",
            "mean_surface_downward_short_wave_radiation_flux_clear_sky",
            "mean_surface_downward_uv_radiation_flux",
            "mean_surface_latent_heat_flux",
            "mean_surface_net_long_wave_radiation_flux",
            "mean_surface_net_long_wave_radiation_flux_clear_sky",
            "mean_surface_net_short_wave_radiation_flux",
            "mean_surface_net_short_wave_radiation_flux_clear_sky",
            "mean_surface_runoff_rate",
            "mean_surface_sensible_heat_flux",
            "mean_top_downward_short_wave_radiation_flux",
            "mean_top_net_long_wave_radiation_flux",
            "mean_top_net_long_wave_radiation_flux_clear_sky",
            "mean_top_net_short_wave_radiation_flux",
            "mean_top_net_short_wave_radiation_flux_clear_sky",
            "mean_total_precipitation_rate",
            "mean_vertical_gradient_of_refractivity_inside_trapping_layer",
            "mean_vertically_integrated_moisture_divergence",
            "mean_wave_direction",
            "mean_wave_direction_of_first_swell_partition",
            "mean_wave_direction_of_second_swell_partition",
            "mean_wave_direction_of_third_swell_partition",
            "mean_wave_period",
            "mean_wave_period_based_on_first_moment",
            "mean_wave_period_based_on_first_moment_for_swell",
            "mean_wave_period_based_on_first_moment_for_wind_waves",
            "mean_wave_period_based_on_second_moment_for_swell",
            "mean_wave_period_based_on_second_moment_for_wind_waves",
            "mean_wave_period_of_first_swell_partition",
            "mean_wave_period_of_second_swell_partition",
            "mean_wave_period_of_third_swell_partition",
            "mean_zero_crossing_wave_period",
            "medium_cloud_cover",
            "minimum_vertical_gradient_of_refractivity_inside_trapping_layer",
            "model_bathymetry",
            "near_ir_albedo_for_diffuse_radiation",
            "near_ir_albedo_for_direct_radiation",
            "normalized_energy_flux_into_ocean",
            "normalized_energy_flux_into_waves",
            "normalized_stress_into_ocean",
            "northward_gravity_wave_surface_stress",
            "northward_turbulent_surface_stress",
            "ocean_surface_stress_equivalent_10m_neutral_wind_direction",
            "ocean_surface_stress_equivalent_10m_neutral_wind_speed",
            "peak_wave_period",
            "period_corresponding_to_maximum_individual_wave_height",
            "potential_evaporation",
            "precipitation_type",
            "runoff",
            "sea_ice_cover",
            "sea_surface_temperature",
            "significant_height_of_combined_wind_waves_and_swell",
            "significant_height_of_total_swell",
            "significant_height_of_wind_waves",
            "significant_wave_height_of_first_swell_partition",
            "significant_wave_height_of_second_swell_partition",
            "significant_wave_height_of_third_swell_partition",
            "skin_reservoir_content",
            "skin_temperature",
            "slope_of_sub_gridscale_orography",
            "snow_albedo",
            "snow_density",
            "snow_depth",
            "snow_evaporation",
            "snowfall",
            "snowmelt",
            "soil_temperature_level_1",
            "soil_temperature_level_2",
            "soil_temperature_level_3",
            "soil_temperature_level_4",
            "soil_type",
            "standard_deviation_of_filtered_subgrid_orography",
            "standard_deviation_of_orography",
            "sub_surface_runoff",
            "surface_latent_heat_flux",
            "surface_net_solar_radiation",
            "surface_net_solar_radiation_clear_sky",
            "surface_net_thermal_radiation",
            "surface_net_thermal_radiation_clear_sky",
            "surface_pressure",
            "surface_runoff",
            "surface_sensible_heat_flux",
            "surface_solar_radiation_downward_clear_sky",
            "surface_solar_radiation_downwards",
            "surface_thermal_radiation_downward_clear_sky",
            "surface_thermal_radiation_downwards",
            "temperature_of_snow_layer",
            "toa_incident_solar_radiation",
            "top_net_solar_radiation",
            "top_net_solar_radiation_clear_sky",
            "top_net_thermal_radiation",
            "top_net_thermal_radiation_clear_sky",
            "total_cloud_cover",
            "total_column_cloud_ice_water",
            "total_column_cloud_liquid_water",
            "total_column_ozone",
            "total_column_rain_water",
            "total_column_snow_water",
            "total_column_supercooled_liquid_water",
            "total_column_water",
            "total_column_water_vapour",
            "total_precipitation",
            "total_sky_direct_solar_radiation_at_surface",
            "total_totals_index",
            "trapping_layer_base_height",
            "trapping_layer_top_height",
            "type_of_high_vegetation",
            "type_of_low_vegetation",
            "u_component_stokes_drift",
            "uv_visible_albedo_for_diffuse_radiation",
            "uv_visible_albedo_for_direct_radiation",
            "v_component_stokes_drift",
            "vertical_integral_of_divergence_of_cloud_frozen_water_flux",
            "vertical_integral_of_divergence_of_cloud_liquid_water_flux",
            "vertical_integral_of_divergence_of_geopotential_flux",
            "vertical_integral_of_divergence_of_kinetic_energy_flux",
            "vertical_integral_of_divergence_of_mass_flux",
            "vertical_integral_of_divergence_of_moisture_flux",
            "vertical_integral_of_divergence_of_ozone_flux",
            "vertical_integral_of_divergence_of_thermal_energy_flux",
            "vertical_integral_of_divergence_of_total_energy_flux",
            "vertical_integral_of_eastward_cloud_frozen_water_flux",
            "vertical_integral_of_eastward_cloud_liquid_water_flux",
            "vertical_integral_of_eastward_geopotential_flux",
            "vertical_integral_of_eastward_heat_flux",
            "vertical_integral_of_eastward_kinetic_energy_flux",
            "vertical_integral_of_eastward_mass_flux",
            "vertical_integral_of_eastward_ozone_flux",
            "vertical_integral_of_eastward_total_energy_flux",
            "vertical_integral_of_eastward_water_vapour_flux",
            "vertical_integral_of_energy_conversion",
            "vertical_integral_of_kinetic_energy",
            "vertical_integral_of_mass_of_atmosphere",
            "vertical_integral_of_mass_tendency",
            "vertical_integral_of_northward_cloud_frozen_water_flux",
            "vertical_integral_of_northward_cloud_liquid_water_flux",
            "vertical_integral_of_northward_geopotential_flux",
            "vertical_integral_of_northward_heat_flux",
            "vertical_integral_of_northward_kinetic_energy_flux",
            "vertical_integral_of_northward_mass_flux",
            "vertical_integral_of_northward_ozone_flux",
            "vertical_integral_of_northward_total_energy_flux",
            "vertical_integral_of_northward_water_vapour_flux",
            "vertical_integral_of_potential_and_internal_energy",
            "vertical_integral_of_potential_internal_and_latent_energy",
            "vertical_integral_of_temperature",
            "vertical_integral_of_thermal_energy",
            "vertical_integral_of_total_energy",
            "vertically_integrated_moisture_divergence",
            "volumetric_soil_water_layer_1",
            "volumetric_soil_water_layer_2",
            "volumetric_soil_water_layer_3",
            "volumetric_soil_water_layer_4",
            "wave_spectral_directional_width",
            "wave_spectral_directional_width_for_swell",
            "wave_spectral_directional_width_for_wind_waves",
            "wave_spectral_kurtosis",
            "wave_spectral_peakedness",
            "wave_spectral_skewness",
            "zero_degree_level"
           ],
           "minLength": 0,
           "type": "string"
          },
          "type": [
           "array",
           "null"
          ],
          "uniqueItems": true
         }
        },
        "required": [
         "variable_names",
         "bbox",
         "time_range"
        ],
        "type": "object"
       },
       "spatial_res": 0.25,
       "time_period": "1M",
       "time_range": [
        "1979-01-01",
        null
       ]
      },
      "text/plain": [
       "<xcube.core.store.descriptor.DatasetDescriptor at 0x7f85ecd2a250>"
      ]
     },
     "execution_count": 8,
     "metadata": {},
     "output_type": "execute_result"
    }
   ],
   "source": [
    "store.describe_data('reanalysis-era5-single-levels-monthly-means:monthly_averaged_reanalysis')"
   ]
  },
  {
   "cell_type": "markdown",
   "metadata": {},
   "source": [
    "### Let's set a bbox"
   ]
  },
  {
   "cell_type": "code",
   "execution_count": 9,
   "metadata": {
    "tags": []
   },
   "outputs": [],
   "source": [
    "bbox=[-5, 45, 35, 65]"
   ]
  },
  {
   "cell_type": "code",
   "execution_count": 10,
   "metadata": {
    "tags": []
   },
   "outputs": [
    {
     "data": {
      "application/geo+json": {
       "coordinates": [
        [
         [
          35,
          45
         ],
         [
          35,
          65
         ],
         [
          -5,
          65
         ],
         [
          -5,
          45
         ],
         [
          35,
          45
         ]
        ]
       ],
       "type": "Polygon"
      },
      "text/plain": [
       "<IPython.display.GeoJSON object>"
      ]
     },
     "metadata": {
      "application/geo+json": {
       "expanded": false,
       "root": "root"
      }
     },
     "output_type": "display_data"
    }
   ],
   "source": [
    "IPython.display.GeoJSON(shapely.geometry.box(*bbox).__geo_interface__)"
   ]
  },
  {
   "cell_type": "markdown",
   "metadata": {},
   "source": [
    "### Now set the other parameters for opening the dataset from the store: "
   ]
  },
  {
   "cell_type": "code",
   "execution_count": 11,
   "metadata": {
    "tags": []
   },
   "outputs": [
    {
     "name": "stderr",
     "output_type": "stream",
     "text": [
      "xcube-cds version 0.9.3\n",
      "2024-09-18 07:54:59,234 INFO Request ID is bbe8cdca-f852-4881-84eb-561efb844200\n",
      "2024-09-18 07:54:59,284 INFO status has been updated to accepted\n",
      "2024-09-18 07:55:00,844 INFO status has been updated to running\n",
      "2024-09-18 07:55:03,157 INFO status has been updated to successful\n"
     ]
    },
    {
     "data": {
      "application/vnd.jupyter.widget-view+json": {
       "model_id": "b47ae4e2014a471d95d52738c5689735",
       "version_major": 2,
       "version_minor": 0
      },
      "text/plain": [
       "fb560841cf5bceb6b69d7064c2268332.nc:   0%|          | 0.00/1.50M [00:00<?, ?B/s]"
      ]
     },
     "metadata": {},
     "output_type": "display_data"
    },
    {
     "data": {
      "text/html": [
       "<div><svg style=\"position: absolute; width: 0; height: 0; overflow: hidden\">\n",
       "<defs>\n",
       "<symbol id=\"icon-database\" viewBox=\"0 0 32 32\">\n",
       "<path d=\"M16 0c-8.837 0-16 2.239-16 5v4c0 2.761 7.163 5 16 5s16-2.239 16-5v-4c0-2.761-7.163-5-16-5z\"></path>\n",
       "<path d=\"M16 17c-8.837 0-16-2.239-16-5v6c0 2.761 7.163 5 16 5s16-2.239 16-5v-6c0 2.761-7.163 5-16 5z\"></path>\n",
       "<path d=\"M16 26c-8.837 0-16-2.239-16-5v6c0 2.761 7.163 5 16 5s16-2.239 16-5v-6c0 2.761-7.163 5-16 5z\"></path>\n",
       "</symbol>\n",
       "<symbol id=\"icon-file-text2\" viewBox=\"0 0 32 32\">\n",
       "<path d=\"M28.681 7.159c-0.694-0.947-1.662-2.053-2.724-3.116s-2.169-2.030-3.116-2.724c-1.612-1.182-2.393-1.319-2.841-1.319h-15.5c-1.378 0-2.5 1.121-2.5 2.5v27c0 1.378 1.122 2.5 2.5 2.5h23c1.378 0 2.5-1.122 2.5-2.5v-19.5c0-0.448-0.137-1.23-1.319-2.841zM24.543 5.457c0.959 0.959 1.712 1.825 2.268 2.543h-4.811v-4.811c0.718 0.556 1.584 1.309 2.543 2.268zM28 29.5c0 0.271-0.229 0.5-0.5 0.5h-23c-0.271 0-0.5-0.229-0.5-0.5v-27c0-0.271 0.229-0.5 0.5-0.5 0 0 15.499-0 15.5 0v7c0 0.552 0.448 1 1 1h7v19.5z\"></path>\n",
       "<path d=\"M23 26h-14c-0.552 0-1-0.448-1-1s0.448-1 1-1h14c0.552 0 1 0.448 1 1s-0.448 1-1 1z\"></path>\n",
       "<path d=\"M23 22h-14c-0.552 0-1-0.448-1-1s0.448-1 1-1h14c0.552 0 1 0.448 1 1s-0.448 1-1 1z\"></path>\n",
       "<path d=\"M23 18h-14c-0.552 0-1-0.448-1-1s0.448-1 1-1h14c0.552 0 1 0.448 1 1s-0.448 1-1 1z\"></path>\n",
       "</symbol>\n",
       "</defs>\n",
       "</svg>\n",
       "<style>/* CSS stylesheet for displaying xarray objects in jupyterlab.\n",
       " *\n",
       " */\n",
       "\n",
       ":root {\n",
       "  --xr-font-color0: var(--jp-content-font-color0, rgba(0, 0, 0, 1));\n",
       "  --xr-font-color2: var(--jp-content-font-color2, rgba(0, 0, 0, 0.54));\n",
       "  --xr-font-color3: var(--jp-content-font-color3, rgba(0, 0, 0, 0.38));\n",
       "  --xr-border-color: var(--jp-border-color2, #e0e0e0);\n",
       "  --xr-disabled-color: var(--jp-layout-color3, #bdbdbd);\n",
       "  --xr-background-color: var(--jp-layout-color0, white);\n",
       "  --xr-background-color-row-even: var(--jp-layout-color1, white);\n",
       "  --xr-background-color-row-odd: var(--jp-layout-color2, #eeeeee);\n",
       "}\n",
       "\n",
       "html[theme=dark],\n",
       "body[data-theme=dark],\n",
       "body.vscode-dark {\n",
       "  --xr-font-color0: rgba(255, 255, 255, 1);\n",
       "  --xr-font-color2: rgba(255, 255, 255, 0.54);\n",
       "  --xr-font-color3: rgba(255, 255, 255, 0.38);\n",
       "  --xr-border-color: #1F1F1F;\n",
       "  --xr-disabled-color: #515151;\n",
       "  --xr-background-color: #111111;\n",
       "  --xr-background-color-row-even: #111111;\n",
       "  --xr-background-color-row-odd: #313131;\n",
       "}\n",
       "\n",
       ".xr-wrap {\n",
       "  display: block !important;\n",
       "  min-width: 300px;\n",
       "  max-width: 700px;\n",
       "}\n",
       "\n",
       ".xr-text-repr-fallback {\n",
       "  /* fallback to plain text repr when CSS is not injected (untrusted notebook) */\n",
       "  display: none;\n",
       "}\n",
       "\n",
       ".xr-header {\n",
       "  padding-top: 6px;\n",
       "  padding-bottom: 6px;\n",
       "  margin-bottom: 4px;\n",
       "  border-bottom: solid 1px var(--xr-border-color);\n",
       "}\n",
       "\n",
       ".xr-header > div,\n",
       ".xr-header > ul {\n",
       "  display: inline;\n",
       "  margin-top: 0;\n",
       "  margin-bottom: 0;\n",
       "}\n",
       "\n",
       ".xr-obj-type,\n",
       ".xr-array-name {\n",
       "  margin-left: 2px;\n",
       "  margin-right: 10px;\n",
       "}\n",
       "\n",
       ".xr-obj-type {\n",
       "  color: var(--xr-font-color2);\n",
       "}\n",
       "\n",
       ".xr-sections {\n",
       "  padding-left: 0 !important;\n",
       "  display: grid;\n",
       "  grid-template-columns: 150px auto auto 1fr 20px 20px;\n",
       "}\n",
       "\n",
       ".xr-section-item {\n",
       "  display: contents;\n",
       "}\n",
       "\n",
       ".xr-section-item input {\n",
       "  display: none;\n",
       "}\n",
       "\n",
       ".xr-section-item input + label {\n",
       "  color: var(--xr-disabled-color);\n",
       "}\n",
       "\n",
       ".xr-section-item input:enabled + label {\n",
       "  cursor: pointer;\n",
       "  color: var(--xr-font-color2);\n",
       "}\n",
       "\n",
       ".xr-section-item input:enabled + label:hover {\n",
       "  color: var(--xr-font-color0);\n",
       "}\n",
       "\n",
       ".xr-section-summary {\n",
       "  grid-column: 1;\n",
       "  color: var(--xr-font-color2);\n",
       "  font-weight: 500;\n",
       "}\n",
       "\n",
       ".xr-section-summary > span {\n",
       "  display: inline-block;\n",
       "  padding-left: 0.5em;\n",
       "}\n",
       "\n",
       ".xr-section-summary-in:disabled + label {\n",
       "  color: var(--xr-font-color2);\n",
       "}\n",
       "\n",
       ".xr-section-summary-in + label:before {\n",
       "  display: inline-block;\n",
       "  content: '►';\n",
       "  font-size: 11px;\n",
       "  width: 15px;\n",
       "  text-align: center;\n",
       "}\n",
       "\n",
       ".xr-section-summary-in:disabled + label:before {\n",
       "  color: var(--xr-disabled-color);\n",
       "}\n",
       "\n",
       ".xr-section-summary-in:checked + label:before {\n",
       "  content: '▼';\n",
       "}\n",
       "\n",
       ".xr-section-summary-in:checked + label > span {\n",
       "  display: none;\n",
       "}\n",
       "\n",
       ".xr-section-summary,\n",
       ".xr-section-inline-details {\n",
       "  padding-top: 4px;\n",
       "  padding-bottom: 4px;\n",
       "}\n",
       "\n",
       ".xr-section-inline-details {\n",
       "  grid-column: 2 / -1;\n",
       "}\n",
       "\n",
       ".xr-section-details {\n",
       "  display: none;\n",
       "  grid-column: 1 / -1;\n",
       "  margin-bottom: 5px;\n",
       "}\n",
       "\n",
       ".xr-section-summary-in:checked ~ .xr-section-details {\n",
       "  display: contents;\n",
       "}\n",
       "\n",
       ".xr-array-wrap {\n",
       "  grid-column: 1 / -1;\n",
       "  display: grid;\n",
       "  grid-template-columns: 20px auto;\n",
       "}\n",
       "\n",
       ".xr-array-wrap > label {\n",
       "  grid-column: 1;\n",
       "  vertical-align: top;\n",
       "}\n",
       "\n",
       ".xr-preview {\n",
       "  color: var(--xr-font-color3);\n",
       "}\n",
       "\n",
       ".xr-array-preview,\n",
       ".xr-array-data {\n",
       "  padding: 0 5px !important;\n",
       "  grid-column: 2;\n",
       "}\n",
       "\n",
       ".xr-array-data,\n",
       ".xr-array-in:checked ~ .xr-array-preview {\n",
       "  display: none;\n",
       "}\n",
       "\n",
       ".xr-array-in:checked ~ .xr-array-data,\n",
       ".xr-array-preview {\n",
       "  display: inline-block;\n",
       "}\n",
       "\n",
       ".xr-dim-list {\n",
       "  display: inline-block !important;\n",
       "  list-style: none;\n",
       "  padding: 0 !important;\n",
       "  margin: 0;\n",
       "}\n",
       "\n",
       ".xr-dim-list li {\n",
       "  display: inline-block;\n",
       "  padding: 0;\n",
       "  margin: 0;\n",
       "}\n",
       "\n",
       ".xr-dim-list:before {\n",
       "  content: '(';\n",
       "}\n",
       "\n",
       ".xr-dim-list:after {\n",
       "  content: ')';\n",
       "}\n",
       "\n",
       ".xr-dim-list li:not(:last-child):after {\n",
       "  content: ',';\n",
       "  padding-right: 5px;\n",
       "}\n",
       "\n",
       ".xr-has-index {\n",
       "  font-weight: bold;\n",
       "}\n",
       "\n",
       ".xr-var-list,\n",
       ".xr-var-item {\n",
       "  display: contents;\n",
       "}\n",
       "\n",
       ".xr-var-item > div,\n",
       ".xr-var-item label,\n",
       ".xr-var-item > .xr-var-name span {\n",
       "  background-color: var(--xr-background-color-row-even);\n",
       "  margin-bottom: 0;\n",
       "}\n",
       "\n",
       ".xr-var-item > .xr-var-name:hover span {\n",
       "  padding-right: 5px;\n",
       "}\n",
       "\n",
       ".xr-var-list > li:nth-child(odd) > div,\n",
       ".xr-var-list > li:nth-child(odd) > label,\n",
       ".xr-var-list > li:nth-child(odd) > .xr-var-name span {\n",
       "  background-color: var(--xr-background-color-row-odd);\n",
       "}\n",
       "\n",
       ".xr-var-name {\n",
       "  grid-column: 1;\n",
       "}\n",
       "\n",
       ".xr-var-dims {\n",
       "  grid-column: 2;\n",
       "}\n",
       "\n",
       ".xr-var-dtype {\n",
       "  grid-column: 3;\n",
       "  text-align: right;\n",
       "  color: var(--xr-font-color2);\n",
       "}\n",
       "\n",
       ".xr-var-preview {\n",
       "  grid-column: 4;\n",
       "}\n",
       "\n",
       ".xr-index-preview {\n",
       "  grid-column: 2 / 5;\n",
       "  color: var(--xr-font-color2);\n",
       "}\n",
       "\n",
       ".xr-var-name,\n",
       ".xr-var-dims,\n",
       ".xr-var-dtype,\n",
       ".xr-preview,\n",
       ".xr-attrs dt {\n",
       "  white-space: nowrap;\n",
       "  overflow: hidden;\n",
       "  text-overflow: ellipsis;\n",
       "  padding-right: 10px;\n",
       "}\n",
       "\n",
       ".xr-var-name:hover,\n",
       ".xr-var-dims:hover,\n",
       ".xr-var-dtype:hover,\n",
       ".xr-attrs dt:hover {\n",
       "  overflow: visible;\n",
       "  width: auto;\n",
       "  z-index: 1;\n",
       "}\n",
       "\n",
       ".xr-var-attrs,\n",
       ".xr-var-data,\n",
       ".xr-index-data {\n",
       "  display: none;\n",
       "  background-color: var(--xr-background-color) !important;\n",
       "  padding-bottom: 5px !important;\n",
       "}\n",
       "\n",
       ".xr-var-attrs-in:checked ~ .xr-var-attrs,\n",
       ".xr-var-data-in:checked ~ .xr-var-data,\n",
       ".xr-index-data-in:checked ~ .xr-index-data {\n",
       "  display: block;\n",
       "}\n",
       "\n",
       ".xr-var-data > table {\n",
       "  float: right;\n",
       "}\n",
       "\n",
       ".xr-var-name span,\n",
       ".xr-var-data,\n",
       ".xr-index-name div,\n",
       ".xr-index-data,\n",
       ".xr-attrs {\n",
       "  padding-left: 25px !important;\n",
       "}\n",
       "\n",
       ".xr-attrs,\n",
       ".xr-var-attrs,\n",
       ".xr-var-data,\n",
       ".xr-index-data {\n",
       "  grid-column: 1 / -1;\n",
       "}\n",
       "\n",
       "dl.xr-attrs {\n",
       "  padding: 0;\n",
       "  margin: 0;\n",
       "  display: grid;\n",
       "  grid-template-columns: 125px auto;\n",
       "}\n",
       "\n",
       ".xr-attrs dt,\n",
       ".xr-attrs dd {\n",
       "  padding: 0;\n",
       "  margin: 0;\n",
       "  float: left;\n",
       "  padding-right: 10px;\n",
       "  width: auto;\n",
       "}\n",
       "\n",
       ".xr-attrs dt {\n",
       "  font-weight: normal;\n",
       "  grid-column: 1;\n",
       "}\n",
       "\n",
       ".xr-attrs dt:hover span {\n",
       "  display: inline-block;\n",
       "  background: var(--xr-background-color);\n",
       "  padding-right: 10px;\n",
       "}\n",
       "\n",
       ".xr-attrs dd {\n",
       "  grid-column: 2;\n",
       "  white-space: pre-wrap;\n",
       "  word-break: break-all;\n",
       "}\n",
       "\n",
       ".xr-icon-database,\n",
       ".xr-icon-file-text2,\n",
       ".xr-no-icon {\n",
       "  display: inline-block;\n",
       "  vertical-align: middle;\n",
       "  width: 1em;\n",
       "  height: 1.5em !important;\n",
       "  stroke-width: 0;\n",
       "  stroke: currentColor;\n",
       "  fill: currentColor;\n",
       "}\n",
       "</style><pre class='xr-text-repr-fallback'>&lt;xarray.Dataset&gt; Size: 3MB\n",
       "Dimensions:  (lat: 80, lon: 160, time: 60)\n",
       "Coordinates:\n",
       "    number   int64 8B ...\n",
       "  * lat      (lat) float64 640B 64.88 64.62 64.38 64.12 ... 45.62 45.38 45.12\n",
       "  * lon      (lon) float64 1kB -4.875 -4.625 -4.375 -4.125 ... 34.38 34.62 34.88\n",
       "    expver   (time) &lt;U4 960B ...\n",
       "  * time     (time) datetime64[ns] 480B 2006-01-01 2006-02-01 ... 2010-12-01\n",
       "Data variables:\n",
       "    t2m      (time, lat, lon) float32 3MB ...\n",
       "Attributes:\n",
       "    GRIB_centre:             ecmf\n",
       "    GRIB_centreDescription:  European Centre for Medium-Range Weather Forecasts\n",
       "    GRIB_subCentre:          0\n",
       "    Conventions:             CF-1.7\n",
       "    institution:             European Centre for Medium-Range Weather Forecasts\n",
       "    history:                 2024-09-18T07:22 GRIB to CDM+CF via cfgrib-0.9.1...</pre><div class='xr-wrap' style='display:none'><div class='xr-header'><div class='xr-obj-type'>xarray.Dataset</div></div><ul class='xr-sections'><li class='xr-section-item'><input id='section-1523517b-8126-4913-8c22-ddf9ef9a5605' class='xr-section-summary-in' type='checkbox' disabled ><label for='section-1523517b-8126-4913-8c22-ddf9ef9a5605' class='xr-section-summary'  title='Expand/collapse section'>Dimensions:</label><div class='xr-section-inline-details'><ul class='xr-dim-list'><li><span class='xr-has-index'>lat</span>: 80</li><li><span class='xr-has-index'>lon</span>: 160</li><li><span class='xr-has-index'>time</span>: 60</li></ul></div><div class='xr-section-details'></div></li><li class='xr-section-item'><input id='section-70b001dc-59fa-4c91-a5da-f4bbf57fcab8' class='xr-section-summary-in' type='checkbox'  checked><label for='section-70b001dc-59fa-4c91-a5da-f4bbf57fcab8' class='xr-section-summary' >Coordinates: <span>(5)</span></label><div class='xr-section-inline-details'></div><div class='xr-section-details'><ul class='xr-var-list'><li class='xr-var-item'><div class='xr-var-name'><span>number</span></div><div class='xr-var-dims'>()</div><div class='xr-var-dtype'>int64</div><div class='xr-var-preview xr-preview'>...</div><input id='attrs-48bab6f8-241f-4b7d-9490-5dabaaefe3e8' class='xr-var-attrs-in' type='checkbox' ><label for='attrs-48bab6f8-241f-4b7d-9490-5dabaaefe3e8' title='Show/Hide attributes'><svg class='icon xr-icon-file-text2'><use xlink:href='#icon-file-text2'></use></svg></label><input id='data-0084a2fa-fd0c-4ce3-afd4-42458b3a1181' class='xr-var-data-in' type='checkbox'><label for='data-0084a2fa-fd0c-4ce3-afd4-42458b3a1181' title='Show/Hide data repr'><svg class='icon xr-icon-database'><use xlink:href='#icon-database'></use></svg></label><div class='xr-var-attrs'><dl class='xr-attrs'><dt><span>long_name :</span></dt><dd>ensemble member numerical id</dd><dt><span>units :</span></dt><dd>1</dd><dt><span>standard_name :</span></dt><dd>realization</dd></dl></div><div class='xr-var-data'><pre>[1 values with dtype=int64]</pre></div></li><li class='xr-var-item'><div class='xr-var-name'><span class='xr-has-index'>lat</span></div><div class='xr-var-dims'>(lat)</div><div class='xr-var-dtype'>float64</div><div class='xr-var-preview xr-preview'>64.88 64.62 64.38 ... 45.38 45.12</div><input id='attrs-f0f2f380-6399-4bbe-8313-0ae28bc45076' class='xr-var-attrs-in' type='checkbox' ><label for='attrs-f0f2f380-6399-4bbe-8313-0ae28bc45076' title='Show/Hide attributes'><svg class='icon xr-icon-file-text2'><use xlink:href='#icon-file-text2'></use></svg></label><input id='data-eb673f43-10b3-401a-9259-763d4581059d' class='xr-var-data-in' type='checkbox'><label for='data-eb673f43-10b3-401a-9259-763d4581059d' title='Show/Hide data repr'><svg class='icon xr-icon-database'><use xlink:href='#icon-database'></use></svg></label><div class='xr-var-attrs'><dl class='xr-attrs'><dt><span>units :</span></dt><dd>degrees_north</dd><dt><span>standard_name :</span></dt><dd>latitude</dd><dt><span>long_name :</span></dt><dd>latitude</dd><dt><span>stored_direction :</span></dt><dd>decreasing</dd></dl></div><div class='xr-var-data'><pre>array([64.875, 64.625, 64.375, 64.125, 63.875, 63.625, 63.375, 63.125, 62.875,\n",
       "       62.625, 62.375, 62.125, 61.875, 61.625, 61.375, 61.125, 60.875, 60.625,\n",
       "       60.375, 60.125, 59.875, 59.625, 59.375, 59.125, 58.875, 58.625, 58.375,\n",
       "       58.125, 57.875, 57.625, 57.375, 57.125, 56.875, 56.625, 56.375, 56.125,\n",
       "       55.875, 55.625, 55.375, 55.125, 54.875, 54.625, 54.375, 54.125, 53.875,\n",
       "       53.625, 53.375, 53.125, 52.875, 52.625, 52.375, 52.125, 51.875, 51.625,\n",
       "       51.375, 51.125, 50.875, 50.625, 50.375, 50.125, 49.875, 49.625, 49.375,\n",
       "       49.125, 48.875, 48.625, 48.375, 48.125, 47.875, 47.625, 47.375, 47.125,\n",
       "       46.875, 46.625, 46.375, 46.125, 45.875, 45.625, 45.375, 45.125])</pre></div></li><li class='xr-var-item'><div class='xr-var-name'><span class='xr-has-index'>lon</span></div><div class='xr-var-dims'>(lon)</div><div class='xr-var-dtype'>float64</div><div class='xr-var-preview xr-preview'>-4.875 -4.625 ... 34.62 34.88</div><input id='attrs-67d55941-3e8e-4bb5-84ea-a266553732b8' class='xr-var-attrs-in' type='checkbox' ><label for='attrs-67d55941-3e8e-4bb5-84ea-a266553732b8' title='Show/Hide attributes'><svg class='icon xr-icon-file-text2'><use xlink:href='#icon-file-text2'></use></svg></label><input id='data-9179b642-2764-42c8-8082-a3cb98182966' class='xr-var-data-in' type='checkbox'><label for='data-9179b642-2764-42c8-8082-a3cb98182966' title='Show/Hide data repr'><svg class='icon xr-icon-database'><use xlink:href='#icon-database'></use></svg></label><div class='xr-var-attrs'><dl class='xr-attrs'><dt><span>units :</span></dt><dd>degrees_east</dd><dt><span>standard_name :</span></dt><dd>longitude</dd><dt><span>long_name :</span></dt><dd>longitude</dd></dl></div><div class='xr-var-data'><pre>array([-4.875, -4.625, -4.375, -4.125, -3.875, -3.625, -3.375, -3.125, -2.875,\n",
       "       -2.625, -2.375, -2.125, -1.875, -1.625, -1.375, -1.125, -0.875, -0.625,\n",
       "       -0.375, -0.125,  0.125,  0.375,  0.625,  0.875,  1.125,  1.375,  1.625,\n",
       "        1.875,  2.125,  2.375,  2.625,  2.875,  3.125,  3.375,  3.625,  3.875,\n",
       "        4.125,  4.375,  4.625,  4.875,  5.125,  5.375,  5.625,  5.875,  6.125,\n",
       "        6.375,  6.625,  6.875,  7.125,  7.375,  7.625,  7.875,  8.125,  8.375,\n",
       "        8.625,  8.875,  9.125,  9.375,  9.625,  9.875, 10.125, 10.375, 10.625,\n",
       "       10.875, 11.125, 11.375, 11.625, 11.875, 12.125, 12.375, 12.625, 12.875,\n",
       "       13.125, 13.375, 13.625, 13.875, 14.125, 14.375, 14.625, 14.875, 15.125,\n",
       "       15.375, 15.625, 15.875, 16.125, 16.375, 16.625, 16.875, 17.125, 17.375,\n",
       "       17.625, 17.875, 18.125, 18.375, 18.625, 18.875, 19.125, 19.375, 19.625,\n",
       "       19.875, 20.125, 20.375, 20.625, 20.875, 21.125, 21.375, 21.625, 21.875,\n",
       "       22.125, 22.375, 22.625, 22.875, 23.125, 23.375, 23.625, 23.875, 24.125,\n",
       "       24.375, 24.625, 24.875, 25.125, 25.375, 25.625, 25.875, 26.125, 26.375,\n",
       "       26.625, 26.875, 27.125, 27.375, 27.625, 27.875, 28.125, 28.375, 28.625,\n",
       "       28.875, 29.125, 29.375, 29.625, 29.875, 30.125, 30.375, 30.625, 30.875,\n",
       "       31.125, 31.375, 31.625, 31.875, 32.125, 32.375, 32.625, 32.875, 33.125,\n",
       "       33.375, 33.625, 33.875, 34.125, 34.375, 34.625, 34.875])</pre></div></li><li class='xr-var-item'><div class='xr-var-name'><span>expver</span></div><div class='xr-var-dims'>(time)</div><div class='xr-var-dtype'>&lt;U4</div><div class='xr-var-preview xr-preview'>...</div><input id='attrs-a9306929-b2c1-4434-9971-acea85d6689f' class='xr-var-attrs-in' type='checkbox' disabled><label for='attrs-a9306929-b2c1-4434-9971-acea85d6689f' title='Show/Hide attributes'><svg class='icon xr-icon-file-text2'><use xlink:href='#icon-file-text2'></use></svg></label><input id='data-52773841-823e-47fd-a2ae-ced3f0db1f40' class='xr-var-data-in' type='checkbox'><label for='data-52773841-823e-47fd-a2ae-ced3f0db1f40' title='Show/Hide data repr'><svg class='icon xr-icon-database'><use xlink:href='#icon-database'></use></svg></label><div class='xr-var-attrs'><dl class='xr-attrs'></dl></div><div class='xr-var-data'><pre>[60 values with dtype=&lt;U4]</pre></div></li><li class='xr-var-item'><div class='xr-var-name'><span class='xr-has-index'>time</span></div><div class='xr-var-dims'>(time)</div><div class='xr-var-dtype'>datetime64[ns]</div><div class='xr-var-preview xr-preview'>2006-01-01 ... 2010-12-01</div><input id='attrs-8f53c782-705e-42b1-81d0-3e9668c46a26' class='xr-var-attrs-in' type='checkbox' ><label for='attrs-8f53c782-705e-42b1-81d0-3e9668c46a26' title='Show/Hide attributes'><svg class='icon xr-icon-file-text2'><use xlink:href='#icon-file-text2'></use></svg></label><input id='data-e87c9eec-507f-4c78-8ad7-4336aadddfd8' class='xr-var-data-in' type='checkbox'><label for='data-e87c9eec-507f-4c78-8ad7-4336aadddfd8' title='Show/Hide data repr'><svg class='icon xr-icon-database'><use xlink:href='#icon-database'></use></svg></label><div class='xr-var-attrs'><dl class='xr-attrs'><dt><span>standard_name :</span></dt><dd>time</dd></dl></div><div class='xr-var-data'><pre>array([&#x27;2006-01-01T00:00:00.000000000&#x27;, &#x27;2006-02-01T00:00:00.000000000&#x27;,\n",
       "       &#x27;2006-03-01T00:00:00.000000000&#x27;, &#x27;2006-04-01T00:00:00.000000000&#x27;,\n",
       "       &#x27;2006-05-01T00:00:00.000000000&#x27;, &#x27;2006-06-01T00:00:00.000000000&#x27;,\n",
       "       &#x27;2006-07-01T00:00:00.000000000&#x27;, &#x27;2006-08-01T00:00:00.000000000&#x27;,\n",
       "       &#x27;2006-09-01T00:00:00.000000000&#x27;, &#x27;2006-10-01T00:00:00.000000000&#x27;,\n",
       "       &#x27;2006-11-01T00:00:00.000000000&#x27;, &#x27;2006-12-01T00:00:00.000000000&#x27;,\n",
       "       &#x27;2007-01-01T00:00:00.000000000&#x27;, &#x27;2007-02-01T00:00:00.000000000&#x27;,\n",
       "       &#x27;2007-03-01T00:00:00.000000000&#x27;, &#x27;2007-04-01T00:00:00.000000000&#x27;,\n",
       "       &#x27;2007-05-01T00:00:00.000000000&#x27;, &#x27;2007-06-01T00:00:00.000000000&#x27;,\n",
       "       &#x27;2007-07-01T00:00:00.000000000&#x27;, &#x27;2007-08-01T00:00:00.000000000&#x27;,\n",
       "       &#x27;2007-09-01T00:00:00.000000000&#x27;, &#x27;2007-10-01T00:00:00.000000000&#x27;,\n",
       "       &#x27;2007-11-01T00:00:00.000000000&#x27;, &#x27;2007-12-01T00:00:00.000000000&#x27;,\n",
       "       &#x27;2008-01-01T00:00:00.000000000&#x27;, &#x27;2008-02-01T00:00:00.000000000&#x27;,\n",
       "       &#x27;2008-03-01T00:00:00.000000000&#x27;, &#x27;2008-04-01T00:00:00.000000000&#x27;,\n",
       "       &#x27;2008-05-01T00:00:00.000000000&#x27;, &#x27;2008-06-01T00:00:00.000000000&#x27;,\n",
       "       &#x27;2008-07-01T00:00:00.000000000&#x27;, &#x27;2008-08-01T00:00:00.000000000&#x27;,\n",
       "       &#x27;2008-09-01T00:00:00.000000000&#x27;, &#x27;2008-10-01T00:00:00.000000000&#x27;,\n",
       "       &#x27;2008-11-01T00:00:00.000000000&#x27;, &#x27;2008-12-01T00:00:00.000000000&#x27;,\n",
       "       &#x27;2009-01-01T00:00:00.000000000&#x27;, &#x27;2009-02-01T00:00:00.000000000&#x27;,\n",
       "       &#x27;2009-03-01T00:00:00.000000000&#x27;, &#x27;2009-04-01T00:00:00.000000000&#x27;,\n",
       "       &#x27;2009-05-01T00:00:00.000000000&#x27;, &#x27;2009-06-01T00:00:00.000000000&#x27;,\n",
       "       &#x27;2009-07-01T00:00:00.000000000&#x27;, &#x27;2009-08-01T00:00:00.000000000&#x27;,\n",
       "       &#x27;2009-09-01T00:00:00.000000000&#x27;, &#x27;2009-10-01T00:00:00.000000000&#x27;,\n",
       "       &#x27;2009-11-01T00:00:00.000000000&#x27;, &#x27;2009-12-01T00:00:00.000000000&#x27;,\n",
       "       &#x27;2010-01-01T00:00:00.000000000&#x27;, &#x27;2010-02-01T00:00:00.000000000&#x27;,\n",
       "       &#x27;2010-03-01T00:00:00.000000000&#x27;, &#x27;2010-04-01T00:00:00.000000000&#x27;,\n",
       "       &#x27;2010-05-01T00:00:00.000000000&#x27;, &#x27;2010-06-01T00:00:00.000000000&#x27;,\n",
       "       &#x27;2010-07-01T00:00:00.000000000&#x27;, &#x27;2010-08-01T00:00:00.000000000&#x27;,\n",
       "       &#x27;2010-09-01T00:00:00.000000000&#x27;, &#x27;2010-10-01T00:00:00.000000000&#x27;,\n",
       "       &#x27;2010-11-01T00:00:00.000000000&#x27;, &#x27;2010-12-01T00:00:00.000000000&#x27;],\n",
       "      dtype=&#x27;datetime64[ns]&#x27;)</pre></div></li></ul></div></li><li class='xr-section-item'><input id='section-4cbcdee8-b336-41f8-92cf-26be8ab5d4d1' class='xr-section-summary-in' type='checkbox'  checked><label for='section-4cbcdee8-b336-41f8-92cf-26be8ab5d4d1' class='xr-section-summary' >Data variables: <span>(1)</span></label><div class='xr-section-inline-details'></div><div class='xr-section-details'><ul class='xr-var-list'><li class='xr-var-item'><div class='xr-var-name'><span>t2m</span></div><div class='xr-var-dims'>(time, lat, lon)</div><div class='xr-var-dtype'>float32</div><div class='xr-var-preview xr-preview'>...</div><input id='attrs-c628d2d5-10e8-4357-b9b1-3a9e941689f0' class='xr-var-attrs-in' type='checkbox' ><label for='attrs-c628d2d5-10e8-4357-b9b1-3a9e941689f0' title='Show/Hide attributes'><svg class='icon xr-icon-file-text2'><use xlink:href='#icon-file-text2'></use></svg></label><input id='data-7ba3df90-96cc-4dd0-8b40-570c4b4a823b' class='xr-var-data-in' type='checkbox'><label for='data-7ba3df90-96cc-4dd0-8b40-570c4b4a823b' title='Show/Hide data repr'><svg class='icon xr-icon-database'><use xlink:href='#icon-database'></use></svg></label><div class='xr-var-attrs'><dl class='xr-attrs'><dt><span>GRIB_paramId :</span></dt><dd>167</dd><dt><span>GRIB_dataType :</span></dt><dd>an</dd><dt><span>GRIB_numberOfPoints :</span></dt><dd>12800</dd><dt><span>GRIB_typeOfLevel :</span></dt><dd>surface</dd><dt><span>GRIB_stepUnits :</span></dt><dd>1</dd><dt><span>GRIB_stepType :</span></dt><dd>avgua</dd><dt><span>GRIB_gridType :</span></dt><dd>regular_ll</dd><dt><span>GRIB_uvRelativeToGrid :</span></dt><dd>0</dd><dt><span>GRIB_NV :</span></dt><dd>0</dd><dt><span>GRIB_Nx :</span></dt><dd>160</dd><dt><span>GRIB_Ny :</span></dt><dd>80</dd><dt><span>GRIB_cfName :</span></dt><dd>unknown</dd><dt><span>GRIB_cfVarName :</span></dt><dd>t2m</dd><dt><span>GRIB_gridDefinitionDescription :</span></dt><dd>Latitude/Longitude Grid</dd><dt><span>GRIB_iDirectionIncrementInDegrees :</span></dt><dd>0.25</dd><dt><span>GRIB_iScansNegatively :</span></dt><dd>0</dd><dt><span>GRIB_jDirectionIncrementInDegrees :</span></dt><dd>0.25</dd><dt><span>GRIB_jPointsAreConsecutive :</span></dt><dd>0</dd><dt><span>GRIB_jScansPositively :</span></dt><dd>0</dd><dt><span>GRIB_latitudeOfFirstGridPointInDegrees :</span></dt><dd>64.875</dd><dt><span>GRIB_latitudeOfLastGridPointInDegrees :</span></dt><dd>45.125</dd><dt><span>GRIB_longitudeOfFirstGridPointInDegrees :</span></dt><dd>-4.875</dd><dt><span>GRIB_longitudeOfLastGridPointInDegrees :</span></dt><dd>34.875</dd><dt><span>GRIB_missingValue :</span></dt><dd>3.4028234663852886e+38</dd><dt><span>GRIB_name :</span></dt><dd>2 metre temperature</dd><dt><span>GRIB_shortName :</span></dt><dd>2t</dd><dt><span>GRIB_totalNumber :</span></dt><dd>0</dd><dt><span>GRIB_units :</span></dt><dd>K</dd><dt><span>long_name :</span></dt><dd>2 metre temperature</dd><dt><span>units :</span></dt><dd>K</dd><dt><span>standard_name :</span></dt><dd>unknown</dd><dt><span>GRIB_surface :</span></dt><dd>0.0</dd></dl></div><div class='xr-var-data'><pre>[768000 values with dtype=float32]</pre></div></li></ul></div></li><li class='xr-section-item'><input id='section-4162bd00-9ce3-4560-aea0-1baef58a607a' class='xr-section-summary-in' type='checkbox'  ><label for='section-4162bd00-9ce3-4560-aea0-1baef58a607a' class='xr-section-summary' >Indexes: <span>(3)</span></label><div class='xr-section-inline-details'></div><div class='xr-section-details'><ul class='xr-var-list'><li class='xr-var-item'><div class='xr-index-name'><div>lat</div></div><div class='xr-index-preview'>PandasIndex</div><div></div><input id='index-f87ebf89-67c1-4337-8430-3c6af65de2d9' class='xr-index-data-in' type='checkbox'/><label for='index-f87ebf89-67c1-4337-8430-3c6af65de2d9' title='Show/Hide index repr'><svg class='icon xr-icon-database'><use xlink:href='#icon-database'></use></svg></label><div class='xr-index-data'><pre>PandasIndex(Index([64.875, 64.625, 64.375, 64.125, 63.875, 63.625, 63.375, 63.125, 62.875,\n",
       "       62.625, 62.375, 62.125, 61.875, 61.625, 61.375, 61.125, 60.875, 60.625,\n",
       "       60.375, 60.125, 59.875, 59.625, 59.375, 59.125, 58.875, 58.625, 58.375,\n",
       "       58.125, 57.875, 57.625, 57.375, 57.125, 56.875, 56.625, 56.375, 56.125,\n",
       "       55.875, 55.625, 55.375, 55.125, 54.875, 54.625, 54.375, 54.125, 53.875,\n",
       "       53.625, 53.375, 53.125, 52.875, 52.625, 52.375, 52.125, 51.875, 51.625,\n",
       "       51.375, 51.125, 50.875, 50.625, 50.375, 50.125, 49.875, 49.625, 49.375,\n",
       "       49.125, 48.875, 48.625, 48.375, 48.125, 47.875, 47.625, 47.375, 47.125,\n",
       "       46.875, 46.625, 46.375, 46.125, 45.875, 45.625, 45.375, 45.125],\n",
       "      dtype=&#x27;float64&#x27;, name=&#x27;lat&#x27;))</pre></div></li><li class='xr-var-item'><div class='xr-index-name'><div>lon</div></div><div class='xr-index-preview'>PandasIndex</div><div></div><input id='index-17915f44-d86e-4e62-a6d7-01fa78de2855' class='xr-index-data-in' type='checkbox'/><label for='index-17915f44-d86e-4e62-a6d7-01fa78de2855' title='Show/Hide index repr'><svg class='icon xr-icon-database'><use xlink:href='#icon-database'></use></svg></label><div class='xr-index-data'><pre>PandasIndex(Index([-4.875, -4.625, -4.375, -4.125, -3.875, -3.625, -3.375, -3.125, -2.875,\n",
       "       -2.625,\n",
       "       ...\n",
       "       32.625, 32.875, 33.125, 33.375, 33.625, 33.875, 34.125, 34.375, 34.625,\n",
       "       34.875],\n",
       "      dtype=&#x27;float64&#x27;, name=&#x27;lon&#x27;, length=160))</pre></div></li><li class='xr-var-item'><div class='xr-index-name'><div>time</div></div><div class='xr-index-preview'>PandasIndex</div><div></div><input id='index-4be0cad9-73ae-4d7a-bc38-979cf453e9f8' class='xr-index-data-in' type='checkbox'/><label for='index-4be0cad9-73ae-4d7a-bc38-979cf453e9f8' title='Show/Hide index repr'><svg class='icon xr-icon-database'><use xlink:href='#icon-database'></use></svg></label><div class='xr-index-data'><pre>PandasIndex(DatetimeIndex([&#x27;2006-01-01&#x27;, &#x27;2006-02-01&#x27;, &#x27;2006-03-01&#x27;, &#x27;2006-04-01&#x27;,\n",
       "               &#x27;2006-05-01&#x27;, &#x27;2006-06-01&#x27;, &#x27;2006-07-01&#x27;, &#x27;2006-08-01&#x27;,\n",
       "               &#x27;2006-09-01&#x27;, &#x27;2006-10-01&#x27;, &#x27;2006-11-01&#x27;, &#x27;2006-12-01&#x27;,\n",
       "               &#x27;2007-01-01&#x27;, &#x27;2007-02-01&#x27;, &#x27;2007-03-01&#x27;, &#x27;2007-04-01&#x27;,\n",
       "               &#x27;2007-05-01&#x27;, &#x27;2007-06-01&#x27;, &#x27;2007-07-01&#x27;, &#x27;2007-08-01&#x27;,\n",
       "               &#x27;2007-09-01&#x27;, &#x27;2007-10-01&#x27;, &#x27;2007-11-01&#x27;, &#x27;2007-12-01&#x27;,\n",
       "               &#x27;2008-01-01&#x27;, &#x27;2008-02-01&#x27;, &#x27;2008-03-01&#x27;, &#x27;2008-04-01&#x27;,\n",
       "               &#x27;2008-05-01&#x27;, &#x27;2008-06-01&#x27;, &#x27;2008-07-01&#x27;, &#x27;2008-08-01&#x27;,\n",
       "               &#x27;2008-09-01&#x27;, &#x27;2008-10-01&#x27;, &#x27;2008-11-01&#x27;, &#x27;2008-12-01&#x27;,\n",
       "               &#x27;2009-01-01&#x27;, &#x27;2009-02-01&#x27;, &#x27;2009-03-01&#x27;, &#x27;2009-04-01&#x27;,\n",
       "               &#x27;2009-05-01&#x27;, &#x27;2009-06-01&#x27;, &#x27;2009-07-01&#x27;, &#x27;2009-08-01&#x27;,\n",
       "               &#x27;2009-09-01&#x27;, &#x27;2009-10-01&#x27;, &#x27;2009-11-01&#x27;, &#x27;2009-12-01&#x27;,\n",
       "               &#x27;2010-01-01&#x27;, &#x27;2010-02-01&#x27;, &#x27;2010-03-01&#x27;, &#x27;2010-04-01&#x27;,\n",
       "               &#x27;2010-05-01&#x27;, &#x27;2010-06-01&#x27;, &#x27;2010-07-01&#x27;, &#x27;2010-08-01&#x27;,\n",
       "               &#x27;2010-09-01&#x27;, &#x27;2010-10-01&#x27;, &#x27;2010-11-01&#x27;, &#x27;2010-12-01&#x27;],\n",
       "              dtype=&#x27;datetime64[ns]&#x27;, name=&#x27;time&#x27;, freq=None))</pre></div></li></ul></div></li><li class='xr-section-item'><input id='section-54a050ca-2d87-4272-8044-3c0c68b5a049' class='xr-section-summary-in' type='checkbox'  checked><label for='section-54a050ca-2d87-4272-8044-3c0c68b5a049' class='xr-section-summary' >Attributes: <span>(6)</span></label><div class='xr-section-inline-details'></div><div class='xr-section-details'><dl class='xr-attrs'><dt><span>GRIB_centre :</span></dt><dd>ecmf</dd><dt><span>GRIB_centreDescription :</span></dt><dd>European Centre for Medium-Range Weather Forecasts</dd><dt><span>GRIB_subCentre :</span></dt><dd>0</dd><dt><span>Conventions :</span></dt><dd>CF-1.7</dd><dt><span>institution :</span></dt><dd>European Centre for Medium-Range Weather Forecasts</dd><dt><span>history :</span></dt><dd>2024-09-18T07:22 GRIB to CDM+CF via cfgrib-0.9.14.0/ecCodes-2.36.0 with {&quot;source&quot;: &quot;data.grib&quot;, &quot;filter_by_keys&quot;: {}, &quot;encode_cf&quot;: [&quot;parameter&quot;, &quot;time&quot;, &quot;geography&quot;, &quot;vertical&quot;]}</dd></dl></div></li></ul></div></div>"
      ],
      "text/plain": [
       "<xarray.Dataset> Size: 3MB\n",
       "Dimensions:  (lat: 80, lon: 160, time: 60)\n",
       "Coordinates:\n",
       "    number   int64 8B ...\n",
       "  * lat      (lat) float64 640B 64.88 64.62 64.38 64.12 ... 45.62 45.38 45.12\n",
       "  * lon      (lon) float64 1kB -4.875 -4.625 -4.375 -4.125 ... 34.38 34.62 34.88\n",
       "    expver   (time) <U4 960B ...\n",
       "  * time     (time) datetime64[ns] 480B 2006-01-01 2006-02-01 ... 2010-12-01\n",
       "Data variables:\n",
       "    t2m      (time, lat, lon) float32 3MB ...\n",
       "Attributes:\n",
       "    GRIB_centre:             ecmf\n",
       "    GRIB_centreDescription:  European Centre for Medium-Range Weather Forecasts\n",
       "    GRIB_subCentre:          0\n",
       "    Conventions:             CF-1.7\n",
       "    institution:             European Centre for Medium-Range Weather Forecasts\n",
       "    history:                 2024-09-18T07:22 GRIB to CDM+CF via cfgrib-0.9.1..."
      ]
     },
     "execution_count": 11,
     "metadata": {},
     "output_type": "execute_result"
    }
   ],
   "source": [
    "dataset = store.open_data('reanalysis-era5-single-levels-monthly-means:monthly_averaged_reanalysis', \n",
    "                          variable_names=['2m_temperature'], \n",
    "                          bbox=bbox, \n",
    "                          spatial_res=0.25, \n",
    "                          time_range=['2006-01-01', '2010-12-31'])\n",
    "dataset"
   ]
  },
  {
   "cell_type": "markdown",
   "metadata": {},
   "source": [
    "We can explore this dataset by plotting a temperature map for selected time points. First, we select January 2001. Land areas – and mountain ranges in particular – show up on the map as colder regions."
   ]
  },
  {
   "cell_type": "code",
   "execution_count": 12,
   "metadata": {
    "tags": []
   },
   "outputs": [
    {
     "data": {
      "text/plain": [
       "<matplotlib.image.AxesImage at 0x7f8634b4f010>"
      ]
     },
     "execution_count": 12,
     "metadata": {},
     "output_type": "execute_result"
    },
    {
     "data": {
      "image/png": "[encoded data removed]",
      "text/plain": [
       "<Figure size 1400x800 with 2 Axes>"
      ]
     },
     "metadata": {},
     "output_type": "display_data"
    }
   ],
   "source": [
    "t2m_2001_jan = dataset.t2m.sel(time='2010-01-01 00:00:00', method='nearest')\n",
    "t2m_2001_jan.plot.imshow(vmin=260, vmax=285, figsize=(14, 8), cmap='plasma')"
   ]
  },
  {
   "cell_type": "markdown",
   "metadata": {},
   "source": [
    "### Write cube in team storage"
   ]
  },
  {
   "cell_type": "markdown",
   "metadata": {},
   "source": [
    "To store the cube in your teams user space, please first retrieve the details from your environment variables as the following:"
   ]
  },
  {
   "cell_type": "code",
   "execution_count": 13,
   "metadata": {
    "tags": []
   },
   "outputs": [],
   "source": [
    "S3_USER_STORAGE_KEY = os.environ[\"S3_USER_STORAGE_KEY\"]\n",
    "S3_USER_STORAGE_SECRET = os.environ[\"S3_USER_STORAGE_SECRET\"]\n",
    "S3_USER_STORAGE_BUCKET = os.environ[\"S3_USER_STORAGE_BUCKET\"]"
   ]
  },
  {
   "cell_type": "markdown",
   "metadata": {},
   "source": [
    "You need to instantiate a s3 datastore pointing to the team bucket:"
   ]
  },
  {
   "cell_type": "code",
   "execution_count": 14,
   "metadata": {
    "tags": []
   },
   "outputs": [],
   "source": [
    "from xcube.core.store import new_data_store\n",
    "team_store = new_data_store(\"s3\", \n",
    "                       root=S3_USER_STORAGE_BUCKET, \n",
    "                       storage_options=dict(anon=False, \n",
    "                                            key=S3_USER_STORAGE_KEY, \n",
    "                                            secret=S3_USER_STORAGE_SECRET))"
   ]
  },
  {
   "cell_type": "markdown",
   "metadata": {},
   "source": [
    "If you have stored no data to your user space, the returned list will be empty:"
   ]
  },
  {
   "cell_type": "code",
   "execution_count": 15,
   "metadata": {
    "tags": []
   },
   "outputs": [
    {
     "data": {
      "text/plain": [
       "['SST.levels',\n",
       " 'amazonas_v8.zarr',\n",
       " 'amazonas_v9.zarr',\n",
       " 'analysed_sst.zarr',\n",
       " 'noise_trajectory.zarr',\n",
       " 'reanalysis-era5-single-levels-monthly-means-subset-2001-2010_TMH.zarr']"
      ]
     },
     "execution_count": 15,
     "metadata": {},
     "output_type": "execute_result"
    }
   ],
   "source": [
    "list(team_store.get_data_ids())"
   ]
  },
  {
   "cell_type": "code",
   "execution_count": 16,
   "metadata": {
    "tags": []
   },
   "outputs": [
    {
     "data": {
      "text/plain": [
       "'reanalysis-era5-single-levels-monthly-means-subset-2006-2010_TMH.zarr'"
      ]
     },
     "execution_count": 16,
     "metadata": {},
     "output_type": "execute_result"
    }
   ],
   "source": [
    "team_store.write_data(dataset,'reanalysis-era5-single-levels-monthly-means-subset-2006-2010_TMH.zarr', replace=True)"
   ]
  },
  {
   "cell_type": "code",
   "execution_count": 17,
   "metadata": {
    "tags": []
   },
   "outputs": [
    {
     "data": {
      "text/plain": [
       "['SST.levels',\n",
       " 'amazonas_v8.zarr',\n",
       " 'amazonas_v9.zarr',\n",
       " 'analysed_sst.zarr',\n",
       " 'noise_trajectory.zarr',\n",
       " 'reanalysis-era5-single-levels-monthly-means-subset-2001-2010_TMH.zarr',\n",
       " 'reanalysis-era5-single-levels-monthly-means-subset-2006-2010_TMH.zarr']"
      ]
     },
     "execution_count": 17,
     "metadata": {},
     "output_type": "execute_result"
    }
   ],
   "source": [
    "list(team_store.get_data_ids())"
   ]
  },
  {
   "cell_type": "markdown",
   "metadata": {},
   "source": [
    "### Open data from team storage"
   ]
  },
  {
   "cell_type": "code",
   "execution_count": 18,
   "metadata": {
    "tags": []
   },
   "outputs": [
    {
     "data": {
      "text/html": [
       "<div><svg style=\"position: absolute; width: 0; height: 0; overflow: hidden\">\n",
       "<defs>\n",
       "<symbol id=\"icon-database\" viewBox=\"0 0 32 32\">\n",
       "<path d=\"M16 0c-8.837 0-16 2.239-16 5v4c0 2.761 7.163 5 16 5s16-2.239 16-5v-4c0-2.761-7.163-5-16-5z\"></path>\n",
       "<path d=\"M16 17c-8.837 0-16-2.239-16-5v6c0 2.761 7.163 5 16 5s16-2.239 16-5v-6c0 2.761-7.163 5-16 5z\"></path>\n",
       "<path d=\"M16 26c-8.837 0-16-2.239-16-5v6c0 2.761 7.163 5 16 5s16-2.239 16-5v-6c0 2.761-7.163 5-16 5z\"></path>\n",
       "</symbol>\n",
       "<symbol id=\"icon-file-text2\" viewBox=\"0 0 32 32\">\n",
       "<path d=\"M28.681 7.159c-0.694-0.947-1.662-2.053-2.724-3.116s-2.169-2.030-3.116-2.724c-1.612-1.182-2.393-1.319-2.841-1.319h-15.5c-1.378 0-2.5 1.121-2.5 2.5v27c0 1.378 1.122 2.5 2.5 2.5h23c1.378 0 2.5-1.122 2.5-2.5v-19.5c0-0.448-0.137-1.23-1.319-2.841zM24.543 5.457c0.959 0.959 1.712 1.825 2.268 2.543h-4.811v-4.811c0.718 0.556 1.584 1.309 2.543 2.268zM28 29.5c0 0.271-0.229 0.5-0.5 0.5h-23c-0.271 0-0.5-0.229-0.5-0.5v-27c0-0.271 0.229-0.5 0.5-0.5 0 0 15.499-0 15.5 0v7c0 0.552 0.448 1 1 1h7v19.5z\"></path>\n",
       "<path d=\"M23 26h-14c-0.552 0-1-0.448-1-1s0.448-1 1-1h14c0.552 0 1 0.448 1 1s-0.448 1-1 1z\"></path>\n",
       "<path d=\"M23 22h-14c-0.552 0-1-0.448-1-1s0.448-1 1-1h14c0.552 0 1 0.448 1 1s-0.448 1-1 1z\"></path>\n",
       "<path d=\"M23 18h-14c-0.552 0-1-0.448-1-1s0.448-1 1-1h14c0.552 0 1 0.448 1 1s-0.448 1-1 1z\"></path>\n",
       "</symbol>\n",
       "</defs>\n",
       "</svg>\n",
       "<style>/* CSS stylesheet for displaying xarray objects in jupyterlab.\n",
       " *\n",
       " */\n",
       "\n",
       ":root {\n",
       "  --xr-font-color0: var(--jp-content-font-color0, rgba(0, 0, 0, 1));\n",
       "  --xr-font-color2: var(--jp-content-font-color2, rgba(0, 0, 0, 0.54));\n",
       "  --xr-font-color3: var(--jp-content-font-color3, rgba(0, 0, 0, 0.38));\n",
       "  --xr-border-color: var(--jp-border-color2, #e0e0e0);\n",
       "  --xr-disabled-color: var(--jp-layout-color3, #bdbdbd);\n",
       "  --xr-background-color: var(--jp-layout-color0, white);\n",
       "  --xr-background-color-row-even: var(--jp-layout-color1, white);\n",
       "  --xr-background-color-row-odd: var(--jp-layout-color2, #eeeeee);\n",
       "}\n",
       "\n",
       "html[theme=dark],\n",
       "body[data-theme=dark],\n",
       "body.vscode-dark {\n",
       "  --xr-font-color0: rgba(255, 255, 255, 1);\n",
       "  --xr-font-color2: rgba(255, 255, 255, 0.54);\n",
       "  --xr-font-color3: rgba(255, 255, 255, 0.38);\n",
       "  --xr-border-color: #1F1F1F;\n",
       "  --xr-disabled-color: #515151;\n",
       "  --xr-background-color: #111111;\n",
       "  --xr-background-color-row-even: #111111;\n",
       "  --xr-background-color-row-odd: #313131;\n",
       "}\n",
       "\n",
       ".xr-wrap {\n",
       "  display: block !important;\n",
       "  min-width: 300px;\n",
       "  max-width: 700px;\n",
       "}\n",
       "\n",
       ".xr-text-repr-fallback {\n",
       "  /* fallback to plain text repr when CSS is not injected (untrusted notebook) */\n",
       "  display: none;\n",
       "}\n",
       "\n",
       ".xr-header {\n",
       "  padding-top: 6px;\n",
       "  padding-bottom: 6px;\n",
       "  margin-bottom: 4px;\n",
       "  border-bottom: solid 1px var(--xr-border-color);\n",
       "}\n",
       "\n",
       ".xr-header > div,\n",
       ".xr-header > ul {\n",
       "  display: inline;\n",
       "  margin-top: 0;\n",
       "  margin-bottom: 0;\n",
       "}\n",
       "\n",
       ".xr-obj-type,\n",
       ".xr-array-name {\n",
       "  margin-left: 2px;\n",
       "  margin-right: 10px;\n",
       "}\n",
       "\n",
       ".xr-obj-type {\n",
       "  color: var(--xr-font-color2);\n",
       "}\n",
       "\n",
       ".xr-sections {\n",
       "  padding-left: 0 !important;\n",
       "  display: grid;\n",
       "  grid-template-columns: 150px auto auto 1fr 20px 20px;\n",
       "}\n",
       "\n",
       ".xr-section-item {\n",
       "  display: contents;\n",
       "}\n",
       "\n",
       ".xr-section-item input {\n",
       "  display: none;\n",
       "}\n",
       "\n",
       ".xr-section-item input + label {\n",
       "  color: var(--xr-disabled-color);\n",
       "}\n",
       "\n",
       ".xr-section-item input:enabled + label {\n",
       "  cursor: pointer;\n",
       "  color: var(--xr-font-color2);\n",
       "}\n",
       "\n",
       ".xr-section-item input:enabled + label:hover {\n",
       "  color: var(--xr-font-color0);\n",
       "}\n",
       "\n",
       ".xr-section-summary {\n",
       "  grid-column: 1;\n",
       "  color: var(--xr-font-color2);\n",
       "  font-weight: 500;\n",
       "}\n",
       "\n",
       ".xr-section-summary > span {\n",
       "  display: inline-block;\n",
       "  padding-left: 0.5em;\n",
       "}\n",
       "\n",
       ".xr-section-summary-in:disabled + label {\n",
       "  color: var(--xr-font-color2);\n",
       "}\n",
       "\n",
       ".xr-section-summary-in + label:before {\n",
       "  display: inline-block;\n",
       "  content: '►';\n",
       "  font-size: 11px;\n",
       "  width: 15px;\n",
       "  text-align: center;\n",
       "}\n",
       "\n",
       ".xr-section-summary-in:disabled + label:before {\n",
       "  color: var(--xr-disabled-color);\n",
       "}\n",
       "\n",
       ".xr-section-summary-in:checked + label:before {\n",
       "  content: '▼';\n",
       "}\n",
       "\n",
       ".xr-section-summary-in:checked + label > span {\n",
       "  display: none;\n",
       "}\n",
       "\n",
       ".xr-section-summary,\n",
       ".xr-section-inline-details {\n",
       "  padding-top: 4px;\n",
       "  padding-bottom: 4px;\n",
       "}\n",
       "\n",
       ".xr-section-inline-details {\n",
       "  grid-column: 2 / -1;\n",
       "}\n",
       "\n",
       ".xr-section-details {\n",
       "  display: none;\n",
       "  grid-column: 1 / -1;\n",
       "  margin-bottom: 5px;\n",
       "}\n",
       "\n",
       ".xr-section-summary-in:checked ~ .xr-section-details {\n",
       "  display: contents;\n",
       "}\n",
       "\n",
       ".xr-array-wrap {\n",
       "  grid-column: 1 / -1;\n",
       "  display: grid;\n",
       "  grid-template-columns: 20px auto;\n",
       "}\n",
       "\n",
       ".xr-array-wrap > label {\n",
       "  grid-column: 1;\n",
       "  vertical-align: top;\n",
       "}\n",
       "\n",
       ".xr-preview {\n",
       "  color: var(--xr-font-color3);\n",
       "}\n",
       "\n",
       ".xr-array-preview,\n",
       ".xr-array-data {\n",
       "  padding: 0 5px !important;\n",
       "  grid-column: 2;\n",
       "}\n",
       "\n",
       ".xr-array-data,\n",
       ".xr-array-in:checked ~ .xr-array-preview {\n",
       "  display: none;\n",
       "}\n",
       "\n",
       ".xr-array-in:checked ~ .xr-array-data,\n",
       ".xr-array-preview {\n",
       "  display: inline-block;\n",
       "}\n",
       "\n",
       ".xr-dim-list {\n",
       "  display: inline-block !important;\n",
       "  list-style: none;\n",
       "  padding: 0 !important;\n",
       "  margin: 0;\n",
       "}\n",
       "\n",
       ".xr-dim-list li {\n",
       "  display: inline-block;\n",
       "  padding: 0;\n",
       "  margin: 0;\n",
       "}\n",
       "\n",
       ".xr-dim-list:before {\n",
       "  content: '(';\n",
       "}\n",
       "\n",
       ".xr-dim-list:after {\n",
       "  content: ')';\n",
       "}\n",
       "\n",
       ".xr-dim-list li:not(:last-child):after {\n",
       "  content: ',';\n",
       "  padding-right: 5px;\n",
       "}\n",
       "\n",
       ".xr-has-index {\n",
       "  font-weight: bold;\n",
       "}\n",
       "\n",
       ".xr-var-list,\n",
       ".xr-var-item {\n",
       "  display: contents;\n",
       "}\n",
       "\n",
       ".xr-var-item > div,\n",
       ".xr-var-item label,\n",
       ".xr-var-item > .xr-var-name span {\n",
       "  background-color: var(--xr-background-color-row-even);\n",
       "  margin-bottom: 0;\n",
       "}\n",
       "\n",
       ".xr-var-item > .xr-var-name:hover span {\n",
       "  padding-right: 5px;\n",
       "}\n",
       "\n",
       ".xr-var-list > li:nth-child(odd) > div,\n",
       ".xr-var-list > li:nth-child(odd) > label,\n",
       ".xr-var-list > li:nth-child(odd) > .xr-var-name span {\n",
       "  background-color: var(--xr-background-color-row-odd);\n",
       "}\n",
       "\n",
       ".xr-var-name {\n",
       "  grid-column: 1;\n",
       "}\n",
       "\n",
       ".xr-var-dims {\n",
       "  grid-column: 2;\n",
       "}\n",
       "\n",
       ".xr-var-dtype {\n",
       "  grid-column: 3;\n",
       "  text-align: right;\n",
       "  color: var(--xr-font-color2);\n",
       "}\n",
       "\n",
       ".xr-var-preview {\n",
       "  grid-column: 4;\n",
       "}\n",
       "\n",
       ".xr-index-preview {\n",
       "  grid-column: 2 / 5;\n",
       "  color: var(--xr-font-color2);\n",
       "}\n",
       "\n",
       ".xr-var-name,\n",
       ".xr-var-dims,\n",
       ".xr-var-dtype,\n",
       ".xr-preview,\n",
       ".xr-attrs dt {\n",
       "  white-space: nowrap;\n",
       "  overflow: hidden;\n",
       "  text-overflow: ellipsis;\n",
       "  padding-right: 10px;\n",
       "}\n",
       "\n",
       ".xr-var-name:hover,\n",
       ".xr-var-dims:hover,\n",
       ".xr-var-dtype:hover,\n",
       ".xr-attrs dt:hover {\n",
       "  overflow: visible;\n",
       "  width: auto;\n",
       "  z-index: 1;\n",
       "}\n",
       "\n",
       ".xr-var-attrs,\n",
       ".xr-var-data,\n",
       ".xr-index-data {\n",
       "  display: none;\n",
       "  background-color: var(--xr-background-color) !important;\n",
       "  padding-bottom: 5px !important;\n",
       "}\n",
       "\n",
       ".xr-var-attrs-in:checked ~ .xr-var-attrs,\n",
       ".xr-var-data-in:checked ~ .xr-var-data,\n",
       ".xr-index-data-in:checked ~ .xr-index-data {\n",
       "  display: block;\n",
       "}\n",
       "\n",
       ".xr-var-data > table {\n",
       "  float: right;\n",
       "}\n",
       "\n",
       ".xr-var-name span,\n",
       ".xr-var-data,\n",
       ".xr-index-name div,\n",
       ".xr-index-data,\n",
       ".xr-attrs {\n",
       "  padding-left: 25px !important;\n",
       "}\n",
       "\n",
       ".xr-attrs,\n",
       ".xr-var-attrs,\n",
       ".xr-var-data,\n",
       ".xr-index-data {\n",
       "  grid-column: 1 / -1;\n",
       "}\n",
       "\n",
       "dl.xr-attrs {\n",
       "  padding: 0;\n",
       "  margin: 0;\n",
       "  display: grid;\n",
       "  grid-template-columns: 125px auto;\n",
       "}\n",
       "\n",
       ".xr-attrs dt,\n",
       ".xr-attrs dd {\n",
       "  padding: 0;\n",
       "  margin: 0;\n",
       "  float: left;\n",
       "  padding-right: 10px;\n",
       "  width: auto;\n",
       "}\n",
       "\n",
       ".xr-attrs dt {\n",
       "  font-weight: normal;\n",
       "  grid-column: 1;\n",
       "}\n",
       "\n",
       ".xr-attrs dt:hover span {\n",
       "  display: inline-block;\n",
       "  background: var(--xr-background-color);\n",
       "  padding-right: 10px;\n",
       "}\n",
       "\n",
       ".xr-attrs dd {\n",
       "  grid-column: 2;\n",
       "  white-space: pre-wrap;\n",
       "  word-break: break-all;\n",
       "}\n",
       "\n",
       ".xr-icon-database,\n",
       ".xr-icon-file-text2,\n",
       ".xr-no-icon {\n",
       "  display: inline-block;\n",
       "  vertical-align: middle;\n",
       "  width: 1em;\n",
       "  height: 1.5em !important;\n",
       "  stroke-width: 0;\n",
       "  stroke: currentColor;\n",
       "  fill: currentColor;\n",
       "}\n",
       "</style><pre class='xr-text-repr-fallback'>&lt;xarray.Dataset&gt; Size: 3MB\n",
       "Dimensions:  (time: 60, lat: 80, lon: 160)\n",
       "Coordinates:\n",
       "    expver   (time) &lt;U4 960B dask.array&lt;chunksize=(60,), meta=np.ndarray&gt;\n",
       "  * lat      (lat) float64 640B 64.88 64.62 64.38 64.12 ... 45.62 45.38 45.12\n",
       "  * lon      (lon) float64 1kB -4.875 -4.625 -4.375 -4.125 ... 34.38 34.62 34.88\n",
       "    number   int64 8B ...\n",
       "  * time     (time) datetime64[ns] 480B 2006-01-01 2006-02-01 ... 2010-12-01\n",
       "Data variables:\n",
       "    t2m      (time, lat, lon) float32 3MB dask.array&lt;chunksize=(30, 40, 80), meta=np.ndarray&gt;\n",
       "Attributes:\n",
       "    Conventions:             CF-1.7\n",
       "    GRIB_centre:             ecmf\n",
       "    GRIB_centreDescription:  European Centre for Medium-Range Weather Forecasts\n",
       "    GRIB_subCentre:          0\n",
       "    history:                 2024-09-18T07:22 GRIB to CDM+CF via cfgrib-0.9.1...\n",
       "    institution:             European Centre for Medium-Range Weather Forecasts</pre><div class='xr-wrap' style='display:none'><div class='xr-header'><div class='xr-obj-type'>xarray.Dataset</div></div><ul class='xr-sections'><li class='xr-section-item'><input id='section-2073f3c5-f0e6-4eac-babb-2b5c63d74979' class='xr-section-summary-in' type='checkbox' disabled ><label for='section-2073f3c5-f0e6-4eac-babb-2b5c63d74979' class='xr-section-summary'  title='Expand/collapse section'>Dimensions:</label><div class='xr-section-inline-details'><ul class='xr-dim-list'><li><span class='xr-has-index'>time</span>: 60</li><li><span class='xr-has-index'>lat</span>: 80</li><li><span class='xr-has-index'>lon</span>: 160</li></ul></div><div class='xr-section-details'></div></li><li class='xr-section-item'><input id='section-1e8274f4-f2fe-42ef-ba57-a9578d7af0b2' class='xr-section-summary-in' type='checkbox'  checked><label for='section-1e8274f4-f2fe-42ef-ba57-a9578d7af0b2' class='xr-section-summary' >Coordinates: <span>(5)</span></label><div class='xr-section-inline-details'></div><div class='xr-section-details'><ul class='xr-var-list'><li class='xr-var-item'><div class='xr-var-name'><span>expver</span></div><div class='xr-var-dims'>(time)</div><div class='xr-var-dtype'>&lt;U4</div><div class='xr-var-preview xr-preview'>dask.array&lt;chunksize=(60,), meta=np.ndarray&gt;</div><input id='attrs-e4b8ae8e-15cf-43ef-8a32-1536365f4f5f' class='xr-var-attrs-in' type='checkbox' disabled><label for='attrs-e4b8ae8e-15cf-43ef-8a32-1536365f4f5f' title='Show/Hide attributes'><svg class='icon xr-icon-file-text2'><use xlink:href='#icon-file-text2'></use></svg></label><input id='data-867b8f63-34be-4d35-8de5-827ff9ae63c4' class='xr-var-data-in' type='checkbox'><label for='data-867b8f63-34be-4d35-8de5-827ff9ae63c4' title='Show/Hide data repr'><svg class='icon xr-icon-database'><use xlink:href='#icon-database'></use></svg></label><div class='xr-var-attrs'><dl class='xr-attrs'></dl></div><div class='xr-var-data'><table>\n",
       "    <tr>\n",
       "        <td>\n",
       "            <table style=\"border-collapse: collapse;\">\n",
       "                <thead>\n",
       "                    <tr>\n",
       "                        <td> </td>\n",
       "                        <th> Array </th>\n",
       "                        <th> Chunk </th>\n",
       "                    </tr>\n",
       "                </thead>\n",
       "                <tbody>\n",
       "                    \n",
       "                    <tr>\n",
       "                        <th> Bytes </th>\n",
       "                        <td> 0.94 kiB </td>\n",
       "                        <td> 0.94 kiB </td>\n",
       "                    </tr>\n",
       "                    \n",
       "                    <tr>\n",
       "                        <th> Shape </th>\n",
       "                        <td> (60,) </td>\n",
       "                        <td> (60,) </td>\n",
       "                    </tr>\n",
       "                    <tr>\n",
       "                        <th> Dask graph </th>\n",
       "                        <td colspan=\"2\"> 1 chunks in 2 graph layers </td>\n",
       "                    </tr>\n",
       "                    <tr>\n",
       "                        <th> Data type </th>\n",
       "                        <td colspan=\"2\"> <U4 numpy.ndarray </td>\n",
       "                    </tr>\n",
       "                </tbody>\n",
       "            </table>\n",
       "        </td>\n",
       "        <td>\n",
       "        <svg width=\"170\" height=\"78\" style=\"stroke:rgb(0,0,0);stroke-width:1\" >\n",
       "\n",
       "  <!-- Horizontal lines -->\n",
       "  <line x1=\"0\" y1=\"0\" x2=\"120\" y2=\"0\" style=\"stroke-width:2\" />\n",
       "  <line x1=\"0\" y1=\"28\" x2=\"120\" y2=\"28\" style=\"stroke-width:2\" />\n",
       "\n",
       "  <!-- Vertical lines -->\n",
       "  <line x1=\"0\" y1=\"0\" x2=\"0\" y2=\"28\" style=\"stroke-width:2\" />\n",
       "  <line x1=\"120\" y1=\"0\" x2=\"120\" y2=\"28\" style=\"stroke-width:2\" />\n",
       "\n",
       "  <!-- Colored Rectangle -->\n",
       "  <polygon points=\"0.0,0.0 120.0,0.0 120.0,28.02293761910704 0.0,28.02293761910704\" style=\"fill:#ECB172A0;stroke-width:0\"/>\n",
       "\n",
       "  <!-- Text -->\n",
       "  <text x=\"60.000000\" y=\"48.022938\" font-size=\"1.0rem\" font-weight=\"100\" text-anchor=\"middle\" >60</text>\n",
       "  <text x=\"140.000000\" y=\"14.011469\" font-size=\"1.0rem\" font-weight=\"100\" text-anchor=\"middle\" transform=\"rotate(0,140.000000,14.011469)\">1</text>\n",
       "</svg>\n",
       "        </td>\n",
       "    </tr>\n",
       "</table></div></li><li class='xr-var-item'><div class='xr-var-name'><span class='xr-has-index'>lat</span></div><div class='xr-var-dims'>(lat)</div><div class='xr-var-dtype'>float64</div><div class='xr-var-preview xr-preview'>64.88 64.62 64.38 ... 45.38 45.12</div><input id='attrs-6e248034-b5c1-46c9-afbb-bf8cc8edf68a' class='xr-var-attrs-in' type='checkbox' ><label for='attrs-6e248034-b5c1-46c9-afbb-bf8cc8edf68a' title='Show/Hide attributes'><svg class='icon xr-icon-file-text2'><use xlink:href='#icon-file-text2'></use></svg></label><input id='data-4cc0fb91-799c-4e92-94aa-07b0f9a34654' class='xr-var-data-in' type='checkbox'><label for='data-4cc0fb91-799c-4e92-94aa-07b0f9a34654' title='Show/Hide data repr'><svg class='icon xr-icon-database'><use xlink:href='#icon-database'></use></svg></label><div class='xr-var-attrs'><dl class='xr-attrs'><dt><span>long_name :</span></dt><dd>latitude</dd><dt><span>standard_name :</span></dt><dd>latitude</dd><dt><span>stored_direction :</span></dt><dd>decreasing</dd><dt><span>units :</span></dt><dd>degrees_north</dd></dl></div><div class='xr-var-data'><pre>array([64.875, 64.625, 64.375, 64.125, 63.875, 63.625, 63.375, 63.125, 62.875,\n",
       "       62.625, 62.375, 62.125, 61.875, 61.625, 61.375, 61.125, 60.875, 60.625,\n",
       "       60.375, 60.125, 59.875, 59.625, 59.375, 59.125, 58.875, 58.625, 58.375,\n",
       "       58.125, 57.875, 57.625, 57.375, 57.125, 56.875, 56.625, 56.375, 56.125,\n",
       "       55.875, 55.625, 55.375, 55.125, 54.875, 54.625, 54.375, 54.125, 53.875,\n",
       "       53.625, 53.375, 53.125, 52.875, 52.625, 52.375, 52.125, 51.875, 51.625,\n",
       "       51.375, 51.125, 50.875, 50.625, 50.375, 50.125, 49.875, 49.625, 49.375,\n",
       "       49.125, 48.875, 48.625, 48.375, 48.125, 47.875, 47.625, 47.375, 47.125,\n",
       "       46.875, 46.625, 46.375, 46.125, 45.875, 45.625, 45.375, 45.125])</pre></div></li><li class='xr-var-item'><div class='xr-var-name'><span class='xr-has-index'>lon</span></div><div class='xr-var-dims'>(lon)</div><div class='xr-var-dtype'>float64</div><div class='xr-var-preview xr-preview'>-4.875 -4.625 ... 34.62 34.88</div><input id='attrs-495d6e81-b7d2-4891-8c60-790631958e3c' class='xr-var-attrs-in' type='checkbox' ><label for='attrs-495d6e81-b7d2-4891-8c60-790631958e3c' title='Show/Hide attributes'><svg class='icon xr-icon-file-text2'><use xlink:href='#icon-file-text2'></use></svg></label><input id='data-d3479085-79db-4dfa-bad5-bc4c9de9227a' class='xr-var-data-in' type='checkbox'><label for='data-d3479085-79db-4dfa-bad5-bc4c9de9227a' title='Show/Hide data repr'><svg class='icon xr-icon-database'><use xlink:href='#icon-database'></use></svg></label><div class='xr-var-attrs'><dl class='xr-attrs'><dt><span>long_name :</span></dt><dd>longitude</dd><dt><span>standard_name :</span></dt><dd>longitude</dd><dt><span>units :</span></dt><dd>degrees_east</dd></dl></div><div class='xr-var-data'><pre>array([-4.875, -4.625, -4.375, -4.125, -3.875, -3.625, -3.375, -3.125, -2.875,\n",
       "       -2.625, -2.375, -2.125, -1.875, -1.625, -1.375, -1.125, -0.875, -0.625,\n",
       "       -0.375, -0.125,  0.125,  0.375,  0.625,  0.875,  1.125,  1.375,  1.625,\n",
       "        1.875,  2.125,  2.375,  2.625,  2.875,  3.125,  3.375,  3.625,  3.875,\n",
       "        4.125,  4.375,  4.625,  4.875,  5.125,  5.375,  5.625,  5.875,  6.125,\n",
       "        6.375,  6.625,  6.875,  7.125,  7.375,  7.625,  7.875,  8.125,  8.375,\n",
       "        8.625,  8.875,  9.125,  9.375,  9.625,  9.875, 10.125, 10.375, 10.625,\n",
       "       10.875, 11.125, 11.375, 11.625, 11.875, 12.125, 12.375, 12.625, 12.875,\n",
       "       13.125, 13.375, 13.625, 13.875, 14.125, 14.375, 14.625, 14.875, 15.125,\n",
       "       15.375, 15.625, 15.875, 16.125, 16.375, 16.625, 16.875, 17.125, 17.375,\n",
       "       17.625, 17.875, 18.125, 18.375, 18.625, 18.875, 19.125, 19.375, 19.625,\n",
       "       19.875, 20.125, 20.375, 20.625, 20.875, 21.125, 21.375, 21.625, 21.875,\n",
       "       22.125, 22.375, 22.625, 22.875, 23.125, 23.375, 23.625, 23.875, 24.125,\n",
       "       24.375, 24.625, 24.875, 25.125, 25.375, 25.625, 25.875, 26.125, 26.375,\n",
       "       26.625, 26.875, 27.125, 27.375, 27.625, 27.875, 28.125, 28.375, 28.625,\n",
       "       28.875, 29.125, 29.375, 29.625, 29.875, 30.125, 30.375, 30.625, 30.875,\n",
       "       31.125, 31.375, 31.625, 31.875, 32.125, 32.375, 32.625, 32.875, 33.125,\n",
       "       33.375, 33.625, 33.875, 34.125, 34.375, 34.625, 34.875])</pre></div></li><li class='xr-var-item'><div class='xr-var-name'><span>number</span></div><div class='xr-var-dims'>()</div><div class='xr-var-dtype'>int64</div><div class='xr-var-preview xr-preview'>...</div><input id='attrs-b3bea3a8-e9a8-4b3c-97f4-2186396d131f' class='xr-var-attrs-in' type='checkbox' ><label for='attrs-b3bea3a8-e9a8-4b3c-97f4-2186396d131f' title='Show/Hide attributes'><svg class='icon xr-icon-file-text2'><use xlink:href='#icon-file-text2'></use></svg></label><input id='data-b0504d7f-217e-43bb-be6c-b560fd132f42' class='xr-var-data-in' type='checkbox'><label for='data-b0504d7f-217e-43bb-be6c-b560fd132f42' title='Show/Hide data repr'><svg class='icon xr-icon-database'><use xlink:href='#icon-database'></use></svg></label><div class='xr-var-attrs'><dl class='xr-attrs'><dt><span>long_name :</span></dt><dd>ensemble member numerical id</dd><dt><span>standard_name :</span></dt><dd>realization</dd><dt><span>units :</span></dt><dd>1</dd></dl></div><div class='xr-var-data'><pre>[1 values with dtype=int64]</pre></div></li><li class='xr-var-item'><div class='xr-var-name'><span class='xr-has-index'>time</span></div><div class='xr-var-dims'>(time)</div><div class='xr-var-dtype'>datetime64[ns]</div><div class='xr-var-preview xr-preview'>2006-01-01 ... 2010-12-01</div><input id='attrs-23d401d3-01ce-459a-9929-64f84c2b65d7' class='xr-var-attrs-in' type='checkbox' ><label for='attrs-23d401d3-01ce-459a-9929-64f84c2b65d7' title='Show/Hide attributes'><svg class='icon xr-icon-file-text2'><use xlink:href='#icon-file-text2'></use></svg></label><input id='data-207d5486-3323-4f74-ae00-e6be0eb7ddc8' class='xr-var-data-in' type='checkbox'><label for='data-207d5486-3323-4f74-ae00-e6be0eb7ddc8' title='Show/Hide data repr'><svg class='icon xr-icon-database'><use xlink:href='#icon-database'></use></svg></label><div class='xr-var-attrs'><dl class='xr-attrs'><dt><span>standard_name :</span></dt><dd>time</dd></dl></div><div class='xr-var-data'><pre>array([&#x27;2006-01-01T00:00:00.000000000&#x27;, &#x27;2006-02-01T00:00:00.000000000&#x27;,\n",
       "       &#x27;2006-03-01T00:00:00.000000000&#x27;, &#x27;2006-04-01T00:00:00.000000000&#x27;,\n",
       "       &#x27;2006-05-01T00:00:00.000000000&#x27;, &#x27;2006-06-01T00:00:00.000000000&#x27;,\n",
       "       &#x27;2006-07-01T00:00:00.000000000&#x27;, &#x27;2006-08-01T00:00:00.000000000&#x27;,\n",
       "       &#x27;2006-09-01T00:00:00.000000000&#x27;, &#x27;2006-10-01T00:00:00.000000000&#x27;,\n",
       "       &#x27;2006-11-01T00:00:00.000000000&#x27;, &#x27;2006-12-01T00:00:00.000000000&#x27;,\n",
       "       &#x27;2007-01-01T00:00:00.000000000&#x27;, &#x27;2007-02-01T00:00:00.000000000&#x27;,\n",
       "       &#x27;2007-03-01T00:00:00.000000000&#x27;, &#x27;2007-04-01T00:00:00.000000000&#x27;,\n",
       "       &#x27;2007-05-01T00:00:00.000000000&#x27;, &#x27;2007-06-01T00:00:00.000000000&#x27;,\n",
       "       &#x27;2007-07-01T00:00:00.000000000&#x27;, &#x27;2007-08-01T00:00:00.000000000&#x27;,\n",
       "       &#x27;2007-09-01T00:00:00.000000000&#x27;, &#x27;2007-10-01T00:00:00.000000000&#x27;,\n",
       "       &#x27;2007-11-01T00:00:00.000000000&#x27;, &#x27;2007-12-01T00:00:00.000000000&#x27;,\n",
       "       &#x27;2008-01-01T00:00:00.000000000&#x27;, &#x27;2008-02-01T00:00:00.000000000&#x27;,\n",
       "       &#x27;2008-03-01T00:00:00.000000000&#x27;, &#x27;2008-04-01T00:00:00.000000000&#x27;,\n",
       "       &#x27;2008-05-01T00:00:00.000000000&#x27;, &#x27;2008-06-01T00:00:00.000000000&#x27;,\n",
       "       &#x27;2008-07-01T00:00:00.000000000&#x27;, &#x27;2008-08-01T00:00:00.000000000&#x27;,\n",
       "       &#x27;2008-09-01T00:00:00.000000000&#x27;, &#x27;2008-10-01T00:00:00.000000000&#x27;,\n",
       "       &#x27;2008-11-01T00:00:00.000000000&#x27;, &#x27;2008-12-01T00:00:00.000000000&#x27;,\n",
       "       &#x27;2009-01-01T00:00:00.000000000&#x27;, &#x27;2009-02-01T00:00:00.000000000&#x27;,\n",
       "       &#x27;2009-03-01T00:00:00.000000000&#x27;, &#x27;2009-04-01T00:00:00.000000000&#x27;,\n",
       "       &#x27;2009-05-01T00:00:00.000000000&#x27;, &#x27;2009-06-01T00:00:00.000000000&#x27;,\n",
       "       &#x27;2009-07-01T00:00:00.000000000&#x27;, &#x27;2009-08-01T00:00:00.000000000&#x27;,\n",
       "       &#x27;2009-09-01T00:00:00.000000000&#x27;, &#x27;2009-10-01T00:00:00.000000000&#x27;,\n",
       "       &#x27;2009-11-01T00:00:00.000000000&#x27;, &#x27;2009-12-01T00:00:00.000000000&#x27;,\n",
       "       &#x27;2010-01-01T00:00:00.000000000&#x27;, &#x27;2010-02-01T00:00:00.000000000&#x27;,\n",
       "       &#x27;2010-03-01T00:00:00.000000000&#x27;, &#x27;2010-04-01T00:00:00.000000000&#x27;,\n",
       "       &#x27;2010-05-01T00:00:00.000000000&#x27;, &#x27;2010-06-01T00:00:00.000000000&#x27;,\n",
       "       &#x27;2010-07-01T00:00:00.000000000&#x27;, &#x27;2010-08-01T00:00:00.000000000&#x27;,\n",
       "       &#x27;2010-09-01T00:00:00.000000000&#x27;, &#x27;2010-10-01T00:00:00.000000000&#x27;,\n",
       "       &#x27;2010-11-01T00:00:00.000000000&#x27;, &#x27;2010-12-01T00:00:00.000000000&#x27;],\n",
       "      dtype=&#x27;datetime64[ns]&#x27;)</pre></div></li></ul></div></li><li class='xr-section-item'><input id='section-e9e5dc8d-4c09-45db-9874-bf4513c95cf8' class='xr-section-summary-in' type='checkbox'  checked><label for='section-e9e5dc8d-4c09-45db-9874-bf4513c95cf8' class='xr-section-summary' >Data variables: <span>(1)</span></label><div class='xr-section-inline-details'></div><div class='xr-section-details'><ul class='xr-var-list'><li class='xr-var-item'><div class='xr-var-name'><span>t2m</span></div><div class='xr-var-dims'>(time, lat, lon)</div><div class='xr-var-dtype'>float32</div><div class='xr-var-preview xr-preview'>dask.array&lt;chunksize=(30, 40, 80), meta=np.ndarray&gt;</div><input id='attrs-612fcceb-7de2-4e8c-a8bd-7cbc1c3e8f25' class='xr-var-attrs-in' type='checkbox' ><label for='attrs-612fcceb-7de2-4e8c-a8bd-7cbc1c3e8f25' title='Show/Hide attributes'><svg class='icon xr-icon-file-text2'><use xlink:href='#icon-file-text2'></use></svg></label><input id='data-5bc24d6a-81af-454b-a716-d93b687cf973' class='xr-var-data-in' type='checkbox'><label for='data-5bc24d6a-81af-454b-a716-d93b687cf973' title='Show/Hide data repr'><svg class='icon xr-icon-database'><use xlink:href='#icon-database'></use></svg></label><div class='xr-var-attrs'><dl class='xr-attrs'><dt><span>GRIB_NV :</span></dt><dd>0</dd><dt><span>GRIB_Nx :</span></dt><dd>160</dd><dt><span>GRIB_Ny :</span></dt><dd>80</dd><dt><span>GRIB_cfName :</span></dt><dd>unknown</dd><dt><span>GRIB_cfVarName :</span></dt><dd>t2m</dd><dt><span>GRIB_dataType :</span></dt><dd>an</dd><dt><span>GRIB_gridDefinitionDescription :</span></dt><dd>Latitude/Longitude Grid</dd><dt><span>GRIB_gridType :</span></dt><dd>regular_ll</dd><dt><span>GRIB_iDirectionIncrementInDegrees :</span></dt><dd>0.25</dd><dt><span>GRIB_iScansNegatively :</span></dt><dd>0</dd><dt><span>GRIB_jDirectionIncrementInDegrees :</span></dt><dd>0.25</dd><dt><span>GRIB_jPointsAreConsecutive :</span></dt><dd>0</dd><dt><span>GRIB_jScansPositively :</span></dt><dd>0</dd><dt><span>GRIB_latitudeOfFirstGridPointInDegrees :</span></dt><dd>64.875</dd><dt><span>GRIB_latitudeOfLastGridPointInDegrees :</span></dt><dd>45.125</dd><dt><span>GRIB_longitudeOfFirstGridPointInDegrees :</span></dt><dd>-4.875</dd><dt><span>GRIB_longitudeOfLastGridPointInDegrees :</span></dt><dd>34.875</dd><dt><span>GRIB_missingValue :</span></dt><dd>3.4028234663852886e+38</dd><dt><span>GRIB_name :</span></dt><dd>2 metre temperature</dd><dt><span>GRIB_numberOfPoints :</span></dt><dd>12800</dd><dt><span>GRIB_paramId :</span></dt><dd>167</dd><dt><span>GRIB_shortName :</span></dt><dd>2t</dd><dt><span>GRIB_stepType :</span></dt><dd>avgua</dd><dt><span>GRIB_stepUnits :</span></dt><dd>1</dd><dt><span>GRIB_surface :</span></dt><dd>0.0</dd><dt><span>GRIB_totalNumber :</span></dt><dd>0</dd><dt><span>GRIB_typeOfLevel :</span></dt><dd>surface</dd><dt><span>GRIB_units :</span></dt><dd>K</dd><dt><span>GRIB_uvRelativeToGrid :</span></dt><dd>0</dd><dt><span>long_name :</span></dt><dd>2 metre temperature</dd><dt><span>standard_name :</span></dt><dd>unknown</dd><dt><span>units :</span></dt><dd>K</dd></dl></div><div class='xr-var-data'><table>\n",
       "    <tr>\n",
       "        <td>\n",
       "            <table style=\"border-collapse: collapse;\">\n",
       "                <thead>\n",
       "                    <tr>\n",
       "                        <td> </td>\n",
       "                        <th> Array </th>\n",
       "                        <th> Chunk </th>\n",
       "                    </tr>\n",
       "                </thead>\n",
       "                <tbody>\n",
       "                    \n",
       "                    <tr>\n",
       "                        <th> Bytes </th>\n",
       "                        <td> 2.93 MiB </td>\n",
       "                        <td> 375.00 kiB </td>\n",
       "                    </tr>\n",
       "                    \n",
       "                    <tr>\n",
       "                        <th> Shape </th>\n",
       "                        <td> (60, 80, 160) </td>\n",
       "                        <td> (30, 40, 80) </td>\n",
       "                    </tr>\n",
       "                    <tr>\n",
       "                        <th> Dask graph </th>\n",
       "                        <td colspan=\"2\"> 8 chunks in 2 graph layers </td>\n",
       "                    </tr>\n",
       "                    <tr>\n",
       "                        <th> Data type </th>\n",
       "                        <td colspan=\"2\"> float32 numpy.ndarray </td>\n",
       "                    </tr>\n",
       "                </tbody>\n",
       "            </table>\n",
       "        </td>\n",
       "        <td>\n",
       "        <svg width=\"206\" height=\"136\" style=\"stroke:rgb(0,0,0);stroke-width:1\" >\n",
       "\n",
       "  <!-- Horizontal lines -->\n",
       "  <line x1=\"10\" y1=\"0\" x2=\"36\" y2=\"26\" style=\"stroke-width:2\" />\n",
       "  <line x1=\"10\" y1=\"30\" x2=\"36\" y2=\"56\" />\n",
       "  <line x1=\"10\" y1=\"60\" x2=\"36\" y2=\"86\" style=\"stroke-width:2\" />\n",
       "\n",
       "  <!-- Vertical lines -->\n",
       "  <line x1=\"10\" y1=\"0\" x2=\"10\" y2=\"60\" style=\"stroke-width:2\" />\n",
       "  <line x1=\"23\" y1=\"13\" x2=\"23\" y2=\"73\" />\n",
       "  <line x1=\"36\" y1=\"26\" x2=\"36\" y2=\"86\" style=\"stroke-width:2\" />\n",
       "\n",
       "  <!-- Colored Rectangle -->\n",
       "  <polygon points=\"10.0,0.0 36.470588235294116,26.47058823529412 36.470588235294116,86.47058823529412 10.0,60.0\" style=\"fill:#ECB172A0;stroke-width:0\"/>\n",
       "\n",
       "  <!-- Horizontal lines -->\n",
       "  <line x1=\"10\" y1=\"0\" x2=\"130\" y2=\"0\" style=\"stroke-width:2\" />\n",
       "  <line x1=\"23\" y1=\"13\" x2=\"143\" y2=\"13\" />\n",
       "  <line x1=\"36\" y1=\"26\" x2=\"156\" y2=\"26\" style=\"stroke-width:2\" />\n",
       "\n",
       "  <!-- Vertical lines -->\n",
       "  <line x1=\"10\" y1=\"0\" x2=\"36\" y2=\"26\" style=\"stroke-width:2\" />\n",
       "  <line x1=\"70\" y1=\"0\" x2=\"96\" y2=\"26\" />\n",
       "  <line x1=\"130\" y1=\"0\" x2=\"156\" y2=\"26\" style=\"stroke-width:2\" />\n",
       "\n",
       "  <!-- Colored Rectangle -->\n",
       "  <polygon points=\"10.0,0.0 130.0,0.0 156.47058823529412,26.47058823529412 36.470588235294116,26.47058823529412\" style=\"fill:#ECB172A0;stroke-width:0\"/>\n",
       "\n",
       "  <!-- Horizontal lines -->\n",
       "  <line x1=\"36\" y1=\"26\" x2=\"156\" y2=\"26\" style=\"stroke-width:2\" />\n",
       "  <line x1=\"36\" y1=\"56\" x2=\"156\" y2=\"56\" />\n",
       "  <line x1=\"36\" y1=\"86\" x2=\"156\" y2=\"86\" style=\"stroke-width:2\" />\n",
       "\n",
       "  <!-- Vertical lines -->\n",
       "  <line x1=\"36\" y1=\"26\" x2=\"36\" y2=\"86\" style=\"stroke-width:2\" />\n",
       "  <line x1=\"96\" y1=\"26\" x2=\"96\" y2=\"86\" />\n",
       "  <line x1=\"156\" y1=\"26\" x2=\"156\" y2=\"86\" style=\"stroke-width:2\" />\n",
       "\n",
       "  <!-- Colored Rectangle -->\n",
       "  <polygon points=\"36.470588235294116,26.47058823529412 156.47058823529412,26.47058823529412 156.47058823529412,86.47058823529412 36.470588235294116,86.47058823529412\" style=\"fill:#ECB172A0;stroke-width:0\"/>\n",
       "\n",
       "  <!-- Text -->\n",
       "  <text x=\"96.470588\" y=\"106.470588\" font-size=\"1.0rem\" font-weight=\"100\" text-anchor=\"middle\" >160</text>\n",
       "  <text x=\"176.470588\" y=\"56.470588\" font-size=\"1.0rem\" font-weight=\"100\" text-anchor=\"middle\" transform=\"rotate(0,176.470588,56.470588)\">80</text>\n",
       "  <text x=\"13.235294\" y=\"93.235294\" font-size=\"1.0rem\" font-weight=\"100\" text-anchor=\"middle\" transform=\"rotate(45,13.235294,93.235294)\">60</text>\n",
       "</svg>\n",
       "        </td>\n",
       "    </tr>\n",
       "</table></div></li></ul></div></li><li class='xr-section-item'><input id='section-c71ece74-cf00-49c9-9771-a7292ea637c1' class='xr-section-summary-in' type='checkbox'  ><label for='section-c71ece74-cf00-49c9-9771-a7292ea637c1' class='xr-section-summary' >Indexes: <span>(3)</span></label><div class='xr-section-inline-details'></div><div class='xr-section-details'><ul class='xr-var-list'><li class='xr-var-item'><div class='xr-index-name'><div>lat</div></div><div class='xr-index-preview'>PandasIndex</div><div></div><input id='index-a4a3d065-8ea5-4d3f-a14f-6ec50d96a102' class='xr-index-data-in' type='checkbox'/><label for='index-a4a3d065-8ea5-4d3f-a14f-6ec50d96a102' title='Show/Hide index repr'><svg class='icon xr-icon-database'><use xlink:href='#icon-database'></use></svg></label><div class='xr-index-data'><pre>PandasIndex(Index([64.875, 64.625, 64.375, 64.125, 63.875, 63.625, 63.375, 63.125, 62.875,\n",
       "       62.625, 62.375, 62.125, 61.875, 61.625, 61.375, 61.125, 60.875, 60.625,\n",
       "       60.375, 60.125, 59.875, 59.625, 59.375, 59.125, 58.875, 58.625, 58.375,\n",
       "       58.125, 57.875, 57.625, 57.375, 57.125, 56.875, 56.625, 56.375, 56.125,\n",
       "       55.875, 55.625, 55.375, 55.125, 54.875, 54.625, 54.375, 54.125, 53.875,\n",
       "       53.625, 53.375, 53.125, 52.875, 52.625, 52.375, 52.125, 51.875, 51.625,\n",
       "       51.375, 51.125, 50.875, 50.625, 50.375, 50.125, 49.875, 49.625, 49.375,\n",
       "       49.125, 48.875, 48.625, 48.375, 48.125, 47.875, 47.625, 47.375, 47.125,\n",
       "       46.875, 46.625, 46.375, 46.125, 45.875, 45.625, 45.375, 45.125],\n",
       "      dtype=&#x27;float64&#x27;, name=&#x27;lat&#x27;))</pre></div></li><li class='xr-var-item'><div class='xr-index-name'><div>lon</div></div><div class='xr-index-preview'>PandasIndex</div><div></div><input id='index-74cdd1ef-50a9-482f-aeff-491af326d602' class='xr-index-data-in' type='checkbox'/><label for='index-74cdd1ef-50a9-482f-aeff-491af326d602' title='Show/Hide index repr'><svg class='icon xr-icon-database'><use xlink:href='#icon-database'></use></svg></label><div class='xr-index-data'><pre>PandasIndex(Index([-4.875, -4.625, -4.375, -4.125, -3.875, -3.625, -3.375, -3.125, -2.875,\n",
       "       -2.625,\n",
       "       ...\n",
       "       32.625, 32.875, 33.125, 33.375, 33.625, 33.875, 34.125, 34.375, 34.625,\n",
       "       34.875],\n",
       "      dtype=&#x27;float64&#x27;, name=&#x27;lon&#x27;, length=160))</pre></div></li><li class='xr-var-item'><div class='xr-index-name'><div>time</div></div><div class='xr-index-preview'>PandasIndex</div><div></div><input id='index-1139f548-2321-4775-9edc-1c6b4e3924ec' class='xr-index-data-in' type='checkbox'/><label for='index-1139f548-2321-4775-9edc-1c6b4e3924ec' title='Show/Hide index repr'><svg class='icon xr-icon-database'><use xlink:href='#icon-database'></use></svg></label><div class='xr-index-data'><pre>PandasIndex(DatetimeIndex([&#x27;2006-01-01&#x27;, &#x27;2006-02-01&#x27;, &#x27;2006-03-01&#x27;, &#x27;2006-04-01&#x27;,\n",
       "               &#x27;2006-05-01&#x27;, &#x27;2006-06-01&#x27;, &#x27;2006-07-01&#x27;, &#x27;2006-08-01&#x27;,\n",
       "               &#x27;2006-09-01&#x27;, &#x27;2006-10-01&#x27;, &#x27;2006-11-01&#x27;, &#x27;2006-12-01&#x27;,\n",
       "               &#x27;2007-01-01&#x27;, &#x27;2007-02-01&#x27;, &#x27;2007-03-01&#x27;, &#x27;2007-04-01&#x27;,\n",
       "               &#x27;2007-05-01&#x27;, &#x27;2007-06-01&#x27;, &#x27;2007-07-01&#x27;, &#x27;2007-08-01&#x27;,\n",
       "               &#x27;2007-09-01&#x27;, &#x27;2007-10-01&#x27;, &#x27;2007-11-01&#x27;, &#x27;2007-12-01&#x27;,\n",
       "               &#x27;2008-01-01&#x27;, &#x27;2008-02-01&#x27;, &#x27;2008-03-01&#x27;, &#x27;2008-04-01&#x27;,\n",
       "               &#x27;2008-05-01&#x27;, &#x27;2008-06-01&#x27;, &#x27;2008-07-01&#x27;, &#x27;2008-08-01&#x27;,\n",
       "               &#x27;2008-09-01&#x27;, &#x27;2008-10-01&#x27;, &#x27;2008-11-01&#x27;, &#x27;2008-12-01&#x27;,\n",
       "               &#x27;2009-01-01&#x27;, &#x27;2009-02-01&#x27;, &#x27;2009-03-01&#x27;, &#x27;2009-04-01&#x27;,\n",
       "               &#x27;2009-05-01&#x27;, &#x27;2009-06-01&#x27;, &#x27;2009-07-01&#x27;, &#x27;2009-08-01&#x27;,\n",
       "               &#x27;2009-09-01&#x27;, &#x27;2009-10-01&#x27;, &#x27;2009-11-01&#x27;, &#x27;2009-12-01&#x27;,\n",
       "               &#x27;2010-01-01&#x27;, &#x27;2010-02-01&#x27;, &#x27;2010-03-01&#x27;, &#x27;2010-04-01&#x27;,\n",
       "               &#x27;2010-05-01&#x27;, &#x27;2010-06-01&#x27;, &#x27;2010-07-01&#x27;, &#x27;2010-08-01&#x27;,\n",
       "               &#x27;2010-09-01&#x27;, &#x27;2010-10-01&#x27;, &#x27;2010-11-01&#x27;, &#x27;2010-12-01&#x27;],\n",
       "              dtype=&#x27;datetime64[ns]&#x27;, name=&#x27;time&#x27;, freq=None))</pre></div></li></ul></div></li><li class='xr-section-item'><input id='section-3bca7598-94d1-4b56-a426-48c5b05c2edf' class='xr-section-summary-in' type='checkbox'  checked><label for='section-3bca7598-94d1-4b56-a426-48c5b05c2edf' class='xr-section-summary' >Attributes: <span>(6)</span></label><div class='xr-section-inline-details'></div><div class='xr-section-details'><dl class='xr-attrs'><dt><span>Conventions :</span></dt><dd>CF-1.7</dd><dt><span>GRIB_centre :</span></dt><dd>ecmf</dd><dt><span>GRIB_centreDescription :</span></dt><dd>European Centre for Medium-Range Weather Forecasts</dd><dt><span>GRIB_subCentre :</span></dt><dd>0</dd><dt><span>history :</span></dt><dd>2024-09-18T07:22 GRIB to CDM+CF via cfgrib-0.9.14.0/ecCodes-2.36.0 with {&quot;source&quot;: &quot;data.grib&quot;, &quot;filter_by_keys&quot;: {}, &quot;encode_cf&quot;: [&quot;parameter&quot;, &quot;time&quot;, &quot;geography&quot;, &quot;vertical&quot;]}</dd><dt><span>institution :</span></dt><dd>European Centre for Medium-Range Weather Forecasts</dd></dl></div></li></ul></div></div>"
      ],
      "text/plain": [
       "<xarray.Dataset> Size: 3MB\n",
       "Dimensions:  (time: 60, lat: 80, lon: 160)\n",
       "Coordinates:\n",
       "    expver   (time) <U4 960B dask.array<chunksize=(60,), meta=np.ndarray>\n",
       "  * lat      (lat) float64 640B 64.88 64.62 64.38 64.12 ... 45.62 45.38 45.12\n",
       "  * lon      (lon) float64 1kB -4.875 -4.625 -4.375 -4.125 ... 34.38 34.62 34.88\n",
       "    number   int64 8B ...\n",
       "  * time     (time) datetime64[ns] 480B 2006-01-01 2006-02-01 ... 2010-12-01\n",
       "Data variables:\n",
       "    t2m      (time, lat, lon) float32 3MB dask.array<chunksize=(30, 40, 80), meta=np.ndarray>\n",
       "Attributes:\n",
       "    Conventions:             CF-1.7\n",
       "    GRIB_centre:             ecmf\n",
       "    GRIB_centreDescription:  European Centre for Medium-Range Weather Forecasts\n",
       "    GRIB_subCentre:          0\n",
       "    history:                 2024-09-18T07:22 GRIB to CDM+CF via cfgrib-0.9.1...\n",
       "    institution:             European Centre for Medium-Range Weather Forecasts"
      ]
     },
     "execution_count": 18,
     "metadata": {},
     "output_type": "execute_result"
    }
   ],
   "source": [
    "cds_subset = team_store.open_data('reanalysis-era5-single-levels-monthly-means-subset-2006-2010_TMH.zarr')\n",
    "cds_subset"
   ]
  },
  {
   "cell_type": "markdown",
   "metadata": {},
   "source": [
    "### Visualize the dataset using xcube viewer"
   ]
  },
  {
   "cell_type": "code",
   "execution_count": 19,
   "metadata": {
    "tags": []
   },
   "outputs": [],
   "source": [
    "from xcube.webapi.viewer import Viewer"
   ]
  },
  {
   "cell_type": "markdown",
   "metadata": {},
   "source": [
    "Let's set some attributes of the variable, so the colormapping does not fall back on the default"
   ]
  },
  {
   "cell_type": "code",
   "execution_count": 20,
   "metadata": {
    "tags": []
   },
   "outputs": [],
   "source": [
    "cds_subset.t2m.attrs[\"color_value_min\"] = 270\n",
    "cds_subset.t2m.attrs[\"color_value_max\"] = 310\n",
    "cds_subset.t2m.attrs[\"color_bar_name\"] = \"plasma\""
   ]
  },
  {
   "cell_type": "code",
   "execution_count": 21,
   "metadata": {
    "tags": []
   },
   "outputs": [],
   "source": [
    "cds_subset.attrs[\"title\"] = \"ERA5 2m Temperature\""
   ]
  },
  {
   "cell_type": "code",
   "execution_count": null,
   "metadata": {
    "tags": []
   },
   "outputs": [
    {
     "name": "stderr",
     "output_type": "stream",
     "text": [
      "404 GET /viewer/config/config.json (127.0.0.1): xcube viewer has not been been configured\n",
      "404 GET /viewer/config/config.json (127.0.0.1) 3.75ms\n",
      "Uncaught exception GET /datasets?details=1 (127.0.0.1)\n",
      "HTTPServerRequest(protocol='http', host='deep.earthsystemdatalab.net', method='GET', uri='/datasets?details=1', version='HTTP/1.1', remote_ip='127.0.0.1')\n",
      "Traceback (most recent call last):\n",
      "  File \"/home/conda/deepesdl/36a2c06c01942b4828818c0c77b0355c0d66b085bd378ed58a97b1f2e589092a-20240918-063730-228122-584-xcube-1.7.0/lib/python3.11/site-packages/tornado/web.py\", line 1790, in _execute\n",
      "    result = await result\n",
      "             ^^^^^^^^^^^^\n",
      "  File \"/home/conda/deepesdl/36a2c06c01942b4828818c0c77b0355c0d66b085bd378ed58a97b1f2e589092a-20240918-063730-228122-584-xcube-1.7.0/lib/python3.11/site-packages/xcube/server/webservers/tornado.py\", line 335, in get\n",
      "    await self._call_method(\"get\", *args, **kwargs)\n",
      "  File \"/home/conda/deepesdl/36a2c06c01942b4828818c0c77b0355c0d66b085bd378ed58a97b1f2e589092a-20240918-063730-228122-584-xcube-1.7.0/lib/python3.11/site-packages/xcube/server/webservers/tornado.py\", line 355, in _call_method\n",
      "    method(*args, **kwargs)\n",
      "  File \"/home/conda/deepesdl/36a2c06c01942b4828818c0c77b0355c0d66b085bd378ed58a97b1f2e589092a-20240918-063730-228122-584-xcube-1.7.0/lib/python3.11/site-packages/xcube/webapi/datasets/routes.py\", line 109, in get\n",
      "    response = get_datasets(\n",
      "               ^^^^^^^^^^^^^\n",
      "  File \"/home/conda/deepesdl/36a2c06c01942b4828818c0c77b0355c0d66b085bd378ed58a97b1f2e589092a-20240918-063730-228122-584-xcube-1.7.0/lib/python3.11/site-packages/xcube/webapi/datasets/controllers.py\", line 73, in get_datasets\n",
      "    dataset_configs = list(ctx.get_dataset_configs())\n",
      "                           ^^^^^^^^^^^^^^^^^^^^^^^^^\n",
      "  File \"/home/conda/deepesdl/36a2c06c01942b4828818c0c77b0355c0d66b085bd378ed58a97b1f2e589092a-20240918-063730-228122-584-xcube-1.7.0/lib/python3.11/site-packages/xcube/webapi/datasets/context.py\", line 449, in get_dataset_configs\n",
      "    assert self._dataset_configs is not None\n",
      "           ^^^^^^^^^^^^^^^^^^^^^^^^^^^^^^^^^\n",
      "AssertionError\n",
      "500 GET /datasets?details=1 (127.0.0.1) 5.76ms\n",
      "Uncaught exception GET /tiles/a2f214fd-d771-4a78-908b-55f6cb9d4935/t2m/4/4/8?crs=EPSG%3A3857&vmin=270&vmax=310&cmap=plasma&time=2010-12-01T00%3A00%3A00Z (127.0.0.1)\n",
      "HTTPServerRequest(protocol='http', host='deep.earthsystemdatalab.net', method='GET', uri='/tiles/a2f214fd-d771-4a78-908b-55f6cb9d4935/t2m/4/4/8?crs=EPSG%3A3857&vmin=270&vmax=310&cmap=plasma&time=2010-12-01T00%3A00%3A00Z', version='HTTP/1.1', remote_ip='127.0.0.1')\n",
      "Traceback (most recent call last):\n",
      "  File \"/home/conda/deepesdl/36a2c06c01942b4828818c0c77b0355c0d66b085bd378ed58a97b1f2e589092a-20240918-063730-228122-584-xcube-1.7.0/lib/python3.11/site-packages/tornado/web.py\", line 1790, in _execute\n",
      "    result = await result\n",
      "             ^^^^^^^^^^^^\n",
      "  File \"/home/conda/deepesdl/36a2c06c01942b4828818c0c77b0355c0d66b085bd378ed58a97b1f2e589092a-20240918-063730-228122-584-xcube-1.7.0/lib/python3.11/site-packages/xcube/server/webservers/tornado.py\", line 335, in get\n",
      "    await self._call_method(\"get\", *args, **kwargs)\n",
      "  File \"/home/conda/deepesdl/36a2c06c01942b4828818c0c77b0355c0d66b085bd378ed58a97b1f2e589092a-20240918-063730-228122-584-xcube-1.7.0/lib/python3.11/site-packages/xcube/server/webservers/tornado.py\", line 353, in _call_method\n",
      "    await method(*args, **kwargs)\n",
      "  File \"/home/conda/deepesdl/36a2c06c01942b4828818c0c77b0355c0d66b085bd378ed58a97b1f2e589092a-20240918-063730-228122-584-xcube-1.7.0/lib/python3.11/site-packages/xcube/webapi/tiles/routes.py\", line 91, in get\n",
      "    tile = await self.ctx.run_in_executor(\n",
      "           ^^^^^^^^^^^^^^^^^^^^^^^^^^^^^^^\n",
      "  File \"/home/conda/deepesdl/36a2c06c01942b4828818c0c77b0355c0d66b085bd378ed58a97b1f2e589092a-20240918-063730-228122-584-xcube-1.7.0/lib/python3.11/concurrent/futures/thread.py\", line 58, in run\n",
      "    result = self.fn(*self.args, **self.kwargs)\n",
      "             ^^^^^^^^^^^^^^^^^^^^^^^^^^^^^^^^^^\n",
      "  File \"/home/conda/deepesdl/36a2c06c01942b4828818c0c77b0355c0d66b085bd378ed58a97b1f2e589092a-20240918-063730-228122-584-xcube-1.7.0/lib/python3.11/site-packages/xcube/webapi/tiles/controllers.py\", line 34, in compute_ml_dataset_tile\n",
      "    return _compute_ml_dataset_tile(\n",
      "           ^^^^^^^^^^^^^^^^^^^^^^^^^\n",
      "  File \"/home/conda/deepesdl/36a2c06c01942b4828818c0c77b0355c0d66b085bd378ed58a97b1f2e589092a-20240918-063730-228122-584-xcube-1.7.0/lib/python3.11/site-packages/xcube/webapi/tiles/controllers.py\", line 66, in _compute_ml_dataset_tile\n",
      "    ml_dataset = ctx.datasets_ctx.get_ml_dataset(ds_id)\n",
      "                 ^^^^^^^^^^^^^^^^^^^^^^^^^^^^^^^^^^^^^^\n",
      "  File \"/home/conda/deepesdl/36a2c06c01942b4828818c0c77b0355c0d66b085bd378ed58a97b1f2e589092a-20240918-063730-228122-584-xcube-1.7.0/lib/python3.11/site-packages/xcube/webapi/datasets/context.py\", line 162, in get_ml_dataset\n",
      "    ml_dataset, _ = self._get_dataset_entry(ds_id)\n",
      "                    ^^^^^^^^^^^^^^^^^^^^^^^^^^^^^^\n",
      "  File \"/home/conda/deepesdl/36a2c06c01942b4828818c0c77b0355c0d66b085bd378ed58a97b1f2e589092a-20240918-063730-228122-584-xcube-1.7.0/lib/python3.11/site-packages/xcube/webapi/datasets/context.py\", line 605, in _get_dataset_entry\n",
      "    self._set_dataset_entry(self._create_dataset_entry(ds_id))\n",
      "                            ^^^^^^^^^^^^^^^^^^^^^^^^^^^^^^^^^\n",
      "  File \"/home/conda/deepesdl/36a2c06c01942b4828818c0c77b0355c0d66b085bd378ed58a97b1f2e589092a-20240918-063730-228122-584-xcube-1.7.0/lib/python3.11/site-packages/xcube/webapi/datasets/context.py\", line 617, in _create_dataset_entry\n",
      "    dataset_config = self.get_dataset_config(ds_id)\n",
      "                     ^^^^^^^^^^^^^^^^^^^^^^^^^^^^^^\n",
      "  File \"/home/conda/deepesdl/36a2c06c01942b4828818c0c77b0355c0d66b085bd378ed58a97b1f2e589092a-20240918-063730-228122-584-xcube-1.7.0/lib/python3.11/site-packages/xcube/webapi/datasets/context.py\", line 440, in get_dataset_config\n",
      "    dataset_configs = self.get_dataset_configs()\n",
      "                      ^^^^^^^^^^^^^^^^^^^^^^^^^^\n",
      "  File \"/home/conda/deepesdl/36a2c06c01942b4828818c0c77b0355c0d66b085bd378ed58a97b1f2e589092a-20240918-063730-228122-584-xcube-1.7.0/lib/python3.11/site-packages/xcube/webapi/datasets/context.py\", line 449, in get_dataset_configs\n",
      "    assert self._dataset_configs is not None\n",
      "           ^^^^^^^^^^^^^^^^^^^^^^^^^^^^^^^^^\n",
      "AssertionError\n",
      "500 GET /tiles/a2f214fd-d771-4a78-908b-55f6cb9d4935/t2m/4/4/8?crs=EPSG%3A3857&vmin=270&vmax=310&cmap=plasma&time=2010-12-01T00%3A00%3A00Z (127.0.0.1) 5.91ms\n",
      "Uncaught exception GET /tiles/a2f214fd-d771-4a78-908b-55f6cb9d4935/t2m/4/4/9?crs=EPSG%3A3857&vmin=270&vmax=310&cmap=plasma&time=2010-12-01T00%3A00%3A00Z (127.0.0.1)\n",
      "HTTPServerRequest(protocol='http', host='deep.earthsystemdatalab.net', method='GET', uri='/tiles/a2f214fd-d771-4a78-908b-55f6cb9d4935/t2m/4/4/9?crs=EPSG%3A3857&vmin=270&vmax=310&cmap=plasma&time=2010-12-01T00%3A00%3A00Z', version='HTTP/1.1', remote_ip='127.0.0.1')\n",
      "Traceback (most recent call last):\n",
      "  File \"/home/conda/deepesdl/36a2c06c01942b4828818c0c77b0355c0d66b085bd378ed58a97b1f2e589092a-20240918-063730-228122-584-xcube-1.7.0/lib/python3.11/site-packages/tornado/web.py\", line 1790, in _execute\n",
      "    result = await result\n",
      "             ^^^^^^^^^^^^\n",
      "  File \"/home/conda/deepesdl/36a2c06c01942b4828818c0c77b0355c0d66b085bd378ed58a97b1f2e589092a-20240918-063730-228122-584-xcube-1.7.0/lib/python3.11/site-packages/xcube/server/webservers/tornado.py\", line 335, in get\n",
      "    await self._call_method(\"get\", *args, **kwargs)\n",
      "  File \"/home/conda/deepesdl/36a2c06c01942b4828818c0c77b0355c0d66b085bd378ed58a97b1f2e589092a-20240918-063730-228122-584-xcube-1.7.0/lib/python3.11/site-packages/xcube/server/webservers/tornado.py\", line 353, in _call_method\n",
      "    await method(*args, **kwargs)\n",
      "  File \"/home/conda/deepesdl/36a2c06c01942b4828818c0c77b0355c0d66b085bd378ed58a97b1f2e589092a-20240918-063730-228122-584-xcube-1.7.0/lib/python3.11/site-packages/xcube/webapi/tiles/routes.py\", line 91, in get\n",
      "    tile = await self.ctx.run_in_executor(\n",
      "           ^^^^^^^^^^^^^^^^^^^^^^^^^^^^^^^\n",
      "  File \"/home/conda/deepesdl/36a2c06c01942b4828818c0c77b0355c0d66b085bd378ed58a97b1f2e589092a-20240918-063730-228122-584-xcube-1.7.0/lib/python3.11/concurrent/futures/thread.py\", line 58, in run\n",
      "    result = self.fn(*self.args, **self.kwargs)\n",
      "             ^^^^^^^^^^^^^^^^^^^^^^^^^^^^^^^^^^\n",
      "  File \"/home/conda/deepesdl/36a2c06c01942b4828818c0c77b0355c0d66b085bd378ed58a97b1f2e589092a-20240918-063730-228122-584-xcube-1.7.0/lib/python3.11/site-packages/xcube/webapi/tiles/controllers.py\", line 34, in compute_ml_dataset_tile\n",
      "    return _compute_ml_dataset_tile(\n",
      "           ^^^^^^^^^^^^^^^^^^^^^^^^^\n",
      "  File \"/home/conda/deepesdl/36a2c06c01942b4828818c0c77b0355c0d66b085bd378ed58a97b1f2e589092a-20240918-063730-228122-584-xcube-1.7.0/lib/python3.11/site-packages/xcube/webapi/tiles/controllers.py\", line 66, in _compute_ml_dataset_tile\n",
      "    ml_dataset = ctx.datasets_ctx.get_ml_dataset(ds_id)\n",
      "                 ^^^^^^^^^^^^^^^^^^^^^^^^^^^^^^^^^^^^^^\n",
      "  File \"/home/conda/deepesdl/36a2c06c01942b4828818c0c77b0355c0d66b085bd378ed58a97b1f2e589092a-20240918-063730-228122-584-xcube-1.7.0/lib/python3.11/site-packages/xcube/webapi/datasets/context.py\", line 162, in get_ml_dataset\n",
      "    ml_dataset, _ = self._get_dataset_entry(ds_id)\n",
      "                    ^^^^^^^^^^^^^^^^^^^^^^^^^^^^^^\n",
      "  File \"/home/conda/deepesdl/36a2c06c01942b4828818c0c77b0355c0d66b085bd378ed58a97b1f2e589092a-20240918-063730-228122-584-xcube-1.7.0/lib/python3.11/site-packages/xcube/webapi/datasets/context.py\", line 605, in _get_dataset_entry\n",
      "    self._set_dataset_entry(self._create_dataset_entry(ds_id))\n",
      "                            ^^^^^^^^^^^^^^^^^^^^^^^^^^^^^^^^^\n",
      "  File \"/home/conda/deepesdl/36a2c06c01942b4828818c0c77b0355c0d66b085bd378ed58a97b1f2e589092a-20240918-063730-228122-584-xcube-1.7.0/lib/python3.11/site-packages/xcube/webapi/datasets/context.py\", line 617, in _create_dataset_entry\n",
      "    dataset_config = self.get_dataset_config(ds_id)\n",
      "                     ^^^^^^^^^^^^^^^^^^^^^^^^^^^^^^\n",
      "  File \"/home/conda/deepesdl/36a2c06c01942b4828818c0c77b0355c0d66b085bd378ed58a97b1f2e589092a-20240918-063730-228122-584-xcube-1.7.0/lib/python3.11/site-packages/xcube/webapi/datasets/context.py\", line 440, in get_dataset_config\n",
      "    dataset_configs = self.get_dataset_configs()\n",
      "                      ^^^^^^^^^^^^^^^^^^^^^^^^^^\n",
      "  File \"/home/conda/deepesdl/36a2c06c01942b4828818c0c77b0355c0d66b085bd378ed58a97b1f2e589092a-20240918-063730-228122-584-xcube-1.7.0/lib/python3.11/site-packages/xcube/webapi/datasets/context.py\", line 449, in get_dataset_configs\n",
      "    assert self._dataset_configs is not None\n",
      "           ^^^^^^^^^^^^^^^^^^^^^^^^^^^^^^^^^\n",
      "AssertionError\n",
      "500 GET /tiles/a2f214fd-d771-4a78-908b-55f6cb9d4935/t2m/4/4/9?crs=EPSG%3A3857&vmin=270&vmax=310&cmap=plasma&time=2010-12-01T00%3A00%3A00Z (127.0.0.1) 7.86ms\n",
      "Uncaught exception GET /tiles/a2f214fd-d771-4a78-908b-55f6cb9d4935/t2m/4/5/9?crs=EPSG%3A3857&vmin=270&vmax=310&cmap=plasma&time=2010-12-01T00%3A00%3A00Z (127.0.0.1)\n",
      "HTTPServerRequest(protocol='http', host='deep.earthsystemdatalab.net', method='GET', uri='/tiles/a2f214fd-d771-4a78-908b-55f6cb9d4935/t2m/4/5/9?crs=EPSG%3A3857&vmin=270&vmax=310&cmap=plasma&time=2010-12-01T00%3A00%3A00Z', version='HTTP/1.1', remote_ip='127.0.0.1')\n",
      "Traceback (most recent call last):\n",
      "  File \"/home/conda/deepesdl/36a2c06c01942b4828818c0c77b0355c0d66b085bd378ed58a97b1f2e589092a-20240918-063730-228122-584-xcube-1.7.0/lib/python3.11/site-packages/tornado/web.py\", line 1790, in _execute\n",
      "    result = await result\n",
      "             ^^^^^^^^^^^^\n",
      "  File \"/home/conda/deepesdl/36a2c06c01942b4828818c0c77b0355c0d66b085bd378ed58a97b1f2e589092a-20240918-063730-228122-584-xcube-1.7.0/lib/python3.11/site-packages/xcube/server/webservers/tornado.py\", line 335, in get\n",
      "    await self._call_method(\"get\", *args, **kwargs)\n",
      "  File \"/home/conda/deepesdl/36a2c06c01942b4828818c0c77b0355c0d66b085bd378ed58a97b1f2e589092a-20240918-063730-228122-584-xcube-1.7.0/lib/python3.11/site-packages/xcube/server/webservers/tornado.py\", line 353, in _call_method\n",
      "    await method(*args, **kwargs)\n",
      "  File \"/home/conda/deepesdl/36a2c06c01942b4828818c0c77b0355c0d66b085bd378ed58a97b1f2e589092a-20240918-063730-228122-584-xcube-1.7.0/lib/python3.11/site-packages/xcube/webapi/tiles/routes.py\", line 91, in get\n",
      "    tile = await self.ctx.run_in_executor(\n",
      "           ^^^^^^^^^^^^^^^^^^^^^^^^^^^^^^^\n",
      "  File \"/home/conda/deepesdl/36a2c06c01942b4828818c0c77b0355c0d66b085bd378ed58a97b1f2e589092a-20240918-063730-228122-584-xcube-1.7.0/lib/python3.11/concurrent/futures/thread.py\", line 58, in run\n",
      "    result = self.fn(*self.args, **self.kwargs)\n",
      "             ^^^^^^^^^^^^^^^^^^^^^^^^^^^^^^^^^^\n",
      "  File \"/home/conda/deepesdl/36a2c06c01942b4828818c0c77b0355c0d66b085bd378ed58a97b1f2e589092a-20240918-063730-228122-584-xcube-1.7.0/lib/python3.11/site-packages/xcube/webapi/tiles/controllers.py\", line 34, in compute_ml_dataset_tile\n",
      "    return _compute_ml_dataset_tile(\n",
      "           ^^^^^^^^^^^^^^^^^^^^^^^^^\n",
      "  File \"/home/conda/deepesdl/36a2c06c01942b4828818c0c77b0355c0d66b085bd378ed58a97b1f2e589092a-20240918-063730-228122-584-xcube-1.7.0/lib/python3.11/site-packages/xcube/webapi/tiles/controllers.py\", line 66, in _compute_ml_dataset_tile\n",
      "    ml_dataset = ctx.datasets_ctx.get_ml_dataset(ds_id)\n",
      "                 ^^^^^^^^^^^^^^^^^^^^^^^^^^^^^^^^^^^^^^\n",
      "  File \"/home/conda/deepesdl/36a2c06c01942b4828818c0c77b0355c0d66b085bd378ed58a97b1f2e589092a-20240918-063730-228122-584-xcube-1.7.0/lib/python3.11/site-packages/xcube/webapi/datasets/context.py\", line 162, in get_ml_dataset\n",
      "    ml_dataset, _ = self._get_dataset_entry(ds_id)\n",
      "                    ^^^^^^^^^^^^^^^^^^^^^^^^^^^^^^\n",
      "  File \"/home/conda/deepesdl/36a2c06c01942b4828818c0c77b0355c0d66b085bd378ed58a97b1f2e589092a-20240918-063730-228122-584-xcube-1.7.0/lib/python3.11/site-packages/xcube/webapi/datasets/context.py\", line 605, in _get_dataset_entry\n",
      "    self._set_dataset_entry(self._create_dataset_entry(ds_id))\n",
      "                            ^^^^^^^^^^^^^^^^^^^^^^^^^^^^^^^^^\n",
      "  File \"/home/conda/deepesdl/36a2c06c01942b4828818c0c77b0355c0d66b085bd378ed58a97b1f2e589092a-20240918-063730-228122-584-xcube-1.7.0/lib/python3.11/site-packages/xcube/webapi/datasets/context.py\", line 617, in _create_dataset_entry\n",
      "    dataset_config = self.get_dataset_config(ds_id)\n",
      "                     ^^^^^^^^^^^^^^^^^^^^^^^^^^^^^^\n",
      "  File \"/home/conda/deepesdl/36a2c06c01942b4828818c0c77b0355c0d66b085bd378ed58a97b1f2e589092a-20240918-063730-228122-584-xcube-1.7.0/lib/python3.11/site-packages/xcube/webapi/datasets/context.py\", line 440, in get_dataset_config\n",
      "    dataset_configs = self.get_dataset_configs()\n",
      "                      ^^^^^^^^^^^^^^^^^^^^^^^^^^\n",
      "  File \"/home/conda/deepesdl/36a2c06c01942b4828818c0c77b0355c0d66b085bd378ed58a97b1f2e589092a-20240918-063730-228122-584-xcube-1.7.0/lib/python3.11/site-packages/xcube/webapi/datasets/context.py\", line 449, in get_dataset_configs\n",
      "    assert self._dataset_configs is not None\n",
      "           ^^^^^^^^^^^^^^^^^^^^^^^^^^^^^^^^^\n",
      "AssertionError\n",
      "500 GET /tiles/a2f214fd-d771-4a78-908b-55f6cb9d4935/t2m/4/5/9?crs=EPSG%3A3857&vmin=270&vmax=310&cmap=plasma&time=2010-12-01T00%3A00%3A00Z (127.0.0.1) 4.53ms\n",
      "Uncaught exception GET /tiles/a2f214fd-d771-4a78-908b-55f6cb9d4935/t2m/4/5/8?crs=EPSG%3A3857&vmin=270&vmax=310&cmap=plasma&time=2010-12-01T00%3A00%3A00Z (127.0.0.1)\n",
      "HTTPServerRequest(protocol='http', host='deep.earthsystemdatalab.net', method='GET', uri='/tiles/a2f214fd-d771-4a78-908b-55f6cb9d4935/t2m/4/5/8?crs=EPSG%3A3857&vmin=270&vmax=310&cmap=plasma&time=2010-12-01T00%3A00%3A00Z', version='HTTP/1.1', remote_ip='127.0.0.1')\n",
      "Traceback (most recent call last):\n",
      "  File \"/home/conda/deepesdl/36a2c06c01942b4828818c0c77b0355c0d66b085bd378ed58a97b1f2e589092a-20240918-063730-228122-584-xcube-1.7.0/lib/python3.11/site-packages/tornado/web.py\", line 1790, in _execute\n",
      "    result = await result\n",
      "             ^^^^^^^^^^^^\n",
      "  File \"/home/conda/deepesdl/36a2c06c01942b4828818c0c77b0355c0d66b085bd378ed58a97b1f2e589092a-20240918-063730-228122-584-xcube-1.7.0/lib/python3.11/site-packages/xcube/server/webservers/tornado.py\", line 335, in get\n",
      "    await self._call_method(\"get\", *args, **kwargs)\n",
      "  File \"/home/conda/deepesdl/36a2c06c01942b4828818c0c77b0355c0d66b085bd378ed58a97b1f2e589092a-20240918-063730-228122-584-xcube-1.7.0/lib/python3.11/site-packages/xcube/server/webservers/tornado.py\", line 353, in _call_method\n",
      "    await method(*args, **kwargs)\n",
      "  File \"/home/conda/deepesdl/36a2c06c01942b4828818c0c77b0355c0d66b085bd378ed58a97b1f2e589092a-20240918-063730-228122-584-xcube-1.7.0/lib/python3.11/site-packages/xcube/webapi/tiles/routes.py\", line 91, in get\n",
      "    tile = await self.ctx.run_in_executor(\n",
      "           ^^^^^^^^^^^^^^^^^^^^^^^^^^^^^^^\n",
      "  File \"/home/conda/deepesdl/36a2c06c01942b4828818c0c77b0355c0d66b085bd378ed58a97b1f2e589092a-20240918-063730-228122-584-xcube-1.7.0/lib/python3.11/concurrent/futures/thread.py\", line 58, in run\n",
      "    result = self.fn(*self.args, **self.kwargs)\n",
      "             ^^^^^^^^^^^^^^^^^^^^^^^^^^^^^^^^^^\n",
      "  File \"/home/conda/deepesdl/36a2c06c01942b4828818c0c77b0355c0d66b085bd378ed58a97b1f2e589092a-20240918-063730-228122-584-xcube-1.7.0/lib/python3.11/site-packages/xcube/webapi/tiles/controllers.py\", line 34, in compute_ml_dataset_tile\n",
      "    return _compute_ml_dataset_tile(\n",
      "           ^^^^^^^^^^^^^^^^^^^^^^^^^\n",
      "  File \"/home/conda/deepesdl/36a2c06c01942b4828818c0c77b0355c0d66b085bd378ed58a97b1f2e589092a-20240918-063730-228122-584-xcube-1.7.0/lib/python3.11/site-packages/xcube/webapi/tiles/controllers.py\", line 66, in _compute_ml_dataset_tile\n",
      "    ml_dataset = ctx.datasets_ctx.get_ml_dataset(ds_id)\n",
      "                 ^^^^^^^^^^^^^^^^^^^^^^^^^^^^^^^^^^^^^^\n",
      "  File \"/home/conda/deepesdl/36a2c06c01942b4828818c0c77b0355c0d66b085bd378ed58a97b1f2e589092a-20240918-063730-228122-584-xcube-1.7.0/lib/python3.11/site-packages/xcube/webapi/datasets/context.py\", line 162, in get_ml_dataset\n",
      "    ml_dataset, _ = self._get_dataset_entry(ds_id)\n",
      "                    ^^^^^^^^^^^^^^^^^^^^^^^^^^^^^^\n",
      "  File \"/home/conda/deepesdl/36a2c06c01942b4828818c0c77b0355c0d66b085bd378ed58a97b1f2e589092a-20240918-063730-228122-584-xcube-1.7.0/lib/python3.11/site-packages/xcube/webapi/datasets/context.py\", line 605, in _get_dataset_entry\n",
      "    self._set_dataset_entry(self._create_dataset_entry(ds_id))\n",
      "                            ^^^^^^^^^^^^^^^^^^^^^^^^^^^^^^^^^\n",
      "  File \"/home/conda/deepesdl/36a2c06c01942b4828818c0c77b0355c0d66b085bd378ed58a97b1f2e589092a-20240918-063730-228122-584-xcube-1.7.0/lib/python3.11/site-packages/xcube/webapi/datasets/context.py\", line 617, in _create_dataset_entry\n",
      "    dataset_config = self.get_dataset_config(ds_id)\n",
      "                     ^^^^^^^^^^^^^^^^^^^^^^^^^^^^^^\n",
      "  File \"/home/conda/deepesdl/36a2c06c01942b4828818c0c77b0355c0d66b085bd378ed58a97b1f2e589092a-20240918-063730-228122-584-xcube-1.7.0/lib/python3.11/site-packages/xcube/webapi/datasets/context.py\", line 440, in get_dataset_config\n",
      "    dataset_configs = self.get_dataset_configs()\n",
      "                      ^^^^^^^^^^^^^^^^^^^^^^^^^^\n",
      "  File \"/home/conda/deepesdl/36a2c06c01942b4828818c0c77b0355c0d66b085bd378ed58a97b1f2e589092a-20240918-063730-228122-584-xcube-1.7.0/lib/python3.11/site-packages/xcube/webapi/datasets/context.py\", line 449, in get_dataset_configs\n",
      "    assert self._dataset_configs is not None\n",
      "           ^^^^^^^^^^^^^^^^^^^^^^^^^^^^^^^^^\n",
      "AssertionError\n",
      "500 GET /tiles/a2f214fd-d771-4a78-908b-55f6cb9d4935/t2m/4/5/8?crs=EPSG%3A3857&vmin=270&vmax=310&cmap=plasma&time=2010-12-01T00%3A00%3A00Z (127.0.0.1) 6.96ms\n",
      "Uncaught exception GET /tiles/a2f214fd-d771-4a78-908b-55f6cb9d4935/t2m/4/4/7?crs=EPSG%3A3857&vmin=270&vmax=310&cmap=plasma&time=2010-12-01T00%3A00%3A00Z (127.0.0.1)\n",
      "HTTPServerRequest(protocol='http', host='deep.earthsystemdatalab.net', method='GET', uri='/tiles/a2f214fd-d771-4a78-908b-55f6cb9d4935/t2m/4/4/7?crs=EPSG%3A3857&vmin=270&vmax=310&cmap=plasma&time=2010-12-01T00%3A00%3A00Z', version='HTTP/1.1', remote_ip='127.0.0.1')\n",
      "Traceback (most recent call last):\n",
      "  File \"/home/conda/deepesdl/36a2c06c01942b4828818c0c77b0355c0d66b085bd378ed58a97b1f2e589092a-20240918-063730-228122-584-xcube-1.7.0/lib/python3.11/site-packages/tornado/web.py\", line 1790, in _execute\n",
      "    result = await result\n",
      "             ^^^^^^^^^^^^\n",
      "  File \"/home/conda/deepesdl/36a2c06c01942b4828818c0c77b0355c0d66b085bd378ed58a97b1f2e589092a-20240918-063730-228122-584-xcube-1.7.0/lib/python3.11/site-packages/xcube/server/webservers/tornado.py\", line 335, in get\n",
      "    await self._call_method(\"get\", *args, **kwargs)\n",
      "  File \"/home/conda/deepesdl/36a2c06c01942b4828818c0c77b0355c0d66b085bd378ed58a97b1f2e589092a-20240918-063730-228122-584-xcube-1.7.0/lib/python3.11/site-packages/xcube/server/webservers/tornado.py\", line 353, in _call_method\n",
      "    await method(*args, **kwargs)\n",
      "  File \"/home/conda/deepesdl/36a2c06c01942b4828818c0c77b0355c0d66b085bd378ed58a97b1f2e589092a-20240918-063730-228122-584-xcube-1.7.0/lib/python3.11/site-packages/xcube/webapi/tiles/routes.py\", line 91, in get\n",
      "    tile = await self.ctx.run_in_executor(\n",
      "           ^^^^^^^^^^^^^^^^^^^^^^^^^^^^^^^\n",
      "  File \"/home/conda/deepesdl/36a2c06c01942b4828818c0c77b0355c0d66b085bd378ed58a97b1f2e589092a-20240918-063730-228122-584-xcube-1.7.0/lib/python3.11/concurrent/futures/thread.py\", line 58, in run\n",
      "    result = self.fn(*self.args, **self.kwargs)\n",
      "             ^^^^^^^^^^^^^^^^^^^^^^^^^^^^^^^^^^\n",
      "  File \"/home/conda/deepesdl/36a2c06c01942b4828818c0c77b0355c0d66b085bd378ed58a97b1f2e589092a-20240918-063730-228122-584-xcube-1.7.0/lib/python3.11/site-packages/xcube/webapi/tiles/controllers.py\", line 34, in compute_ml_dataset_tile\n",
      "    return _compute_ml_dataset_tile(\n",
      "           ^^^^^^^^^^^^^^^^^^^^^^^^^\n",
      "  File \"/home/conda/deepesdl/36a2c06c01942b4828818c0c77b0355c0d66b085bd378ed58a97b1f2e589092a-20240918-063730-228122-584-xcube-1.7.0/lib/python3.11/site-packages/xcube/webapi/tiles/controllers.py\", line 66, in _compute_ml_dataset_tile\n",
      "    ml_dataset = ctx.datasets_ctx.get_ml_dataset(ds_id)\n",
      "                 ^^^^^^^^^^^^^^^^^^^^^^^^^^^^^^^^^^^^^^\n",
      "  File \"/home/conda/deepesdl/36a2c06c01942b4828818c0c77b0355c0d66b085bd378ed58a97b1f2e589092a-20240918-063730-228122-584-xcube-1.7.0/lib/python3.11/site-packages/xcube/webapi/datasets/context.py\", line 162, in get_ml_dataset\n",
      "    ml_dataset, _ = self._get_dataset_entry(ds_id)\n",
      "                    ^^^^^^^^^^^^^^^^^^^^^^^^^^^^^^\n",
      "  File \"/home/conda/deepesdl/36a2c06c01942b4828818c0c77b0355c0d66b085bd378ed58a97b1f2e589092a-20240918-063730-228122-584-xcube-1.7.0/lib/python3.11/site-packages/xcube/webapi/datasets/context.py\", line 605, in _get_dataset_entry\n",
      "    self._set_dataset_entry(self._create_dataset_entry(ds_id))\n",
      "                            ^^^^^^^^^^^^^^^^^^^^^^^^^^^^^^^^^\n",
      "  File \"/home/conda/deepesdl/36a2c06c01942b4828818c0c77b0355c0d66b085bd378ed58a97b1f2e589092a-20240918-063730-228122-584-xcube-1.7.0/lib/python3.11/site-packages/xcube/webapi/datasets/context.py\", line 617, in _create_dataset_entry\n",
      "    dataset_config = self.get_dataset_config(ds_id)\n",
      "                     ^^^^^^^^^^^^^^^^^^^^^^^^^^^^^^\n",
      "  File \"/home/conda/deepesdl/36a2c06c01942b4828818c0c77b0355c0d66b085bd378ed58a97b1f2e589092a-20240918-063730-228122-584-xcube-1.7.0/lib/python3.11/site-packages/xcube/webapi/datasets/context.py\", line 440, in get_dataset_config\n",
      "    dataset_configs = self.get_dataset_configs()\n",
      "                      ^^^^^^^^^^^^^^^^^^^^^^^^^^\n",
      "  File \"/home/conda/deepesdl/36a2c06c01942b4828818c0c77b0355c0d66b085bd378ed58a97b1f2e589092a-20240918-063730-228122-584-xcube-1.7.0/lib/python3.11/site-packages/xcube/webapi/datasets/context.py\", line 449, in get_dataset_configs\n",
      "    assert self._dataset_configs is not None\n",
      "           ^^^^^^^^^^^^^^^^^^^^^^^^^^^^^^^^^\n",
      "AssertionError\n",
      "500 GET /tiles/a2f214fd-d771-4a78-908b-55f6cb9d4935/t2m/4/4/7?crs=EPSG%3A3857&vmin=270&vmax=310&cmap=plasma&time=2010-12-01T00%3A00%3A00Z (127.0.0.1) 2.75ms\n",
      "Uncaught exception GET /tiles/a2f214fd-d771-4a78-908b-55f6cb9d4935/t2m/4/5/7?crs=EPSG%3A3857&vmin=270&vmax=310&cmap=plasma&time=2010-12-01T00%3A00%3A00Z (127.0.0.1)\n",
      "HTTPServerRequest(protocol='http', host='deep.earthsystemdatalab.net', method='GET', uri='/tiles/a2f214fd-d771-4a78-908b-55f6cb9d4935/t2m/4/5/7?crs=EPSG%3A3857&vmin=270&vmax=310&cmap=plasma&time=2010-12-01T00%3A00%3A00Z', version='HTTP/1.1', remote_ip='127.0.0.1')\n",
      "Traceback (most recent call last):\n",
      "  File \"/home/conda/deepesdl/36a2c06c01942b4828818c0c77b0355c0d66b085bd378ed58a97b1f2e589092a-20240918-063730-228122-584-xcube-1.7.0/lib/python3.11/site-packages/tornado/web.py\", line 1790, in _execute\n",
      "    result = await result\n",
      "             ^^^^^^^^^^^^\n",
      "  File \"/home/conda/deepesdl/36a2c06c01942b4828818c0c77b0355c0d66b085bd378ed58a97b1f2e589092a-20240918-063730-228122-584-xcube-1.7.0/lib/python3.11/site-packages/xcube/server/webservers/tornado.py\", line 335, in get\n",
      "    await self._call_method(\"get\", *args, **kwargs)\n",
      "  File \"/home/conda/deepesdl/36a2c06c01942b4828818c0c77b0355c0d66b085bd378ed58a97b1f2e589092a-20240918-063730-228122-584-xcube-1.7.0/lib/python3.11/site-packages/xcube/server/webservers/tornado.py\", line 353, in _call_method\n",
      "    await method(*args, **kwargs)\n",
      "  File \"/home/conda/deepesdl/36a2c06c01942b4828818c0c77b0355c0d66b085bd378ed58a97b1f2e589092a-20240918-063730-228122-584-xcube-1.7.0/lib/python3.11/site-packages/xcube/webapi/tiles/routes.py\", line 91, in get\n",
      "    tile = await self.ctx.run_in_executor(\n",
      "           ^^^^^^^^^^^^^^^^^^^^^^^^^^^^^^^\n",
      "  File \"/home/conda/deepesdl/36a2c06c01942b4828818c0c77b0355c0d66b085bd378ed58a97b1f2e589092a-20240918-063730-228122-584-xcube-1.7.0/lib/python3.11/concurrent/futures/thread.py\", line 58, in run\n",
      "    result = self.fn(*self.args, **self.kwargs)\n",
      "             ^^^^^^^^^^^^^^^^^^^^^^^^^^^^^^^^^^\n",
      "  File \"/home/conda/deepesdl/36a2c06c01942b4828818c0c77b0355c0d66b085bd378ed58a97b1f2e589092a-20240918-063730-228122-584-xcube-1.7.0/lib/python3.11/site-packages/xcube/webapi/tiles/controllers.py\", line 34, in compute_ml_dataset_tile\n",
      "    return _compute_ml_dataset_tile(\n",
      "           ^^^^^^^^^^^^^^^^^^^^^^^^^\n",
      "  File \"/home/conda/deepesdl/36a2c06c01942b4828818c0c77b0355c0d66b085bd378ed58a97b1f2e589092a-20240918-063730-228122-584-xcube-1.7.0/lib/python3.11/site-packages/xcube/webapi/tiles/controllers.py\", line 66, in _compute_ml_dataset_tile\n",
      "    ml_dataset = ctx.datasets_ctx.get_ml_dataset(ds_id)\n",
      "                 ^^^^^^^^^^^^^^^^^^^^^^^^^^^^^^^^^^^^^^\n",
      "  File \"/home/conda/deepesdl/36a2c06c01942b4828818c0c77b0355c0d66b085bd378ed58a97b1f2e589092a-20240918-063730-228122-584-xcube-1.7.0/lib/python3.11/site-packages/xcube/webapi/datasets/context.py\", line 162, in get_ml_dataset\n",
      "    ml_dataset, _ = self._get_dataset_entry(ds_id)\n",
      "                    ^^^^^^^^^^^^^^^^^^^^^^^^^^^^^^\n",
      "  File \"/home/conda/deepesdl/36a2c06c01942b4828818c0c77b0355c0d66b085bd378ed58a97b1f2e589092a-20240918-063730-228122-584-xcube-1.7.0/lib/python3.11/site-packages/xcube/webapi/datasets/context.py\", line 605, in _get_dataset_entry\n",
      "    self._set_dataset_entry(self._create_dataset_entry(ds_id))\n",
      "                            ^^^^^^^^^^^^^^^^^^^^^^^^^^^^^^^^^\n",
      "  File \"/home/conda/deepesdl/36a2c06c01942b4828818c0c77b0355c0d66b085bd378ed58a97b1f2e589092a-20240918-063730-228122-584-xcube-1.7.0/lib/python3.11/site-packages/xcube/webapi/datasets/context.py\", line 617, in _create_dataset_entry\n",
      "    dataset_config = self.get_dataset_config(ds_id)\n",
      "                     ^^^^^^^^^^^^^^^^^^^^^^^^^^^^^^\n",
      "  File \"/home/conda/deepesdl/36a2c06c01942b4828818c0c77b0355c0d66b085bd378ed58a97b1f2e589092a-20240918-063730-228122-584-xcube-1.7.0/lib/python3.11/site-packages/xcube/webapi/datasets/context.py\", line 440, in get_dataset_config\n",
      "    dataset_configs = self.get_dataset_configs()\n",
      "                      ^^^^^^^^^^^^^^^^^^^^^^^^^^\n",
      "  File \"/home/conda/deepesdl/36a2c06c01942b4828818c0c77b0355c0d66b085bd378ed58a97b1f2e589092a-20240918-063730-228122-584-xcube-1.7.0/lib/python3.11/site-packages/xcube/webapi/datasets/context.py\", line 449, in get_dataset_configs\n",
      "    assert self._dataset_configs is not None\n",
      "           ^^^^^^^^^^^^^^^^^^^^^^^^^^^^^^^^^\n",
      "AssertionError\n",
      "500 GET /tiles/a2f214fd-d771-4a78-908b-55f6cb9d4935/t2m/4/5/7?crs=EPSG%3A3857&vmin=270&vmax=310&cmap=plasma&time=2010-12-01T00%3A00%3A00Z (127.0.0.1) 2.14ms\n"
     ]
    }
   ],
   "source": [
    "viewer = Viewer()"
   ]
  },
  {
   "cell_type": "code",
   "execution_count": 23,
   "metadata": {
    "tags": []
   },
   "outputs": [
    {
     "data": {
      "text/plain": [
       "'a2f214fd-d771-4a78-908b-55f6cb9d4935'"
      ]
     },
     "execution_count": 23,
     "metadata": {},
     "output_type": "execute_result"
    }
   ],
   "source": [
    "viewer.add_dataset(cds_subset)"
   ]
  },
  {
   "cell_type": "markdown",
   "metadata": {
    "tags": []
   },
   "source": [
    "You can click on the viewer link to open xcube Viewer in a new browser tab:"
   ]
  },
  {
   "cell_type": "code",
   "execution_count": 24,
   "metadata": {
    "tags": []
   },
   "outputs": [
    {
     "name": "stdout",
     "output_type": "stream",
     "text": [
      "Server: https://deep.earthsystemdatalab.net/user/alicebalfanz/proxy/8000\n",
      "Viewer: https://deep.earthsystemdatalab.net/user/alicebalfanz/proxy/8000/viewer/?serverUrl=https://deep.earthsystemdatalab.net/user/alicebalfanz/proxy/8000\n"
     ]
    }
   ],
   "source": [
    "viewer.info()"
   ]
  },
  {
   "cell_type": "markdown",
   "metadata": {},
   "source": [
    "You can also open xcube Viewer inlined here:"
   ]
  },
  {
   "cell_type": "code",
   "execution_count": 25,
   "metadata": {
    "tags": []
   },
   "outputs": [
    {
     "data": {
      "text/html": [
       "<iframe src=\"https://deep.earthsystemdatalab.net/user/alicebalfanz/proxy/8000/viewer/?serverUrl=https://deep.earthsystemdatalab.net/user/alicebalfanz/proxy/8000&compact=1\" width=\"100%\" height=\"800\"/>"
      ],
      "text/plain": [
       "<IPython.core.display.HTML object>"
      ]
     },
     "execution_count": 25,
     "metadata": {},
     "output_type": "execute_result"
    }
   ],
   "source": [
    "viewer.show()"
   ]
  },
  {
   "cell_type": "code",
   "execution_count": 26,
   "metadata": {
    "tags": []
   },
   "outputs": [],
   "source": [
    "viewer.stop_server()"
   ]
  },
  {
   "cell_type": "markdown",
   "metadata": {},
   "source": [
    "In case you wish to delete data:"
   ]
  },
  {
   "cell_type": "code",
   "execution_count": 28,
   "metadata": {},
   "outputs": [],
   "source": [
    "team_store.delete_data('reanalysis-era5-single-levels-monthly-means-subset-2006-2010_TMH.zarr')"
   ]
  },
  {
   "cell_type": "code",
   "execution_count": null,
   "metadata": {},
   "outputs": [],
   "source": []
  }
 ],
 "metadata": {
  "kernelspec": {
   "display_name": "deepesdl-xcube-1.7.0",
   "language": "python",
   "name": "conda-env-deepesdl-xcube-1.7.0-py"
  },
  "language_info": {
   "codemirror_mode": {
    "name": "ipython",
    "version": 3
   },
   "file_extension": ".py",
   "mimetype": "text/x-python",
   "name": "python",
   "nbconvert_exporter": "python",
   "pygments_lexer": "ipython3",
   "version": "3.11.10"
  }
 },
 "nbformat": 4,
 "nbformat_minor": 4
}
