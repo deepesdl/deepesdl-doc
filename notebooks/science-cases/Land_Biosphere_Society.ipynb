{
 "cells": [
  {
   "cell_type": "markdown",
   "id": "c7d5d18f-a2a6-42cf-81c0-0ba98e4216fa",
   "metadata": {
    "tags": []
   },
   "source": [
    "# DeepESDL Use Case Planetary Health Index\n",
    "\n",
    "This notebook is a technological summary on the computations used for the scientific Use Case 1 of the DeepESDL project. The goal of the use case is to detect syndromes of change by analyzing both earth observation data from biosphere and atmosphere together with a list of indicators describing socioeconomic development of certain regions. Previous work by Kraemer et al (http://dx.doi.org/10.5194/bg-17-2397-2020) used dimensionality reduction methods to summarize multivariate data cubes in indices so that trajectories atmosphere and biosphere could be summarized. \n",
    "\n",
    "While past work focused on building independent indices for the subsystems of the earth System (atmosphere, biosphere and anthroposphere), we want to focus on the interaction between different spheres in this study. We use the CCA (Canonical Correlation Analysis) method to construct indices with maximum capacity to predict data across domains, extracting information on how the spheres of the Earth System interact. In this notebook we show a condensed conceptual summary of the analysis. The code of the full study will be published on github (https://github.com/WantongLi111/Syndrome-of-change) as soon as the manuscript *Li, W. et al. Diagnosing syndromes of biosphere-atmosphere-socioeconomic change* which is currently under revision is accepted.\n",
    "\n",
    "-----------------\n",
    "\n",
    "**This notebook runs with the python environment `users-science-case-phi`, please checkout the documentation for [help on changing the environment](https://earthsystemdatalab.net/guide/jupyterlab/#python-environment-selection-of-the-jupyter-kernel).**"
   ]
  },
  {
   "cell_type": "code",
   "execution_count": 1,
   "id": "def04abc-afe0-4630-85cd-803d2a2efdf3",
   "metadata": {
    "tags": []
   },
   "outputs": [],
   "source": [
    "import xarray as xr\n",
    "from flox.xarray import xarray_reduce\n",
    "from xcube.core.store import new_data_store\n",
    "import numpy as np\n",
    "import matplotlib.pyplot as plt"
   ]
  },
  {
   "cell_type": "markdown",
   "id": "655e024c-05fa-4252-9afe-d4860dbf1100",
   "metadata": {},
   "source": [
    "<div style=\"padding: 15px; border: 1px solid transparent; border-color: transparent; margin-bottom: 20px; border-radius: 4px; color: #a94442; background-color: #f2dede; border-color: #ebccd1;\">\n",
    "<font size=\"+0.5\">In order to work with the cluster service, the Dask processing cluster has to be added to your team from the <a href=\"https://portfolio.nor-discover.org/Service/Brockmann-DeepESDL/SponsoringWizardPricelist\">NoR (Network of Resources) portal</a>. The example notebook will only run if your team has already access to the service and a suitable environment is selected.</font>\n",
    "</div>"
   ]
  },
  {
   "cell_type": "markdown",
   "id": "7a54edd2-6241-477b-ae5b-780fc52fb0d6",
   "metadata": {},
   "source": [
    "### You can still execute this notebook without using dask cluster service. It will just take a bit longer. To use dask cluster, please remove the comments from the cells needed for configuring the cluster. "
   ]
  },
  {
   "cell_type": "code",
   "execution_count": 2,
   "id": "01842617-b4d4-43b2-a373-d6ff451a8c47",
   "metadata": {
    "tags": []
   },
   "outputs": [],
   "source": [
    "#import coiled"
   ]
  },
  {
   "cell_type": "code",
   "execution_count": 3,
   "id": "7804b163-ffb9-44b5-a711-bd5453667a6f",
   "metadata": {
    "tags": []
   },
   "outputs": [],
   "source": [
    "from xcube.util.dask import new_cluster\n",
    "from dask.distributed import Client\n",
    "import os"
   ]
  },
  {
   "cell_type": "code",
   "execution_count": 4,
   "id": "625e935b-f032-4658-b184-e7c4bee478c6",
   "metadata": {
    "tags": []
   },
   "outputs": [],
   "source": [
    "#del os.environ['JUPYTER_IMAGE']"
   ]
  },
  {
   "cell_type": "code",
   "execution_count": 5,
   "id": "33f82daa-6764-4a1e-bd2b-ed25c2d73151",
   "metadata": {
    "tags": []
   },
   "outputs": [
    {
     "data": {
      "text/html": [
       "<pre style=\"white-space:pre;overflow-x:auto;line-height:normal;font-family:Menlo,'DejaVu Sans Mono',consolas,'Courier New',monospace\">╭─────────────────────────────── <span style=\"color: #008000; text-decoration-color: #008000; font-weight: bold\">Coiled Cluster</span> ───────────────────────────────╮\n",
       "│                   <a href=\"https://cloud.coiled.io/clusters/1144623\" target=\"_blank\">https://cloud.coiled.io/clusters/1144623</a>                   │\n",
       "╰──────────────────────────────────────────────────────────────────────────────╯\n",
       "╭────────────── Overview ──────────────╮╭─────────── Configuration ────────────╮\n",
       "│                                      ││                                      │\n",
       "│ <span style=\"color: #008000; text-decoration-color: #008000; font-weight: bold\">Name:</span> PHI                            ││ <span style=\"color: #008000; text-decoration-color: #008000; font-weight: bold\">Region:</span> eu-central-1                 │\n",
       "│                                      ││                                      │\n",
       "│ <span style=\"color: #008000; text-decoration-color: #008000; font-weight: bold\">Scheduler Status:</span> started            ││ <span style=\"color: #008000; text-decoration-color: #008000; font-weight: bold\">Scheduler:</span> m6i.xlarge                │\n",
       "│                                      ││                                      │\n",
       "│ <span style=\"color: #008000; text-decoration-color: #008000; font-weight: bold\">Dashboard:</span>                           ││ <span style=\"color: #008000; text-decoration-color: #008000; font-weight: bold\">Workers:</span>   m5.xlarge (20)            │\n",
       "│ <a href=\"https://cluster-jcatv.dask.host?token=i_G7plAO4NAV-2MM\" target=\"_blank\">https://cluster-jcatv.dask.host?toke</a> ││                                      │\n",
       "│ <a href=\"https://cluster-jcatv.dask.host?token=i_G7plAO4NAV-2MM\" target=\"_blank\">n=i_G7plAO4NAV-2MM</a>                   ││ <span style=\"color: #008000; text-decoration-color: #008000; font-weight: bold\">Workers Requested:</span> 20                │\n",
       "│                                      ││                                      │\n",
       "╰──────────────────────────────────────╯╰──────────────────────────────────────╯\n",
       "╭───────────────────────── (2025/09/11 13:28:15 UTC) ──────────────────────────╮\n",
       "│                                                                              │\n",
       "│          Most of your workers have arrived. Cluster ready for use.           │\n",
       "│                                                                              │\n",
       "│                                                                              │\n",
       "╰──────────────────────────────────────────────────────────────────────────────╯\n",
       "\n",
       "\n",
       "\n",
       "</pre>\n"
      ],
      "text/plain": [
       "╭─────────────────────────────── \u001b[1;51;32mCoiled Cluster\u001b[0m ───────────────────────────────╮\n",
       "│                   \u001b]8;id=288619;https://cloud.coiled.io/clusters/1144623\u001b\\https://cloud.coiled.io/clusters/1144623\u001b]8;;\u001b\\                   │\n",
       "╰──────────────────────────────────────────────────────────────────────────────╯\n",
       "╭────────────── Overview ──────────────╮╭─────────── Configuration ────────────╮\n",
       "│                                      ││                                      │\n",
       "│ \u001b[1;32mName:\u001b[0m PHI                            ││ \u001b[1;32mRegion:\u001b[0m eu-central-1                 │\n",
       "│                                      ││                                      │\n",
       "│ \u001b[1;32mScheduler Status:\u001b[0m started            ││ \u001b[1;32mScheduler:\u001b[0m m6i.xlarge                │\n",
       "│                                      ││                                      │\n",
       "│ \u001b[1;32mDashboard:\u001b[0m                           ││ \u001b[1;32mWorkers:\u001b[0m   m5.xlarge (20)            │\n",
       "│ \u001b]8;id=127752;https://cluster-jcatv.dask.host?token=i_G7plAO4NAV-2MM\u001b\\https://cluster-jcatv.dask.host?toke\u001b]8;;\u001b\\ ││                                      │\n",
       "│ \u001b]8;id=127752;https://cluster-jcatv.dask.host?token=i_G7plAO4NAV-2MM\u001b\\n=i_G7plAO4NAV-2MM\u001b]8;;\u001b\\                   ││ \u001b[1;32mWorkers Requested:\u001b[0m 20                │\n",
       "│                                      ││                                      │\n",
       "╰──────────────────────────────────────╯╰──────────────────────────────────────╯\n",
       "╭───────────────────────── (2025/09/11 13:28:15 UTC) ──────────────────────────╮\n",
       "│                                                                              │\n",
       "│          Most of your workers have arrived. Cluster ready for use.           │\n",
       "│                                                                              │\n",
       "│                                                                              │\n",
       "╰──────────────────────────────────────────────────────────────────────────────╯\n",
       "\n",
       "\n",
       "\n"
      ]
     },
     "metadata": {},
     "output_type": "display_data"
    },
    {
     "data": {
      "text/html": [
       "<pre style=\"white-space:pre;overflow-x:auto;line-height:normal;font-family:Menlo,'DejaVu Sans Mono',consolas,'Courier New',monospace\"></pre>\n"
      ],
      "text/plain": []
     },
     "metadata": {},
     "output_type": "display_data"
    }
   ],
   "source": [
    "#cluster = new_cluster(name='PHI', n_workers=20)\n"
   ]
  },
  {
   "cell_type": "code",
   "execution_count": 6,
   "id": "b3f72e66-1e1c-4c0c-abcd-c934d34a590e",
   "metadata": {
    "tags": []
   },
   "outputs": [],
   "source": [
    "#client = Client(cluster)"
   ]
  },
  {
   "cell_type": "markdown",
   "id": "43c4d7f0-9b53-4dfe-9e64-fa2bedcd9c2c",
   "metadata": {
    "tags": []
   },
   "source": [
    "## Step 1 Aggregating the ESDC Data Cube to annual country resolution\n",
    "\n",
    "When trying to co-interpret socioeconomic data with earth observation, the first problem to solve is the mismatch in spatial and temporal resolution at which these datasets usually are published. World bank data is available at annual time steps and for administrative regions while EO data comes in gridded formats. As a first step we aggregate the esdc data cube to country levels to match the socioeconomic data in resolution. \n",
    "\n",
    "We first open the esdc from the xcube store:"
   ]
  },
  {
   "cell_type": "code",
   "execution_count": 7,
   "id": "500fe671-973a-403e-9ee9-c0ac905d02f5",
   "metadata": {
    "tags": []
   },
   "outputs": [],
   "source": [
    "S3_USER_STORAGE_KEY = os.environ[\"S3_USER_STORAGE_KEY\"]\n",
    "S3_USER_STORAGE_SECRET = os.environ[\"S3_USER_STORAGE_SECRET\"]\n",
    "S3_USER_STORAGE_BUCKET = os.environ[\"S3_USER_STORAGE_BUCKET\"]"
   ]
  },
  {
   "cell_type": "code",
   "execution_count": 10,
   "id": "25b4664f-eb83-4881-beb6-931868f08a75",
   "metadata": {
    "tags": []
   },
   "outputs": [],
   "source": [
    "store = new_data_store(\"s3\",\n",
    "                       max_depth=3,\n",
    "                       root=\"deep-esdl-public\",\n",
    "                       storage_options=dict(\n",
    "                           anon=False, key=S3_USER_STORAGE_KEY, secret=S3_USER_STORAGE_SECRET)\n",
    "                      )                      \n",
    "ds = store.open_data('esdc-8d-0.25deg-1x720x1440-3.0.1.zarr')"
   ]
  },
  {
   "cell_type": "markdown",
   "id": "cb2e0533-0cc4-4f01-86d8-5e5a70672d1c",
   "metadata": {},
   "source": [
    "And select the requested time period"
   ]
  },
  {
   "cell_type": "code",
   "execution_count": 11,
   "id": "f7e4fb18-b3bf-405d-b099-a0377db1e205",
   "metadata": {
    "tags": []
   },
   "outputs": [
    {
     "data": {
      "text/plain": [
       "['LC-1x2025x2025-2.0.0.levels',\n",
       " 'LC-1x2160x2160-1.0.0.levels',\n",
       " 'SMOS-L2C-OS-20230101-20231231-1W-res0-1x1000x1000.levels',\n",
       " 'SMOS-L2C-OS-20230101-20231231-1W-res0-53x120x120.zarr',\n",
       " 'SMOS-L2C-OS-20230101-20231231-1W-res0.zarr',\n",
       " 'SMOS-L2C-SM-20230101-20231231-1W-res0-1x1000x1000.levels',\n",
       " 'SMOS-L2C-SM-20230101-20231231-1W-res0-53x120x120.zarr',\n",
       " 'SMOS-L2C-SM-20230101-20231231-1W-res0.zarr',\n",
       " 'SMOS-freezethaw-1x720x720-1.0.1.zarr',\n",
       " 'SMOS-freezethaw-4267x10x10-1.0.1.zarr',\n",
       " 'SeasFireCube-8D-0.25deg-1x720x1440-3.0.0.zarr',\n",
       " 'SeasFireCube-8D-0.25deg-966x180x360-3.0.0.zarr',\n",
       " 'SeasFireCube_v3.zarr',\n",
       " 'black-sea-1x1024x1024.levels',\n",
       " 'black-sea-256x128x128.zarr',\n",
       " 'cmems_sst_v2.zarr',\n",
       " 'esa-cci-permafrost-1x1151x1641-0.0.2.levels',\n",
       " 'esa-cci-permafrost-1x1151x1641-1.0.0.zarr',\n",
       " 'esdc-8d-0.083deg-184x270x270-2.1.1.zarr',\n",
       " 'esdc-8d-0.25deg-1x720x1440-3.0.1.zarr',\n",
       " 'esdc-8d-0.25deg-256x128x128-3.0.1.zarr',\n",
       " 'extrAIM-merged-cube-1x86x179.zarr',\n",
       " 'hydrology-1D-0.009deg-100x60x60-3.0.2.zarr',\n",
       " 'hydrology-1D-0.009deg-1418x70x76-2.0.0.zarr',\n",
       " 'hydrology-1D-0.009deg-1x1102x2415-2.0.0.levels',\n",
       " 'hydrology-1D-0.009deg-1x1102x966-3.0.2.levels',\n",
       " 'ocean-1M-9km-1x1080x1080-1.4.0.levels',\n",
       " 'ocean-1M-9km-64x256x256-1.4.0.zarr',\n",
       " 'polar-100m-1x2048x2048-1.0.1.zarr',\n",
       " 'science-cases/PHI-data/countries.nc',\n",
       " 'science-cases/PHI-data/countrycube_atm.nc',\n",
       " 'science-cases/PHI-data/countrycube_bio.nc']"
      ]
     },
     "execution_count": 11,
     "metadata": {},
     "output_type": "execute_result"
    }
   ],
   "source": [
    "store.list_data_ids()"
   ]
  },
  {
   "cell_type": "code",
   "execution_count": 12,
   "id": "8faa511c-0bcf-4f05-9d48-91dd7d3ac5af",
   "metadata": {
    "tags": []
   },
   "outputs": [],
   "source": [
    "ds = ds.sel(time=slice(\"2003-01-01\",\"2021-12-31\"))"
   ]
  },
  {
   "cell_type": "markdown",
   "id": "9546eaf5-0647-4187-b333-ee690942b76f",
   "metadata": {},
   "source": [
    "We select a subset of variables describing the state of both atmosphere and biosphere:"
   ]
  },
  {
   "cell_type": "code",
   "execution_count": 13,
   "id": "28b202d8-e0c0-46c2-89d3-f0eae45b24ba",
   "metadata": {
    "tags": []
   },
   "outputs": [],
   "source": [
    "atm_var = ['air_temperature_2m', 'precipitation_era5','max_air_temperature_2m','min_air_temperature_2m',\n",
    "       'potential_evaporation','radiation_era5',]\n",
    "atm_svar = ['tair','prec','maxtair','mintair','pet','rad']\n",
    "\n",
    "bio_var = ['evaporation',\n",
    "           'gross_primary_productivity', 'kndvi',\n",
    "           'root_moisture', 'sif_gosif', 'sm',\n",
    "           'terrestrial_ecosystem_respiration']\n",
    "bio_svar = ['evap','gpp','kndvi','rm','sif','sm','ter']"
   ]
  },
  {
   "cell_type": "markdown",
   "id": "5d4abb7b-8fc0-4cc4-bd58-d9ce47f3bac7",
   "metadata": {},
   "source": [
    "In order to aggregate these datasets on a country-level we load a country mask that encodes the worlds countries for every pixel as their UN numeric code"
   ]
  },
  {
   "cell_type": "code",
   "execution_count": 14,
   "id": "b83151bd-d343-49fb-83a9-223406229bdf",
   "metadata": {
    "tags": []
   },
   "outputs": [
    {
     "data": {
      "text/plain": [
       "<matplotlib.collections.QuadMesh at 0x7f6d4c400ec0>"
      ]
     },
     "execution_count": 14,
     "metadata": {},
     "output_type": "execute_result"
    },
    {
     "data": {
      "image/png": "[encoded data removed]",
      "text/plain": [
       "<Figure size 640x480 with 2 Axes>"
      ]
     },
     "metadata": {},
     "output_type": "display_data"
    }
   ],
   "source": [
    "countries = store.open_data(\"science-cases/PHI-data/countries.nc\")\n",
    "countries.countries.plot()"
   ]
  },
  {
   "cell_type": "markdown",
   "id": "6b55c0dd-22f4-4679-a424-d69c42ef323d",
   "metadata": {},
   "source": [
    "Here we define a function that uses the [flox](https://flox.readthedocs.io/en/latest/) library for fast dask-based aggregations of large arrays to aggregate the esdc to annual and country-level resolution. Note that for demonstration purposes this is currently not doing area and population density weighting as in *Li W. et al* mentioned above."
   ]
  },
  {
   "cell_type": "code",
   "execution_count": 15,
   "id": "e52edc89-d48d-4670-a7c5-3edf1c0cb816",
   "metadata": {
    "tags": []
   },
   "outputs": [],
   "source": [
    "def aggregate_countries(dataset, countrymask):\n",
    "    reduced_dataset = xarray_reduce(dataset,countrymask,func=\"nanmean\").resample(time=\"YE\").mean(skipna=True).compute()\n",
    "    \n",
    "    #Set new coordinates according to ISO3 country codes instead of UN\n",
    "    un2iso3 = {countries.attrs['UN'][i]: countries.attrs['ISO3'][i] for i in range(len(countries.attrs['ISO3']))}\n",
    "    newcoords = {\n",
    "        'countries': [un2iso3[k] for k in reduced_dataset.coords['countries'].values],\n",
    "        'time' : np.arange(2003,2022)\n",
    "    }\n",
    "    return reduced_dataset.assign_coords(newcoords)"
   ]
  },
  {
   "cell_type": "markdown",
   "id": "404b4a5e-5a1d-442c-b64f-648656d3d255",
   "metadata": {},
   "source": [
    "And we apply the reduction to the atmospheric and biospheric subset of the esdc:\n",
    "**Note, if you don't use a dask cluster, then the process takes around 5min. With dask cluster on coiled it takes around 30s.**"
   ]
  },
  {
   "cell_type": "code",
   "execution_count": 16,
   "id": "f36d74c2-c4a4-4990-907f-63b864ac998e",
   "metadata": {
    "tags": []
   },
   "outputs": [
    {
     "name": "stdout",
     "output_type": "stream",
     "text": [
      "CPU times: user 800 ms, sys: 287 ms, total: 1.09 s\n",
      "Wall time: 32 s\n"
     ]
    }
   ],
   "source": [
    "%%time\n",
    "atm_countrycube = aggregate_countries(ds[atm_var],countries.countries)"
   ]
  },
  {
   "cell_type": "code",
   "execution_count": 17,
   "id": "14e8c67b-a228-418d-8f1b-e17e71eb29a5",
   "metadata": {
    "tags": []
   },
   "outputs": [
    {
     "name": "stderr",
     "output_type": "stream",
     "text": [
      "/home/conda/users/54b58749-1757596605-112-science-case-phi/lib/python3.12/site-packages/distributed/client.py:3363: UserWarning: Sending large graph of size 9.55 MiB.\n",
      "This may cause some slowdown.\n",
      "Consider loading the data with Dask directly\n",
      " or using futures or delayed objects to embed the data into the graph without repetition.\n",
      "See also https://docs.dask.org/en/stable/best-practices.html#load-data-with-dask for more information.\n",
      "  warnings.warn(\n"
     ]
    },
    {
     "name": "stdout",
     "output_type": "stream",
     "text": [
      "CPU times: user 596 ms, sys: 29.2 ms, total: 626 ms\n",
      "Wall time: 23.7 s\n"
     ]
    }
   ],
   "source": [
    "%%time\n",
    "bio_countrycube = aggregate_countries(ds[bio_var],countries.countries)"
   ]
  },
  {
   "cell_type": "markdown",
   "id": "baea6738-7994-4b10-b7a0-9c82f01e0e5d",
   "metadata": {
    "tags": []
   },
   "source": [
    "----------------------\n",
    "### Shut down Dask cluster"
   ]
  },
  {
   "cell_type": "markdown",
   "id": "a3c4aacf-a94e-4ac5-b216-3c7a45fc2a04",
   "metadata": {
    "tags": []
   },
   "source": [
    "<div style=\"padding: 15px; border: 1px solid transparent; border-color: transparent; margin-bottom: 20px; border-radius: 4px; color: #a94442; background-color: #f2dede; border-color: #ebccd1;\">\n",
    "<font size=\"+0.5\">\n",
    "Once you are finished with your computations, make sure to shutdown the cluster so your quoata of  available CPU hours is not used for an idle cluster.</font>\n",
    "</div>"
   ]
  },
  {
   "cell_type": "code",
   "execution_count": 18,
   "id": "d63519d9-e0f3-4d64-a10e-77e7c8b1486d",
   "metadata": {
    "tags": []
   },
   "outputs": [],
   "source": [
    "cluster.shutdown()"
   ]
  },
  {
   "cell_type": "markdown",
   "id": "0c896aed-4f4b-43c7-a8d6-a1a51a37e57a",
   "metadata": {},
   "source": [
    "The resulting datacube has only 2 axes: countries and time."
   ]
  },
  {
   "cell_type": "code",
   "execution_count": 19,
   "id": "4e99e7bc-6f60-4dfa-b222-598cff2ff1bf",
   "metadata": {
    "tags": []
   },
   "outputs": [
    {
     "data": {
      "text/html": [
       "<div><svg style=\"position: absolute; width: 0; height: 0; overflow: hidden\">\n",
       "<defs>\n",
       "<symbol id=\"icon-database\" viewBox=\"0 0 32 32\">\n",
       "<path d=\"M16 0c-8.837 0-16 2.239-16 5v4c0 2.761 7.163 5 16 5s16-2.239 16-5v-4c0-2.761-7.163-5-16-5z\"></path>\n",
       "<path d=\"M16 17c-8.837 0-16-2.239-16-5v6c0 2.761 7.163 5 16 5s16-2.239 16-5v-6c0 2.761-7.163 5-16 5z\"></path>\n",
       "<path d=\"M16 26c-8.837 0-16-2.239-16-5v6c0 2.761 7.163 5 16 5s16-2.239 16-5v-6c0 2.761-7.163 5-16 5z\"></path>\n",
       "</symbol>\n",
       "<symbol id=\"icon-file-text2\" viewBox=\"0 0 32 32\">\n",
       "<path d=\"M28.681 7.159c-0.694-0.947-1.662-2.053-2.724-3.116s-2.169-2.030-3.116-2.724c-1.612-1.182-2.393-1.319-2.841-1.319h-15.5c-1.378 0-2.5 1.121-2.5 2.5v27c0 1.378 1.122 2.5 2.5 2.5h23c1.378 0 2.5-1.122 2.5-2.5v-19.5c0-0.448-0.137-1.23-1.319-2.841zM24.543 5.457c0.959 0.959 1.712 1.825 2.268 2.543h-4.811v-4.811c0.718 0.556 1.584 1.309 2.543 2.268zM28 29.5c0 0.271-0.229 0.5-0.5 0.5h-23c-0.271 0-0.5-0.229-0.5-0.5v-27c0-0.271 0.229-0.5 0.5-0.5 0 0 15.499-0 15.5 0v7c0 0.552 0.448 1 1 1h7v19.5z\"></path>\n",
       "<path d=\"M23 26h-14c-0.552 0-1-0.448-1-1s0.448-1 1-1h14c0.552 0 1 0.448 1 1s-0.448 1-1 1z\"></path>\n",
       "<path d=\"M23 22h-14c-0.552 0-1-0.448-1-1s0.448-1 1-1h14c0.552 0 1 0.448 1 1s-0.448 1-1 1z\"></path>\n",
       "<path d=\"M23 18h-14c-0.552 0-1-0.448-1-1s0.448-1 1-1h14c0.552 0 1 0.448 1 1s-0.448 1-1 1z\"></path>\n",
       "</symbol>\n",
       "</defs>\n",
       "</svg>\n",
       "<style>/* CSS stylesheet for displaying xarray objects in jupyterlab.\n",
       " *\n",
       " */\n",
       "\n",
       ":root {\n",
       "  --xr-font-color0: var(\n",
       "    --jp-content-font-color0,\n",
       "    var(--pst-color-text-base rgba(0, 0, 0, 1))\n",
       "  );\n",
       "  --xr-font-color2: var(\n",
       "    --jp-content-font-color2,\n",
       "    var(--pst-color-text-base, rgba(0, 0, 0, 0.54))\n",
       "  );\n",
       "  --xr-font-color3: var(\n",
       "    --jp-content-font-color3,\n",
       "    var(--pst-color-text-base, rgba(0, 0, 0, 0.38))\n",
       "  );\n",
       "  --xr-border-color: var(\n",
       "    --jp-border-color2,\n",
       "    hsl(from var(--pst-color-on-background, white) h s calc(l - 10))\n",
       "  );\n",
       "  --xr-disabled-color: var(\n",
       "    --jp-layout-color3,\n",
       "    hsl(from var(--pst-color-on-background, white) h s calc(l - 40))\n",
       "  );\n",
       "  --xr-background-color: var(\n",
       "    --jp-layout-color0,\n",
       "    var(--pst-color-on-background, white)\n",
       "  );\n",
       "  --xr-background-color-row-even: var(\n",
       "    --jp-layout-color1,\n",
       "    hsl(from var(--pst-color-on-background, white) h s calc(l - 5))\n",
       "  );\n",
       "  --xr-background-color-row-odd: var(\n",
       "    --jp-layout-color2,\n",
       "    hsl(from var(--pst-color-on-background, white) h s calc(l - 15))\n",
       "  );\n",
       "}\n",
       "\n",
       "html[theme=\"dark\"],\n",
       "html[data-theme=\"dark\"],\n",
       "body[data-theme=\"dark\"],\n",
       "body.vscode-dark {\n",
       "  --xr-font-color0: var(\n",
       "    --jp-content-font-color0,\n",
       "    var(--pst-color-text-base, rgba(255, 255, 255, 1))\n",
       "  );\n",
       "  --xr-font-color2: var(\n",
       "    --jp-content-font-color2,\n",
       "    var(--pst-color-text-base, rgba(255, 255, 255, 0.54))\n",
       "  );\n",
       "  --xr-font-color3: var(\n",
       "    --jp-content-font-color3,\n",
       "    var(--pst-color-text-base, rgba(255, 255, 255, 0.38))\n",
       "  );\n",
       "  --xr-border-color: var(\n",
       "    --jp-border-color2,\n",
       "    hsl(from var(--pst-color-on-background, #111111) h s calc(l + 10))\n",
       "  );\n",
       "  --xr-disabled-color: var(\n",
       "    --jp-layout-color3,\n",
       "    hsl(from var(--pst-color-on-background, #111111) h s calc(l + 40))\n",
       "  );\n",
       "  --xr-background-color: var(\n",
       "    --jp-layout-color0,\n",
       "    var(--pst-color-on-background, #111111)\n",
       "  );\n",
       "  --xr-background-color-row-even: var(\n",
       "    --jp-layout-color1,\n",
       "    hsl(from var(--pst-color-on-background, #111111) h s calc(l + 5))\n",
       "  );\n",
       "  --xr-background-color-row-odd: var(\n",
       "    --jp-layout-color2,\n",
       "    hsl(from var(--pst-color-on-background, #111111) h s calc(l + 15))\n",
       "  );\n",
       "}\n",
       "\n",
       ".xr-wrap {\n",
       "  display: block !important;\n",
       "  min-width: 300px;\n",
       "  max-width: 700px;\n",
       "}\n",
       "\n",
       ".xr-text-repr-fallback {\n",
       "  /* fallback to plain text repr when CSS is not injected (untrusted notebook) */\n",
       "  display: none;\n",
       "}\n",
       "\n",
       ".xr-header {\n",
       "  padding-top: 6px;\n",
       "  padding-bottom: 6px;\n",
       "  margin-bottom: 4px;\n",
       "  border-bottom: solid 1px var(--xr-border-color);\n",
       "}\n",
       "\n",
       ".xr-header > div,\n",
       ".xr-header > ul {\n",
       "  display: inline;\n",
       "  margin-top: 0;\n",
       "  margin-bottom: 0;\n",
       "}\n",
       "\n",
       ".xr-obj-type,\n",
       ".xr-array-name {\n",
       "  margin-left: 2px;\n",
       "  margin-right: 10px;\n",
       "}\n",
       "\n",
       ".xr-obj-type {\n",
       "  color: var(--xr-font-color2);\n",
       "}\n",
       "\n",
       ".xr-sections {\n",
       "  padding-left: 0 !important;\n",
       "  display: grid;\n",
       "  grid-template-columns: 150px auto auto 1fr 0 20px 0 20px;\n",
       "}\n",
       "\n",
       ".xr-section-item {\n",
       "  display: contents;\n",
       "}\n",
       "\n",
       ".xr-section-item input {\n",
       "  display: inline-block;\n",
       "  opacity: 0;\n",
       "  height: 0;\n",
       "}\n",
       "\n",
       ".xr-section-item input + label {\n",
       "  color: var(--xr-disabled-color);\n",
       "  border: 2px solid transparent !important;\n",
       "}\n",
       "\n",
       ".xr-section-item input:enabled + label {\n",
       "  cursor: pointer;\n",
       "  color: var(--xr-font-color2);\n",
       "}\n",
       "\n",
       ".xr-section-item input:focus + label {\n",
       "  border: 2px solid var(--xr-font-color0) !important;\n",
       "}\n",
       "\n",
       ".xr-section-item input:enabled + label:hover {\n",
       "  color: var(--xr-font-color0);\n",
       "}\n",
       "\n",
       ".xr-section-summary {\n",
       "  grid-column: 1;\n",
       "  color: var(--xr-font-color2);\n",
       "  font-weight: 500;\n",
       "}\n",
       "\n",
       ".xr-section-summary > span {\n",
       "  display: inline-block;\n",
       "  padding-left: 0.5em;\n",
       "}\n",
       "\n",
       ".xr-section-summary-in:disabled + label {\n",
       "  color: var(--xr-font-color2);\n",
       "}\n",
       "\n",
       ".xr-section-summary-in + label:before {\n",
       "  display: inline-block;\n",
       "  content: \"►\";\n",
       "  font-size: 11px;\n",
       "  width: 15px;\n",
       "  text-align: center;\n",
       "}\n",
       "\n",
       ".xr-section-summary-in:disabled + label:before {\n",
       "  color: var(--xr-disabled-color);\n",
       "}\n",
       "\n",
       ".xr-section-summary-in:checked + label:before {\n",
       "  content: \"▼\";\n",
       "}\n",
       "\n",
       ".xr-section-summary-in:checked + label > span {\n",
       "  display: none;\n",
       "}\n",
       "\n",
       ".xr-section-summary,\n",
       ".xr-section-inline-details {\n",
       "  padding-top: 4px;\n",
       "  padding-bottom: 4px;\n",
       "}\n",
       "\n",
       ".xr-section-inline-details {\n",
       "  grid-column: 2 / -1;\n",
       "}\n",
       "\n",
       ".xr-section-details {\n",
       "  display: none;\n",
       "  grid-column: 1 / -1;\n",
       "  margin-bottom: 5px;\n",
       "}\n",
       "\n",
       ".xr-section-summary-in:checked ~ .xr-section-details {\n",
       "  display: contents;\n",
       "}\n",
       "\n",
       ".xr-array-wrap {\n",
       "  grid-column: 1 / -1;\n",
       "  display: grid;\n",
       "  grid-template-columns: 20px auto;\n",
       "}\n",
       "\n",
       ".xr-array-wrap > label {\n",
       "  grid-column: 1;\n",
       "  vertical-align: top;\n",
       "}\n",
       "\n",
       ".xr-preview {\n",
       "  color: var(--xr-font-color3);\n",
       "}\n",
       "\n",
       ".xr-array-preview,\n",
       ".xr-array-data {\n",
       "  padding: 0 5px !important;\n",
       "  grid-column: 2;\n",
       "}\n",
       "\n",
       ".xr-array-data,\n",
       ".xr-array-in:checked ~ .xr-array-preview {\n",
       "  display: none;\n",
       "}\n",
       "\n",
       ".xr-array-in:checked ~ .xr-array-data,\n",
       ".xr-array-preview {\n",
       "  display: inline-block;\n",
       "}\n",
       "\n",
       ".xr-dim-list {\n",
       "  display: inline-block !important;\n",
       "  list-style: none;\n",
       "  padding: 0 !important;\n",
       "  margin: 0;\n",
       "}\n",
       "\n",
       ".xr-dim-list li {\n",
       "  display: inline-block;\n",
       "  padding: 0;\n",
       "  margin: 0;\n",
       "}\n",
       "\n",
       ".xr-dim-list:before {\n",
       "  content: \"(\";\n",
       "}\n",
       "\n",
       ".xr-dim-list:after {\n",
       "  content: \")\";\n",
       "}\n",
       "\n",
       ".xr-dim-list li:not(:last-child):after {\n",
       "  content: \",\";\n",
       "  padding-right: 5px;\n",
       "}\n",
       "\n",
       ".xr-has-index {\n",
       "  font-weight: bold;\n",
       "}\n",
       "\n",
       ".xr-var-list,\n",
       ".xr-var-item {\n",
       "  display: contents;\n",
       "}\n",
       "\n",
       ".xr-var-item > div,\n",
       ".xr-var-item label,\n",
       ".xr-var-item > .xr-var-name span {\n",
       "  background-color: var(--xr-background-color-row-even);\n",
       "  border-color: var(--xr-background-color-row-odd);\n",
       "  margin-bottom: 0;\n",
       "  padding-top: 2px;\n",
       "}\n",
       "\n",
       ".xr-var-item > .xr-var-name:hover span {\n",
       "  padding-right: 5px;\n",
       "}\n",
       "\n",
       ".xr-var-list > li:nth-child(odd) > div,\n",
       ".xr-var-list > li:nth-child(odd) > label,\n",
       ".xr-var-list > li:nth-child(odd) > .xr-var-name span {\n",
       "  background-color: var(--xr-background-color-row-odd);\n",
       "  border-color: var(--xr-background-color-row-even);\n",
       "}\n",
       "\n",
       ".xr-var-name {\n",
       "  grid-column: 1;\n",
       "}\n",
       "\n",
       ".xr-var-dims {\n",
       "  grid-column: 2;\n",
       "}\n",
       "\n",
       ".xr-var-dtype {\n",
       "  grid-column: 3;\n",
       "  text-align: right;\n",
       "  color: var(--xr-font-color2);\n",
       "}\n",
       "\n",
       ".xr-var-preview {\n",
       "  grid-column: 4;\n",
       "}\n",
       "\n",
       ".xr-index-preview {\n",
       "  grid-column: 2 / 5;\n",
       "  color: var(--xr-font-color2);\n",
       "}\n",
       "\n",
       ".xr-var-name,\n",
       ".xr-var-dims,\n",
       ".xr-var-dtype,\n",
       ".xr-preview,\n",
       ".xr-attrs dt {\n",
       "  white-space: nowrap;\n",
       "  overflow: hidden;\n",
       "  text-overflow: ellipsis;\n",
       "  padding-right: 10px;\n",
       "}\n",
       "\n",
       ".xr-var-name:hover,\n",
       ".xr-var-dims:hover,\n",
       ".xr-var-dtype:hover,\n",
       ".xr-attrs dt:hover {\n",
       "  overflow: visible;\n",
       "  width: auto;\n",
       "  z-index: 1;\n",
       "}\n",
       "\n",
       ".xr-var-attrs,\n",
       ".xr-var-data,\n",
       ".xr-index-data {\n",
       "  display: none;\n",
       "  border-top: 2px dotted var(--xr-background-color);\n",
       "  padding-bottom: 20px !important;\n",
       "  padding-top: 10px !important;\n",
       "}\n",
       "\n",
       ".xr-var-attrs-in + label,\n",
       ".xr-var-data-in + label,\n",
       ".xr-index-data-in + label {\n",
       "  padding: 0 1px;\n",
       "}\n",
       "\n",
       ".xr-var-attrs-in:checked ~ .xr-var-attrs,\n",
       ".xr-var-data-in:checked ~ .xr-var-data,\n",
       ".xr-index-data-in:checked ~ .xr-index-data {\n",
       "  display: block;\n",
       "}\n",
       "\n",
       ".xr-var-data > table {\n",
       "  float: right;\n",
       "}\n",
       "\n",
       ".xr-var-data > pre,\n",
       ".xr-index-data > pre,\n",
       ".xr-var-data > table > tbody > tr {\n",
       "  background-color: transparent !important;\n",
       "}\n",
       "\n",
       ".xr-var-name span,\n",
       ".xr-var-data,\n",
       ".xr-index-name div,\n",
       ".xr-index-data,\n",
       ".xr-attrs {\n",
       "  padding-left: 25px !important;\n",
       "}\n",
       "\n",
       ".xr-attrs,\n",
       ".xr-var-attrs,\n",
       ".xr-var-data,\n",
       ".xr-index-data {\n",
       "  grid-column: 1 / -1;\n",
       "}\n",
       "\n",
       "dl.xr-attrs {\n",
       "  padding: 0;\n",
       "  margin: 0;\n",
       "  display: grid;\n",
       "  grid-template-columns: 125px auto;\n",
       "}\n",
       "\n",
       ".xr-attrs dt,\n",
       ".xr-attrs dd {\n",
       "  padding: 0;\n",
       "  margin: 0;\n",
       "  float: left;\n",
       "  padding-right: 10px;\n",
       "  width: auto;\n",
       "}\n",
       "\n",
       ".xr-attrs dt {\n",
       "  font-weight: normal;\n",
       "  grid-column: 1;\n",
       "}\n",
       "\n",
       ".xr-attrs dt:hover span {\n",
       "  display: inline-block;\n",
       "  background: var(--xr-background-color);\n",
       "  padding-right: 10px;\n",
       "}\n",
       "\n",
       ".xr-attrs dd {\n",
       "  grid-column: 2;\n",
       "  white-space: pre-wrap;\n",
       "  word-break: break-all;\n",
       "}\n",
       "\n",
       ".xr-icon-database,\n",
       ".xr-icon-file-text2,\n",
       ".xr-no-icon {\n",
       "  display: inline-block;\n",
       "  vertical-align: middle;\n",
       "  width: 1em;\n",
       "  height: 1.5em !important;\n",
       "  stroke-width: 0;\n",
       "  stroke: currentColor;\n",
       "  fill: currentColor;\n",
       "}\n",
       "\n",
       ".xr-var-attrs-in:checked + label > .xr-icon-file-text2,\n",
       ".xr-var-data-in:checked + label > .xr-icon-database,\n",
       ".xr-index-data-in:checked + label > .xr-icon-database {\n",
       "  color: var(--xr-font-color0);\n",
       "  filter: drop-shadow(1px 1px 5px var(--xr-font-color2));\n",
       "  stroke-width: 0.8px;\n",
       "}\n",
       "</style><pre class='xr-text-repr-fallback'>&lt;xarray.Dataset&gt; Size: 113kB\n",
       "Dimensions:                            (time: 19, countries: 207)\n",
       "Coordinates:\n",
       "  * countries                          (countries) &lt;U3 2kB &#x27;AFG&#x27; &#x27;ALB&#x27; ... &#x27;ZMB&#x27;\n",
       "  * time                               (time) int64 152B 2003 2004 ... 2020 2021\n",
       "Data variables:\n",
       "    evaporation                        (time, countries) float32 16kB 0.5016 ...\n",
       "    gross_primary_productivity         (time, countries) float32 16kB 0.92 .....\n",
       "    kndvi                              (time, countries) float32 16kB 0.02109...\n",
       "    root_moisture                      (time, countries) float32 16kB 0.1732 ...\n",
       "    sif_gosif                          (time, countries) float32 16kB -0.0039...\n",
       "    sm                                 (time, countries) float32 16kB 0.1637 ...\n",
       "    terrestrial_ecosystem_respiration  (time, countries) float32 16kB 0.8211 ...\n",
       "Attributes: (12/23)\n",
       "    Conventions:                CF-1.9\n",
       "    acknowledgment:             All ESDC data providers are acknowledged insi...\n",
       "    contributor_name:           [&#x27;University of Leipzig&#x27;, &#x27;Max Planck Institu...\n",
       "    contributor_url:            [&#x27;https://www.uni-leipzig.de/&#x27;, &#x27;https://www....\n",
       "    creator_name:               [&#x27;University of Leipzig&#x27;, &#x27;Brockmann Consult ...\n",
       "    creator_url:                [&#x27;https://www.uni-leipzig.de/&#x27;, &#x27;https://www....\n",
       "    ...                         ...\n",
       "    publisher_url:              https://www.earthsystemdatalab.net/\n",
       "    time_coverage_end:          2021-12-31T00:00:00.000000000\n",
       "    time_coverage_start:        1979-01-05T00:00:00.000000000\n",
       "    time_period:                8D\n",
       "    time_period_reported_day:   5.0\n",
       "    title:                      Earth System Data Cube (ESDC) v3.0.1</pre><div class='xr-wrap' style='display:none'><div class='xr-header'><div class='xr-obj-type'>xarray.Dataset</div></div><ul class='xr-sections'><li class='xr-section-item'><input id='section-874c0b53-1c0d-4216-a31f-b299dea1e122' class='xr-section-summary-in' type='checkbox' disabled ><label for='section-874c0b53-1c0d-4216-a31f-b299dea1e122' class='xr-section-summary'  title='Expand/collapse section'>Dimensions:</label><div class='xr-section-inline-details'><ul class='xr-dim-list'><li><span class='xr-has-index'>time</span>: 19</li><li><span class='xr-has-index'>countries</span>: 207</li></ul></div><div class='xr-section-details'></div></li><li class='xr-section-item'><input id='section-a6a4c012-ff6f-4639-a78e-b270325fd49a' class='xr-section-summary-in' type='checkbox'  checked><label for='section-a6a4c012-ff6f-4639-a78e-b270325fd49a' class='xr-section-summary' >Coordinates: <span>(2)</span></label><div class='xr-section-inline-details'></div><div class='xr-section-details'><ul class='xr-var-list'><li class='xr-var-item'><div class='xr-var-name'><span class='xr-has-index'>countries</span></div><div class='xr-var-dims'>(countries)</div><div class='xr-var-dtype'>&lt;U3</div><div class='xr-var-preview xr-preview'>&#x27;AFG&#x27; &#x27;ALB&#x27; &#x27;ATA&#x27; ... &#x27;YEM&#x27; &#x27;ZMB&#x27;</div><input id='attrs-6941b779-f4fc-4c09-8df9-e1b9c1a73b6b' class='xr-var-attrs-in' type='checkbox' disabled><label for='attrs-6941b779-f4fc-4c09-8df9-e1b9c1a73b6b' title='Show/Hide attributes'><svg class='icon xr-icon-file-text2'><use xlink:href='#icon-file-text2'></use></svg></label><input id='data-886a52f3-80ad-409b-a8d3-77bc1ea76157' class='xr-var-data-in' type='checkbox'><label for='data-886a52f3-80ad-409b-a8d3-77bc1ea76157' title='Show/Hide data repr'><svg class='icon xr-icon-database'><use xlink:href='#icon-database'></use></svg></label><div class='xr-var-attrs'><dl class='xr-attrs'></dl></div><div class='xr-var-data'><pre>array([&#x27;AFG&#x27;, &#x27;ALB&#x27;, &#x27;ATA&#x27;, ..., &#x27;WSM&#x27;, &#x27;YEM&#x27;, &#x27;ZMB&#x27;], dtype=&#x27;&lt;U3&#x27;)</pre></div></li><li class='xr-var-item'><div class='xr-var-name'><span class='xr-has-index'>time</span></div><div class='xr-var-dims'>(time)</div><div class='xr-var-dtype'>int64</div><div class='xr-var-preview xr-preview'>2003 2004 2005 ... 2019 2020 2021</div><input id='attrs-8c1ffcf8-e300-4281-a311-d0835af836e1' class='xr-var-attrs-in' type='checkbox' disabled><label for='attrs-8c1ffcf8-e300-4281-a311-d0835af836e1' title='Show/Hide attributes'><svg class='icon xr-icon-file-text2'><use xlink:href='#icon-file-text2'></use></svg></label><input id='data-38b0631d-d7b0-4048-ac35-01331a13c8c5' class='xr-var-data-in' type='checkbox'><label for='data-38b0631d-d7b0-4048-ac35-01331a13c8c5' title='Show/Hide data repr'><svg class='icon xr-icon-database'><use xlink:href='#icon-database'></use></svg></label><div class='xr-var-attrs'><dl class='xr-attrs'></dl></div><div class='xr-var-data'><pre>array([2003, 2004, 2005, 2006, 2007, 2008, 2009, 2010, 2011, 2012, 2013, 2014,\n",
       "       2015, 2016, 2017, 2018, 2019, 2020, 2021])</pre></div></li></ul></div></li><li class='xr-section-item'><input id='section-492c20e4-c851-4d34-b6d3-b02193e1ea9c' class='xr-section-summary-in' type='checkbox'  checked><label for='section-492c20e4-c851-4d34-b6d3-b02193e1ea9c' class='xr-section-summary' >Data variables: <span>(7)</span></label><div class='xr-section-inline-details'></div><div class='xr-section-details'><ul class='xr-var-list'><li class='xr-var-item'><div class='xr-var-name'><span>evaporation</span></div><div class='xr-var-dims'>(time, countries)</div><div class='xr-var-dtype'>float32</div><div class='xr-var-preview xr-preview'>0.5016 1.709 ... 0.4735 2.083</div><input id='attrs-cfdded9d-4b45-40a1-9ae3-82e9767bc53e' class='xr-var-attrs-in' type='checkbox' ><label for='attrs-cfdded9d-4b45-40a1-9ae3-82e9767bc53e' title='Show/Hide attributes'><svg class='icon xr-icon-file-text2'><use xlink:href='#icon-file-text2'></use></svg></label><input id='data-d983e674-a847-423c-8741-fd731c865efe' class='xr-var-data-in' type='checkbox'><label for='data-d983e674-a847-423c-8741-fd731c865efe' title='Show/Hide data repr'><svg class='icon xr-icon-database'><use xlink:href='#icon-database'></use></svg></label><div class='xr-var-attrs'><dl class='xr-attrs'><dt><span>acknowledgment :</span></dt><dd>https://www.gleam.eu/</dd><dt><span>date_modified :</span></dt><dd>2022-10-11 16:47:36.234042</dd><dt><span>description :</span></dt><dd>Global Land Evaporation Amsterdam Model (GLEAM) v3.6a</dd><dt><span>geospatial_lat_max :</span></dt><dd>89.875</dd><dt><span>geospatial_lat_min :</span></dt><dd>-89.875</dd><dt><span>geospatial_lat_resolution :</span></dt><dd>-0.25</dd><dt><span>geospatial_lon_max :</span></dt><dd>179.875</dd><dt><span>geospatial_lon_min :</span></dt><dd>-179.875</dd><dt><span>geospatial_lon_resolution :</span></dt><dd>0.25</dd><dt><span>license :</span></dt><dd>Terms and conditions of the DeepESDL data distribution</dd><dt><span>long_name :</span></dt><dd>Actual Evaporation</dd><dt><span>original_add_offset :</span></dt><dd>0.0</dd><dt><span>original_name :</span></dt><dd>E</dd><dt><span>original_scale_factor :</span></dt><dd>1.0</dd><dt><span>processing_steps :</span></dt><dd>[&#x27;Merging nc files&#x27;, &#x27;resampling by 8-day mean&#x27;]</dd><dt><span>project :</span></dt><dd>DeepESDL</dd><dt><span>references :</span></dt><dd>[&#x27;https://doi.org/10.5194/gmd-10-1903-2017&#x27;, &#x27;https://doi.org/10.5194/hess-15-453-2011&#x27;]</dd><dt><span>reported_day :</span></dt><dd>5.0</dd><dt><span>source :</span></dt><dd>[&#x27;GLEAM v3.6a&#x27;, &#x27;https://www.gleam.eu/&#x27;]</dd><dt><span>standard_name :</span></dt><dd>actual_evaporation</dd><dt><span>temporal_resolution :</span></dt><dd>8D</dd><dt><span>time_coverage_end :</span></dt><dd>2021-12-31T00:00:00.000000000</dd><dt><span>time_coverage_start :</span></dt><dd>1980-01-05T00:00:00.000000000</dd><dt><span>time_period :</span></dt><dd>8D</dd><dt><span>units :</span></dt><dd>mm d^-1</dd></dl></div><div class='xr-var-data'><pre>array([[5.0160861e-01, 1.7089195e+00, 1.2127492e-03, ..., 4.8235936e+00,\n",
       "        3.3698627e-01, 2.1307538e+00],\n",
       "       [4.0641394e-01, 1.9071976e+00, 1.2814422e-03, ..., 4.8665423e+00,\n",
       "        2.5522572e-01, 2.1254470e+00],\n",
       "       [4.8786277e-01, 1.8548219e+00, 1.8182148e-03, ..., 4.8796644e+00,\n",
       "        3.2647884e-01, 1.9872503e+00],\n",
       "       ...,\n",
       "       [5.8722901e-01, 2.0419033e+00, 1.7563333e-03, ..., 4.8009629e+00,\n",
       "        4.7205722e-01, 1.9381179e+00],\n",
       "       [5.4116708e-01, 1.8645135e+00, 1.5602815e-03, ..., 4.7131433e+00,\n",
       "        5.2830940e-01, 2.1164980e+00],\n",
       "       [4.3199009e-01, 1.9055398e+00, 1.4234929e-03, ..., 4.9606385e+00,\n",
       "        4.7351131e-01, 2.0833256e+00]], dtype=float32)</pre></div></li><li class='xr-var-item'><div class='xr-var-name'><span>gross_primary_productivity</span></div><div class='xr-var-dims'>(time, countries)</div><div class='xr-var-dtype'>float32</div><div class='xr-var-preview xr-preview'>0.92 2.56 nan 1.03 ... nan nan nan</div><input id='attrs-5c99ef41-34c5-4467-b01a-4745744f77c6' class='xr-var-attrs-in' type='checkbox' ><label for='attrs-5c99ef41-34c5-4467-b01a-4745744f77c6' title='Show/Hide attributes'><svg class='icon xr-icon-file-text2'><use xlink:href='#icon-file-text2'></use></svg></label><input id='data-b8610a5d-e968-4e42-add1-aaccf1c9b1c6' class='xr-var-data-in' type='checkbox'><label for='data-b8610a5d-e968-4e42-add1-aaccf1c9b1c6' title='Show/Hide data repr'><svg class='icon xr-icon-database'><use xlink:href='#icon-database'></use></svg></label><div class='xr-var-attrs'><dl class='xr-attrs'><dt><span>acknowledgment :</span></dt><dd>FLUXCOM</dd><dt><span>date_modified :</span></dt><dd>2022-10-17 22:14:30.401506</dd><dt><span>description :</span></dt><dd>FLUXCOM</dd><dt><span>geospatial_lat_max :</span></dt><dd>89.87499928049999</dd><dt><span>geospatial_lat_min :</span></dt><dd>-89.8750000005</dd><dt><span>geospatial_lat_resolution :</span></dt><dd>0.25</dd><dt><span>geospatial_lon_max :</span></dt><dd>179.87499856049996</dd><dt><span>geospatial_lon_min :</span></dt><dd>-179.8750000005</dd><dt><span>geospatial_lon_resolution :</span></dt><dd>0.25</dd><dt><span>license :</span></dt><dd>Terms and conditions of the DeepESDL data distribution</dd><dt><span>long_name :</span></dt><dd>Gross Primary Productivity</dd><dt><span>original_add_offset :</span></dt><dd>0.0</dd><dt><span>original_name :</span></dt><dd>GPP</dd><dt><span>original_scale_factor :</span></dt><dd>1.0</dd><dt><span>processing_steps :</span></dt><dd>[&#x27;Merging nc files&#x27;, &#x27;Downsampling to 0.25 deg with mean&#x27;]</dd><dt><span>project :</span></dt><dd>DeepESDL</dd><dt><span>references :</span></dt><dd>[&#x27;https://doi.org/10.5194/bg-13-4291-2016&#x27;, &#x27;https://doi.org/10.1038/s41597-019-0076-8&#x27;]</dd><dt><span>reported_day :</span></dt><dd>5.0</dd><dt><span>source :</span></dt><dd>[&#x27;https://www.fluxcom.org/&#x27;]</dd><dt><span>standard_name :</span></dt><dd>gross_primary_productivity_of_carbon</dd><dt><span>temporal_resolution :</span></dt><dd>8D</dd><dt><span>time_coverage_end :</span></dt><dd>2020-12-30T00:00:00.000000000</dd><dt><span>time_coverage_start :</span></dt><dd>2001-01-05T00:00:00.000000000</dd><dt><span>time_period :</span></dt><dd>8D</dd><dt><span>units :</span></dt><dd>g C m^-2 d^-1</dd></dl></div><div class='xr-var-data'><pre>array([[0.920039  , 2.560303  ,        nan, ..., 8.454688  , 0.59781206,\n",
       "        3.5882518 ],\n",
       "       [0.8358942 , 2.8039804 ,        nan, ..., 8.325342  , 0.58382994,\n",
       "        3.6465037 ],\n",
       "       [0.9057611 , 2.731235  ,        nan, ..., 8.5224905 , 0.6352726 ,\n",
       "        3.4699318 ],\n",
       "       ...,\n",
       "       [0.958111  , 2.9407074 ,        nan, ..., 8.440102  , 0.67758524,\n",
       "        3.5038884 ],\n",
       "       [0.93844503, 2.973175  ,        nan, ..., 8.444227  , 0.7426919 ,\n",
       "        3.595143  ],\n",
       "       [       nan,        nan,        nan, ...,        nan,        nan,\n",
       "               nan]], dtype=float32)</pre></div></li><li class='xr-var-item'><div class='xr-var-name'><span>kndvi</span></div><div class='xr-var-dims'>(time, countries)</div><div class='xr-var-dtype'>float32</div><div class='xr-var-preview xr-preview'>0.02109 0.2353 ... 0.02439 0.3107</div><input id='attrs-5f2f95d0-1400-497b-a725-de9f4275868d' class='xr-var-attrs-in' type='checkbox' ><label for='attrs-5f2f95d0-1400-497b-a725-de9f4275868d' title='Show/Hide attributes'><svg class='icon xr-icon-file-text2'><use xlink:href='#icon-file-text2'></use></svg></label><input id='data-1ced5401-0779-46b5-b70c-cc1b514da12c' class='xr-var-data-in' type='checkbox'><label for='data-1ced5401-0779-46b5-b70c-cc1b514da12c' title='Show/Hide data repr'><svg class='icon xr-icon-database'><use xlink:href='#icon-database'></use></svg></label><div class='xr-var-attrs'><dl class='xr-attrs'><dt><span>acknowledgment :</span></dt><dd>https://lpdaac.usgs.gov/products/mcd43c4v061/</dd><dt><span>date_modified :</span></dt><dd>2022-10-11 23:51:00.603768</dd><dt><span>description :</span></dt><dd>MODIS/Terra+Aqua BRDF/Albedo Nadir BRDF-Adjusted Reflectance Daily L3 Global 0.05 Deg CMG and Vegetation Indices</dd><dt><span>geospatial_lat_max :</span></dt><dd>89.875</dd><dt><span>geospatial_lat_min :</span></dt><dd>-89.87499999998977</dd><dt><span>geospatial_lat_resolution :</span></dt><dd>0.25</dd><dt><span>geospatial_lon_max :</span></dt><dd>179.87500000008183</dd><dt><span>geospatial_lon_min :</span></dt><dd>-179.87499999999997</dd><dt><span>geospatial_lon_resolution :</span></dt><dd>0.25</dd><dt><span>license :</span></dt><dd>Terms and conditions of the DeepESDL data distribution</dd><dt><span>long_name :</span></dt><dd>Kernel Normalized Difference Vegetation Index</dd><dt><span>original_add_offset :</span></dt><dd>0.0</dd><dt><span>original_name :</span></dt><dd>kNDVI</dd><dt><span>original_scale_factor :</span></dt><dd>1.0</dd><dt><span>processing_steps :</span></dt><dd>[&#x27;Merging hdf files&#x27;, &#x27;Computing NDVI, NIRv, and kNDVI&#x27;, &#x27;resampling by 8-day mean&#x27;, &#x27;Downsampling to 0.25 deg with mean&#x27;, &#x27;Interpolating NA with linear interpolation&#x27;, &#x27;Masking water using GLEAM as reference&#x27;]</dd><dt><span>project :</span></dt><dd>DeepESDL</dd><dt><span>references :</span></dt><dd>[&#x27;https://doi.org/10.1126/sciadv.abc7447&#x27;, &#x27;https://github.com/awesome-spectral-indices/awesome-spectral-indices&#x27;, &#x27;https://doi.org/10.5067/MODIS/MCD43C4.061&#x27;, &#x27;https://www.umb.edu/spectralmass/terra_aqua_modis/v006&#x27;]</dd><dt><span>reported_day :</span></dt><dd>5.0</dd><dt><span>source :</span></dt><dd>[&#x27;https://github.com/awesome-spectral-indices/spyndex&#x27;, &#x27;https://lpdaac.usgs.gov/products/mcd43c4v061/&#x27;]</dd><dt><span>standard_name :</span></dt><dd>kNDVI</dd><dt><span>temporal_resolution :</span></dt><dd>8D</dd><dt><span>time_coverage_end :</span></dt><dd>2021-12-31T00:00:00.000000000</dd><dt><span>time_coverage_start :</span></dt><dd>2000-03-01T00:00:00.000000000</dd><dt><span>time_period :</span></dt><dd>8D</dd><dt><span>units :</span></dt><dd>1</dd></dl></div><div class='xr-var-data'><pre>array([[0.02109401, 0.23532204, 0.00074864, ..., 0.49898145, 0.01896533,\n",
       "        0.30638275],\n",
       "       [0.01845813, 0.2576639 , 0.00110212, ..., 0.49045736, 0.01897713,\n",
       "        0.3208521 ],\n",
       "       [0.02066917, 0.2431825 , 0.00138252, ..., 0.5091387 , 0.01958204,\n",
       "        0.28254244],\n",
       "       ...,\n",
       "       [0.0222798 , 0.2814931 , 0.00408106, ..., 0.497058  , 0.02296804,\n",
       "        0.29475316],\n",
       "       [0.0225278 , 0.2952956 , 0.0038696 , ..., 0.5025385 , 0.02577439,\n",
       "        0.3098328 ],\n",
       "       [0.01857075, 0.26700857, 0.00528244, ..., 0.49747565, 0.02438635,\n",
       "        0.31073913]], dtype=float32)</pre></div></li><li class='xr-var-item'><div class='xr-var-name'><span>root_moisture</span></div><div class='xr-var-dims'>(time, countries)</div><div class='xr-var-dtype'>float32</div><div class='xr-var-preview xr-preview'>0.1732 0.3511 ... 0.1086 0.2839</div><input id='attrs-8f257f12-8f42-4055-985f-f5bab7a5789c' class='xr-var-attrs-in' type='checkbox' ><label for='attrs-8f257f12-8f42-4055-985f-f5bab7a5789c' title='Show/Hide attributes'><svg class='icon xr-icon-file-text2'><use xlink:href='#icon-file-text2'></use></svg></label><input id='data-91e9850e-6fe9-4437-ac0e-f21698a4933f' class='xr-var-data-in' type='checkbox'><label for='data-91e9850e-6fe9-4437-ac0e-f21698a4933f' title='Show/Hide data repr'><svg class='icon xr-icon-database'><use xlink:href='#icon-database'></use></svg></label><div class='xr-var-attrs'><dl class='xr-attrs'><dt><span>acknowledgment :</span></dt><dd>https://www.gleam.eu/</dd><dt><span>date_modified :</span></dt><dd>2022-10-11 16:47:36.234042</dd><dt><span>description :</span></dt><dd>Global Land Evaporation Amsterdam Model (GLEAM) v3.6a</dd><dt><span>geospatial_lat_max :</span></dt><dd>89.875</dd><dt><span>geospatial_lat_min :</span></dt><dd>-89.875</dd><dt><span>geospatial_lat_resolution :</span></dt><dd>-0.25</dd><dt><span>geospatial_lon_max :</span></dt><dd>179.875</dd><dt><span>geospatial_lon_min :</span></dt><dd>-179.875</dd><dt><span>geospatial_lon_resolution :</span></dt><dd>0.25</dd><dt><span>license :</span></dt><dd>Terms and conditions of the DeepESDL data distribution</dd><dt><span>long_name :</span></dt><dd>Root-zone Soil Moisture</dd><dt><span>original_add_offset :</span></dt><dd>0.0</dd><dt><span>original_name :</span></dt><dd>SMroot</dd><dt><span>original_scale_factor :</span></dt><dd>1.0</dd><dt><span>processing_steps :</span></dt><dd>[&#x27;Merging nc files&#x27;, &#x27;resampling by 8-day mean&#x27;]</dd><dt><span>project :</span></dt><dd>DeepESDL</dd><dt><span>references :</span></dt><dd>[&#x27;https://doi.org/10.5194/gmd-10-1903-2017&#x27;, &#x27;https://doi.org/10.5194/hess-15-453-2011&#x27;]</dd><dt><span>reported_day :</span></dt><dd>5.0</dd><dt><span>source :</span></dt><dd>[&#x27;GLEAM v3.6a&#x27;, &#x27;https://www.gleam.eu/&#x27;]</dd><dt><span>standard_name :</span></dt><dd>root_zone_soil_moisture</dd><dt><span>temporal_resolution :</span></dt><dd>8D</dd><dt><span>time_coverage_end :</span></dt><dd>2021-12-31T00:00:00.000000000</dd><dt><span>time_coverage_start :</span></dt><dd>1980-01-05T00:00:00.000000000</dd><dt><span>time_period :</span></dt><dd>8D</dd><dt><span>units :</span></dt><dd>mm d^-1</dd></dl></div><div class='xr-var-data'><pre>array([[0.17322013, 0.35109285, 0.08856013, ..., 0.12222253, 0.10616796,\n",
       "        0.28480718],\n",
       "       [0.16143689, 0.3801361 , 0.08856055, ..., 0.10638434, 0.10069718,\n",
       "        0.289445  ],\n",
       "       [0.18015802, 0.36731827, 0.08856048, ..., 0.11773918, 0.10295381,\n",
       "        0.2689811 ],\n",
       "       ...,\n",
       "       [0.18972164, 0.3777278 , 0.0885599 , ..., 0.11707824, 0.11084713,\n",
       "        0.26378417],\n",
       "       [0.1839471 , 0.35566545, 0.08856177, ..., 0.13045432, 0.11165267,\n",
       "        0.28195402],\n",
       "       [0.14698574, 0.3543587 , 0.08856249, ..., 0.12758003, 0.10864799,\n",
       "        0.28389412]], dtype=float32)</pre></div></li><li class='xr-var-item'><div class='xr-var-name'><span>sif_gosif</span></div><div class='xr-var-dims'>(time, countries)</div><div class='xr-var-dtype'>float32</div><div class='xr-var-preview xr-preview'>-0.003906 0.1275 ... 0.01197 0.1674</div><input id='attrs-c88db50f-0275-4e66-9025-1827b8112075' class='xr-var-attrs-in' type='checkbox' ><label for='attrs-c88db50f-0275-4e66-9025-1827b8112075' title='Show/Hide attributes'><svg class='icon xr-icon-file-text2'><use xlink:href='#icon-file-text2'></use></svg></label><input id='data-7cc53554-a932-44e4-b822-ef8b4044514a' class='xr-var-data-in' type='checkbox'><label for='data-7cc53554-a932-44e4-b822-ef8b4044514a' title='Show/Hide data repr'><svg class='icon xr-icon-database'><use xlink:href='#icon-database'></use></svg></label><div class='xr-var-attrs'><dl class='xr-attrs'><dt><span>acknowledgment :</span></dt><dd>https://doi.org/10.3390/rs11050517</dd><dt><span>date_modified :</span></dt><dd>2022-10-11 22:20:05.841847</dd><dt><span>description :</span></dt><dd>GOSIF Solar-Induced Chlorophyll Fluorescence Derived from OCO-2, MODIS, and Reanalysis Data</dd><dt><span>geospatial_lat_max :</span></dt><dd>89.87499999999999</dd><dt><span>geospatial_lat_min :</span></dt><dd>-89.87500000000001</dd><dt><span>geospatial_lat_resolution :</span></dt><dd>0.25</dd><dt><span>geospatial_lon_max :</span></dt><dd>179.87500000000003</dd><dt><span>geospatial_lon_min :</span></dt><dd>-179.87499999999997</dd><dt><span>geospatial_lon_resolution :</span></dt><dd>0.25</dd><dt><span>license :</span></dt><dd>Terms and conditions of the DeepESDL data distribution</dd><dt><span>long_name :</span></dt><dd>Sun-Induced Chlorophyll Fluorescence at 757 nm</dd><dt><span>original_add_offset :</span></dt><dd>0.0</dd><dt><span>original_name :</span></dt><dd>sif</dd><dt><span>original_scale_factor :</span></dt><dd>0.0001</dd><dt><span>processing_steps :</span></dt><dd>[&#x27;Merging tif files&#x27;, &#x27;Converting water bodies and snow covered areas to NaN&#x27;, &#x27;Applying original scale factor&#x27;, &#x27;Downsampling to 0.25 deg with mean&#x27;]</dd><dt><span>project :</span></dt><dd>DeepESDL</dd><dt><span>references :</span></dt><dd>[&#x27;https://doi.org/10.3390/rs11050517&#x27;]</dd><dt><span>reported_day :</span></dt><dd>5.0</dd><dt><span>source :</span></dt><dd>[&#x27;https://globalecology.unh.edu/data.html&#x27;]</dd><dt><span>standard_name :</span></dt><dd>sif</dd><dt><span>temporal_resolution :</span></dt><dd>8D</dd><dt><span>time_coverage_end :</span></dt><dd>2021-12-31T00:00:00.000000000</dd><dt><span>time_coverage_start :</span></dt><dd>2000-03-01T00:00:00.000000000</dd><dt><span>time_period :</span></dt><dd>8D</dd><dt><span>units :</span></dt><dd>W m^-2 sr^-1 um^-1</dd></dl></div><div class='xr-var-data'><pre>array([[-3.90592357e-03,  1.27487674e-01, -2.12971196e-02, ...,\n",
       "         5.22628963e-01,  7.97806215e-03,  1.61643907e-01],\n",
       "       [-7.84059986e-03,  1.43390015e-01, -2.10396070e-02, ...,\n",
       "         5.02008080e-01,  7.06546521e-03,  1.73124447e-01],\n",
       "       [-3.90891172e-03,  1.37993380e-01, -2.19039656e-02, ...,\n",
       "         5.27761221e-01,  8.56383424e-03,  1.53793126e-01],\n",
       "       ...,\n",
       "       [-3.02402390e-04,  1.56842008e-01, -7.64867989e-03, ...,\n",
       "         5.27706742e-01,  1.32943895e-02,  1.62981078e-01],\n",
       "       [-3.75938806e-04,  1.59665674e-01,  3.16661433e-03, ...,\n",
       "         5.27177453e-01,  1.59890074e-02,  1.72815531e-01],\n",
       "       [-6.40241336e-03,  1.46076560e-01,  1.76210403e-02, ...,\n",
       "         5.31961203e-01,  1.19731138e-02,  1.67412609e-01]], dtype=float32)</pre></div></li><li class='xr-var-item'><div class='xr-var-name'><span>sm</span></div><div class='xr-var-dims'>(time, countries)</div><div class='xr-var-dtype'>float32</div><div class='xr-var-preview xr-preview'>0.1637 0.2631 nan ... nan nan nan</div><input id='attrs-221b4bfa-d596-4bad-bb05-6c728811f92e' class='xr-var-attrs-in' type='checkbox' ><label for='attrs-221b4bfa-d596-4bad-bb05-6c728811f92e' title='Show/Hide attributes'><svg class='icon xr-icon-file-text2'><use xlink:href='#icon-file-text2'></use></svg></label><input id='data-cb37be7a-edd6-42a3-bd95-1893cbf77e8b' class='xr-var-data-in' type='checkbox'><label for='data-cb37be7a-edd6-42a3-bd95-1893cbf77e8b' title='Show/Hide data repr'><svg class='icon xr-icon-database'><use xlink:href='#icon-database'></use></svg></label><div class='xr-var-attrs'><dl class='xr-attrs'><dt><span>acknowledgment :</span></dt><dd>ESA Soil Moisture Climate Change Initiative (Soil_Moisture_cci)</dd><dt><span>date_modified :</span></dt><dd>2022-10-13 20:42:41.277132</dd><dt><span>description :</span></dt><dd>ESA Soil Moisture Climate Change Initiative (Soil_Moisture_cci): COMBINED product, Version 06.1</dd><dt><span>geospatial_lat_max :</span></dt><dd>89.875</dd><dt><span>geospatial_lat_min :</span></dt><dd>-89.875</dd><dt><span>geospatial_lat_resolution :</span></dt><dd>-0.25</dd><dt><span>geospatial_lon_max :</span></dt><dd>179.875</dd><dt><span>geospatial_lon_min :</span></dt><dd>-179.875</dd><dt><span>geospatial_lon_resolution :</span></dt><dd>0.25</dd><dt><span>license :</span></dt><dd>Terms and conditions of the DeepESDL data distribution</dd><dt><span>long_name :</span></dt><dd>Volumetric Soil Moisture</dd><dt><span>original_add_offset :</span></dt><dd>0.0</dd><dt><span>original_name :</span></dt><dd>sm</dd><dt><span>original_scale_factor :</span></dt><dd>1.0</dd><dt><span>processing_steps :</span></dt><dd>[&#x27;Merging nc files&#x27;, &#x27;Resampling by 8-day mean&#x27;]</dd><dt><span>project :</span></dt><dd>DeepESDL</dd><dt><span>references :</span></dt><dd>[&#x27;https://data.cci.ceda.ac.uk/thredds/fileServer/esacci/soil_moisture/docs/v06.1/ESA_CCI_SM_RD_D2.1_v2_ATBD_v06.1_issue_1.1.pdf&#x27;, &#x27;https://doi.org/10.5194/essd-11-717-2019&#x27;, &#x27;https://doi.org/10.1016/j.rse.2017.07.001&#x27;]</dd><dt><span>reported_day :</span></dt><dd>5.0</dd><dt><span>source :</span></dt><dd>[&#x27;https://catalogue.ceda.ac.uk/uuid/43d73291472444e6b9c2d2420dbad7d6&#x27;]</dd><dt><span>standard_name :</span></dt><dd>volumetric_soil_moisture</dd><dt><span>temporal_resolution :</span></dt><dd>8D</dd><dt><span>time_coverage_end :</span></dt><dd>2020-12-30T00:00:00.000000000</dd><dt><span>time_coverage_start :</span></dt><dd>1979-01-05T00:00:00.000000000</dd><dt><span>time_period :</span></dt><dd>8D</dd><dt><span>units :</span></dt><dd>m^3 m^-3</dd></dl></div><div class='xr-var-data'><pre>array([[0.16373459, 0.26308832,        nan, ...,        nan, 0.11965368,\n",
       "        0.19628908],\n",
       "       [0.15460603, 0.27352315,        nan, ...,        nan, 0.12060957,\n",
       "        0.19906367],\n",
       "       [0.1666069 , 0.27646866,        nan, ...,        nan, 0.12129246,\n",
       "        0.17223915],\n",
       "       ...,\n",
       "       [0.18238334, 0.2809431 ,        nan, ...,        nan, 0.12422977,\n",
       "        0.18867323],\n",
       "       [0.18100978, 0.2806423 ,        nan, ...,        nan, 0.12879896,\n",
       "        0.20678239],\n",
       "       [       nan,        nan,        nan, ...,        nan,        nan,\n",
       "               nan]], dtype=float32)</pre></div></li><li class='xr-var-item'><div class='xr-var-name'><span>terrestrial_ecosystem_respiration</span></div><div class='xr-var-dims'>(time, countries)</div><div class='xr-var-dtype'>float32</div><div class='xr-var-preview xr-preview'>0.8211 2.227 nan ... nan nan nan</div><input id='attrs-fe83e393-15dc-4920-b060-b5759fad5577' class='xr-var-attrs-in' type='checkbox' ><label for='attrs-fe83e393-15dc-4920-b060-b5759fad5577' title='Show/Hide attributes'><svg class='icon xr-icon-file-text2'><use xlink:href='#icon-file-text2'></use></svg></label><input id='data-8c25d24a-9709-491d-8f47-ace2e0263c2f' class='xr-var-data-in' type='checkbox'><label for='data-8c25d24a-9709-491d-8f47-ace2e0263c2f' title='Show/Hide data repr'><svg class='icon xr-icon-database'><use xlink:href='#icon-database'></use></svg></label><div class='xr-var-attrs'><dl class='xr-attrs'><dt><span>acknowledgment :</span></dt><dd>FLUXCOM</dd><dt><span>date_modified :</span></dt><dd>2022-10-17 22:14:30.401506</dd><dt><span>description :</span></dt><dd>FLUXCOM</dd><dt><span>geospatial_lat_max :</span></dt><dd>89.87499928049999</dd><dt><span>geospatial_lat_min :</span></dt><dd>-89.8750000005</dd><dt><span>geospatial_lat_resolution :</span></dt><dd>0.25</dd><dt><span>geospatial_lon_max :</span></dt><dd>179.87499856049996</dd><dt><span>geospatial_lon_min :</span></dt><dd>-179.8750000005</dd><dt><span>geospatial_lon_resolution :</span></dt><dd>0.25</dd><dt><span>license :</span></dt><dd>Terms and conditions of the DeepESDL data distribution</dd><dt><span>long_name :</span></dt><dd>Terrestrial Ecosystem Respiration</dd><dt><span>original_add_offset :</span></dt><dd>0.0</dd><dt><span>original_name :</span></dt><dd>TER</dd><dt><span>original_scale_factor :</span></dt><dd>1.0</dd><dt><span>processing_steps :</span></dt><dd>[&#x27;Merging nc files&#x27;, &#x27;Downsampling to 0.25 deg with mean&#x27;]</dd><dt><span>project :</span></dt><dd>DeepESDL</dd><dt><span>references :</span></dt><dd>[&#x27;https://doi.org/10.5194/bg-13-4291-2016&#x27;, &#x27;https://doi.org/10.1038/s41597-019-0076-8&#x27;]</dd><dt><span>reported_day :</span></dt><dd>5.0</dd><dt><span>source :</span></dt><dd>[&#x27;https://www.fluxcom.org/&#x27;]</dd><dt><span>standard_name :</span></dt><dd>ecosystem_respiration_carbon_flux</dd><dt><span>temporal_resolution :</span></dt><dd>8D</dd><dt><span>time_coverage_end :</span></dt><dd>2020-12-30T00:00:00.000000000</dd><dt><span>time_coverage_start :</span></dt><dd>2001-01-05T00:00:00.000000000</dd><dt><span>time_period :</span></dt><dd>8D</dd><dt><span>units :</span></dt><dd>g C m^-2 d^-1</dd></dl></div><div class='xr-var-data'><pre>array([[0.8210994 , 2.227009  ,        nan, ..., 6.2287517 , 0.95700705,\n",
       "        2.5706866 ],\n",
       "       [0.80570835, 2.270919  ,        nan, ..., 6.156211  , 0.9475695 ,\n",
       "        2.5985305 ],\n",
       "       [0.8133976 , 2.2192335 ,        nan, ..., 6.2695036 , 0.9631772 ,\n",
       "        2.5022082 ],\n",
       "       ...,\n",
       "       [0.84189266, 2.3393412 ,        nan, ..., 6.236257  , 0.9826524 ,\n",
       "        2.5243506 ],\n",
       "       [0.82395136, 2.3308804 ,        nan, ..., 6.2557282 , 0.99194986,\n",
       "        2.58316   ],\n",
       "       [       nan,        nan,        nan, ...,        nan,        nan,\n",
       "               nan]], dtype=float32)</pre></div></li></ul></div></li><li class='xr-section-item'><input id='section-50b22d93-d199-4604-98ca-a1d13938a1c6' class='xr-section-summary-in' type='checkbox'  ><label for='section-50b22d93-d199-4604-98ca-a1d13938a1c6' class='xr-section-summary' >Indexes: <span>(2)</span></label><div class='xr-section-inline-details'></div><div class='xr-section-details'><ul class='xr-var-list'><li class='xr-var-item'><div class='xr-index-name'><div>countries</div></div><div class='xr-index-preview'>PandasIndex</div><input type='checkbox' disabled/><label></label><input id='index-51fd70d0-bd5b-4a85-be92-898ec88fde3f' class='xr-index-data-in' type='checkbox'/><label for='index-51fd70d0-bd5b-4a85-be92-898ec88fde3f' title='Show/Hide index repr'><svg class='icon xr-icon-database'><use xlink:href='#icon-database'></use></svg></label><div class='xr-index-data'><pre>PandasIndex(Index([&#x27;AFG&#x27;, &#x27;ALB&#x27;, &#x27;ATA&#x27;, &#x27;DZA&#x27;, &#x27;AND&#x27;, &#x27;AGO&#x27;, &#x27;AZE&#x27;, &#x27;ARG&#x27;, &#x27;AUS&#x27;, &#x27;AUT&#x27;,\n",
       "       ...\n",
       "       &#x27;IMN&#x27;, &#x27;TZA&#x27;, &#x27;USA&#x27;, &#x27;BFA&#x27;, &#x27;URY&#x27;, &#x27;UZB&#x27;, &#x27;VEN&#x27;, &#x27;WSM&#x27;, &#x27;YEM&#x27;, &#x27;ZMB&#x27;],\n",
       "      dtype=&#x27;object&#x27;, name=&#x27;countries&#x27;, length=207))</pre></div></li><li class='xr-var-item'><div class='xr-index-name'><div>time</div></div><div class='xr-index-preview'>PandasIndex</div><input type='checkbox' disabled/><label></label><input id='index-2e8cb25b-4036-41df-a3d7-289f0a062036' class='xr-index-data-in' type='checkbox'/><label for='index-2e8cb25b-4036-41df-a3d7-289f0a062036' title='Show/Hide index repr'><svg class='icon xr-icon-database'><use xlink:href='#icon-database'></use></svg></label><div class='xr-index-data'><pre>PandasIndex(Index([2003, 2004, 2005, 2006, 2007, 2008, 2009, 2010, 2011, 2012, 2013, 2014,\n",
       "       2015, 2016, 2017, 2018, 2019, 2020, 2021],\n",
       "      dtype=&#x27;int64&#x27;, name=&#x27;time&#x27;))</pre></div></li></ul></div></li><li class='xr-section-item'><input id='section-5cfe084a-3913-4649-b035-6f41c2721f4c' class='xr-section-summary-in' type='checkbox'  ><label for='section-5cfe084a-3913-4649-b035-6f41c2721f4c' class='xr-section-summary' >Attributes: <span>(23)</span></label><div class='xr-section-inline-details'></div><div class='xr-section-details'><dl class='xr-attrs'><dt><span>Conventions :</span></dt><dd>CF-1.9</dd><dt><span>acknowledgment :</span></dt><dd>All ESDC data providers are acknowledged inside each variable</dd><dt><span>contributor_name :</span></dt><dd>[&#x27;University of Leipzig&#x27;, &#x27;Max Planck Institute&#x27;, &#x27;Brockmann Consult GmbH&#x27;]</dd><dt><span>contributor_url :</span></dt><dd>[&#x27;https://www.uni-leipzig.de/&#x27;, &#x27;https://www.mpg.de/en&#x27;, &#x27;https://www.brockmann-consult.de/&#x27;]</dd><dt><span>creator_name :</span></dt><dd>[&#x27;University of Leipzig&#x27;, &#x27;Brockmann Consult GmbH&#x27;]</dd><dt><span>creator_url :</span></dt><dd>[&#x27;https://www.uni-leipzig.de/&#x27;, &#x27;https://www.brockmann-consult.de/&#x27;]</dd><dt><span>date_modified :</span></dt><dd>2022-11-25 23:13:03.350030</dd><dt><span>geospatial_lat_max :</span></dt><dd>89.875</dd><dt><span>geospatial_lat_min :</span></dt><dd>-89.875</dd><dt><span>geospatial_lat_resolution :</span></dt><dd>0.25</dd><dt><span>geospatial_lon_max :</span></dt><dd>179.875</dd><dt><span>geospatial_lon_min :</span></dt><dd>-179.875</dd><dt><span>geospatial_lon_resolution :</span></dt><dd>0.25</dd><dt><span>id :</span></dt><dd>esdc-8d-0.25deg-256x128x128-3.0.1</dd><dt><span>license :</span></dt><dd>Terms and conditions of the DeepESDL data distribution</dd><dt><span>project :</span></dt><dd>DeepESDL</dd><dt><span>publisher_name :</span></dt><dd>DeepESDL Team</dd><dt><span>publisher_url :</span></dt><dd>https://www.earthsystemdatalab.net/</dd><dt><span>time_coverage_end :</span></dt><dd>2021-12-31T00:00:00.000000000</dd><dt><span>time_coverage_start :</span></dt><dd>1979-01-05T00:00:00.000000000</dd><dt><span>time_period :</span></dt><dd>8D</dd><dt><span>time_period_reported_day :</span></dt><dd>5.0</dd><dt><span>title :</span></dt><dd>Earth System Data Cube (ESDC) v3.0.1</dd></dl></div></li></ul></div></div>"
      ],
      "text/plain": [
       "<xarray.Dataset> Size: 113kB\n",
       "Dimensions:                            (time: 19, countries: 207)\n",
       "Coordinates:\n",
       "  * countries                          (countries) <U3 2kB 'AFG' 'ALB' ... 'ZMB'\n",
       "  * time                               (time) int64 152B 2003 2004 ... 2020 2021\n",
       "Data variables:\n",
       "    evaporation                        (time, countries) float32 16kB 0.5016 ...\n",
       "    gross_primary_productivity         (time, countries) float32 16kB 0.92 .....\n",
       "    kndvi                              (time, countries) float32 16kB 0.02109...\n",
       "    root_moisture                      (time, countries) float32 16kB 0.1732 ...\n",
       "    sif_gosif                          (time, countries) float32 16kB -0.0039...\n",
       "    sm                                 (time, countries) float32 16kB 0.1637 ...\n",
       "    terrestrial_ecosystem_respiration  (time, countries) float32 16kB 0.8211 ...\n",
       "Attributes: (12/23)\n",
       "    Conventions:                CF-1.9\n",
       "    acknowledgment:             All ESDC data providers are acknowledged insi...\n",
       "    contributor_name:           ['University of Leipzig', 'Max Planck Institu...\n",
       "    contributor_url:            ['https://www.uni-leipzig.de/', 'https://www....\n",
       "    creator_name:               ['University of Leipzig', 'Brockmann Consult ...\n",
       "    creator_url:                ['https://www.uni-leipzig.de/', 'https://www....\n",
       "    ...                         ...\n",
       "    publisher_url:              https://www.earthsystemdatalab.net/\n",
       "    time_coverage_end:          2021-12-31T00:00:00.000000000\n",
       "    time_coverage_start:        1979-01-05T00:00:00.000000000\n",
       "    time_period:                8D\n",
       "    time_period_reported_day:   5.0\n",
       "    title:                      Earth System Data Cube (ESDC) v3.0.1"
      ]
     },
     "execution_count": 19,
     "metadata": {},
     "output_type": "execute_result"
    }
   ],
   "source": [
    "bio_countrycube"
   ]
  },
  {
   "cell_type": "markdown",
   "id": "5ad53f3a-2ada-4cca-96c8-6344bef4baae",
   "metadata": {},
   "source": [
    "We can produce a plot of the mean kndvi Germany and Italy"
   ]
  },
  {
   "cell_type": "code",
   "execution_count": 20,
   "id": "ccf55e3e-3f54-42e3-8fcf-3a8e38680c81",
   "metadata": {
    "tags": []
   },
   "outputs": [
    {
     "data": {
      "text/plain": [
       "[<matplotlib.lines.Line2D at 0x7f6d3ff06690>]"
      ]
     },
     "execution_count": 20,
     "metadata": {},
     "output_type": "execute_result"
    },
    {
     "data": {
      "image/png": "[encoded data removed]",
      "text/plain": [
       "<Figure size 640x480 with 1 Axes>"
      ]
     },
     "metadata": {},
     "output_type": "display_data"
    }
   ],
   "source": [
    "bio_countrycube.sel(countries='DEU')['kndvi'].plot()\n",
    "bio_countrycube.sel(countries='ITA')['kndvi'].plot()"
   ]
  },
  {
   "cell_type": "markdown",
   "id": "4601ef26-9719-4e6f-bdc4-ebdfb91b4eaa",
   "metadata": {},
   "source": [
    "As the last step of the data preprocessing we normalize the data to zero mean and unit variance and store the result to netcdf files. "
   ]
  },
  {
   "cell_type": "code",
   "execution_count": 21,
   "id": "1f31abc8-efef-4ca6-b7b1-8b8cfa5c0c70",
   "metadata": {
    "tags": []
   },
   "outputs": [],
   "source": [
    "team_store = new_data_store(\"s3\",\n",
    "                       root=S3_USER_STORAGE_BUCKET,\n",
    "                       storage_options=dict(\n",
    "                           anon=False, key=S3_USER_STORAGE_KEY, secret=S3_USER_STORAGE_SECRET\n",
    "                       )\n",
    "                      )\n"
   ]
  },
  {
   "cell_type": "code",
   "execution_count": 23,
   "id": "19e0dbf4-0587-46fb-a4e0-879e48bafb37",
   "metadata": {
    "tags": []
   },
   "outputs": [
    {
     "name": "stderr",
     "output_type": "stream",
     "text": [
      "/home/conda/users/54b58749-1757596605-112-science-case-phi/lib/python3.12/site-packages/numpy/lib/nanfunctions.py:1879: RuntimeWarning: Degrees of freedom <= 0 for slice.\n",
      "  var = nanvar(a, axis=axis, dtype=dtype, out=out, ddof=ddof,\n",
      "/home/conda/users/54b58749-1757596605-112-science-case-phi/lib/python3.12/site-packages/numpy/lib/nanfunctions.py:1879: RuntimeWarning: Degrees of freedom <= 0 for slice.\n",
      "  var = nanvar(a, axis=axis, dtype=dtype, out=out, ddof=ddof,\n",
      "/home/conda/users/54b58749-1757596605-112-science-case-phi/lib/python3.12/site-packages/numpy/lib/nanfunctions.py:1879: RuntimeWarning: Degrees of freedom <= 0 for slice.\n",
      "  var = nanvar(a, axis=axis, dtype=dtype, out=out, ddof=ddof,\n",
      "/home/conda/users/54b58749-1757596605-112-science-case-phi/lib/python3.12/site-packages/numpy/lib/nanfunctions.py:1879: RuntimeWarning: Degrees of freedom <= 0 for slice.\n",
      "  var = nanvar(a, axis=axis, dtype=dtype, out=out, ddof=ddof,\n",
      "/home/conda/users/54b58749-1757596605-112-science-case-phi/lib/python3.12/site-packages/numpy/lib/nanfunctions.py:1879: RuntimeWarning: Degrees of freedom <= 0 for slice.\n",
      "  var = nanvar(a, axis=axis, dtype=dtype, out=out, ddof=ddof,\n",
      "/home/conda/users/54b58749-1757596605-112-science-case-phi/lib/python3.12/site-packages/numpy/lib/nanfunctions.py:1879: RuntimeWarning: Degrees of freedom <= 0 for slice.\n",
      "  var = nanvar(a, axis=axis, dtype=dtype, out=out, ddof=ddof,\n",
      "/home/conda/users/54b58749-1757596605-112-science-case-phi/lib/python3.12/site-packages/numpy/lib/nanfunctions.py:1879: RuntimeWarning: Degrees of freedom <= 0 for slice.\n",
      "  var = nanvar(a, axis=axis, dtype=dtype, out=out, ddof=ddof,\n",
      "/home/conda/users/54b58749-1757596605-112-science-case-phi/lib/python3.12/site-packages/numpy/lib/nanfunctions.py:1879: RuntimeWarning: Degrees of freedom <= 0 for slice.\n",
      "  var = nanvar(a, axis=axis, dtype=dtype, out=out, ddof=ddof,\n"
     ]
    },
    {
     "data": {
      "text/plain": [
       "'countrycube_bio.nc'"
      ]
     },
     "execution_count": 23,
     "metadata": {},
     "output_type": "execute_result"
    }
   ],
   "source": [
    "#Detrend and unit variance\n",
    "def detrend(x):\n",
    "    return (x-x.mean(dim='time'))/x.std(dim='time')\n",
    "team_store.write_data(detrend(atm_countrycube), 'countrycube_atm.nc')\n",
    "team_store.write_data(detrend(bio_countrycube), 'countrycube_bio.nc')"
   ]
  },
  {
   "cell_type": "code",
   "execution_count": 24,
   "id": "0d8d8e11-f530-49ff-ac41-86b018af8452",
   "metadata": {
    "tags": []
   },
   "outputs": [
    {
     "data": {
      "text/plain": [
       "['countrycube_atm.nc',\n",
       " 'countrycube_bio.nc',\n",
       " 'ESACCI-L4_GHRSST-SST-GMPE-GLOB_CDR2.0-1981-2016-v02.0-fv01.0.rechunked.zarr',\n",
       " 'LC-1x720x1440-0.25deg-2.0.0-v1.zarr',\n",
       " 'LC-1x720x1440-0.25deg-2.0.0-v2.zarr',\n",
       " 'SST.levels',\n",
       " 'SeasFireCube-8D-0.25deg-1x720x1440-3.0.0.zarr',\n",
       " 'amazonas_v8.zarr',\n",
       " 'amazonas_v9.zarr',\n",
       " 'analysed_sst.zarr',\n",
       " 'analysed_sst_2.zarr',\n",
       " 'analysed_sst_3.zarr',\n",
       " 'analysed_sst_4.zarr',\n",
       " 'cmems_sst_v1.zarr',\n",
       " 'cmems_sst_v2.zarr',\n",
       " 'esa-cci-permafrost-1x1151x1641-0.1.0.zarr',\n",
       " 'esa-cci-permafrost-1x1151x1641-0.4.0.zarr',\n",
       " 'esa-cci-permafrost-1x1151x1641-0.5.0.zarr',\n",
       " 'esa-cci-permafrost-1x1151x1641-0.6.0.zarr',\n",
       " 'esa-cci-permafrost-1x1151x1641-0.7.0.zarr',\n",
       " 'esa-cci-permafrost-1x1151x1641-0.8.0.zarr',\n",
       " 'esa-cci-permafrost-1x1151x1641-1.0.0.zarr',\n",
       " 'esa_gda-health_pakistan_ERA5_precipitation_and_temperature_testdata.zarr',\n",
       " 'noise_trajectory.zarr',\n",
       " 's2_ndvi_lower_saxony_10D.zarr']"
      ]
     },
     "execution_count": 24,
     "metadata": {},
     "output_type": "execute_result"
    }
   ],
   "source": [
    "team_store.list_data_ids()"
   ]
  },
  {
   "cell_type": "markdown",
   "id": "935d5010-413e-4088-922e-e48cf36e57d8",
   "metadata": {},
   "source": [
    "## Step 2 Computing MCCA together with socioeconnomic indices"
   ]
  },
  {
   "cell_type": "markdown",
   "id": "64fb8c65-813c-4bcd-a6a9-0057c80a40c9",
   "metadata": {},
   "source": [
    "In this part of the notebook the actual analysis. As a first step we merge the aggregated esdc data cubes together with the WDI inidcators into a single large dataframe by matching the ISO3 country name indicators."
   ]
  },
  {
   "cell_type": "code",
   "execution_count": 25,
   "id": "81251ddb-5512-4c23-81e3-f52c42f649e7",
   "metadata": {
    "tags": []
   },
   "outputs": [],
   "source": [
    "from sklearn.cross_decomposition import CCA\n",
    "import pandas as pd\n",
    "import numpy as np\n",
    "import xarray as xr"
   ]
  },
  {
   "cell_type": "code",
   "execution_count": 26,
   "id": "d96f9f83-e286-4ad0-9ee2-57472e51aada",
   "metadata": {
    "tags": []
   },
   "outputs": [],
   "source": [
    "atm_countrycube = team_store.open_data('countrycube_atm.nc')\n",
    "bio_countrycube = team_store.open_data('countrycube_bio.nc')\n",
    "wdi_data = pd.read_csv('~/.shared/deepesdl/notebooks/science-cases/PHI/WDI_2003_2022_gapfilled_mask0.7.csv',index_col=('Country Code','year'))"
   ]
  },
  {
   "cell_type": "code",
   "execution_count": 27,
   "id": "7121bf6c-9482-40be-8b1b-3707aeffabe7",
   "metadata": {
    "tags": []
   },
   "outputs": [
    {
     "data": {
      "text/html": [
       "<div>\n",
       "<style scoped>\n",
       "    .dataframe tbody tr th:only-of-type {\n",
       "        vertical-align: middle;\n",
       "    }\n",
       "\n",
       "    .dataframe tbody tr th {\n",
       "        vertical-align: top;\n",
       "    }\n",
       "\n",
       "    .dataframe thead th {\n",
       "        text-align: right;\n",
       "    }\n",
       "</style>\n",
       "<table border=\"1\" class=\"dataframe\">\n",
       "  <thead>\n",
       "    <tr style=\"text-align: right;\">\n",
       "      <th></th>\n",
       "      <th></th>\n",
       "      <th>EG.CFT.ACCS.ZS</th>\n",
       "      <th>EG.CFT.ACCS.RU.ZS</th>\n",
       "      <th>EG.CFT.ACCS.UR.ZS</th>\n",
       "      <th>EG.ELC.ACCS.ZS</th>\n",
       "      <th>EG.ELC.ACCS.RU.ZS</th>\n",
       "      <th>EG.ELC.ACCS.UR.ZS</th>\n",
       "      <th>SE.PRM.TENR</th>\n",
       "      <th>SE.PRM.TENR.FE</th>\n",
       "      <th>SE.PRM.TENR.MA</th>\n",
       "      <th>NY.ADJ.NNTY.KD.ZG</th>\n",
       "      <th>...</th>\n",
       "      <th>VA.STD.ERR</th>\n",
       "      <th>SL.EMP.VULN.FE.ZS</th>\n",
       "      <th>SL.EMP.VULN.MA.ZS</th>\n",
       "      <th>SL.EMP.VULN.ZS</th>\n",
       "      <th>SL.EMP.WORK.FE.ZS</th>\n",
       "      <th>SL.EMP.WORK.MA.ZS</th>\n",
       "      <th>SL.EMP.WORK.ZS</th>\n",
       "      <th>ER.GDP.FWTL.M3.KD</th>\n",
       "      <th>SG.LAW.INDX</th>\n",
       "      <th>SH.DYN.AIDS.FE.ZS</th>\n",
       "    </tr>\n",
       "    <tr>\n",
       "      <th>Country Code</th>\n",
       "      <th>year</th>\n",
       "      <th></th>\n",
       "      <th></th>\n",
       "      <th></th>\n",
       "      <th></th>\n",
       "      <th></th>\n",
       "      <th></th>\n",
       "      <th></th>\n",
       "      <th></th>\n",
       "      <th></th>\n",
       "      <th></th>\n",
       "      <th></th>\n",
       "      <th></th>\n",
       "      <th></th>\n",
       "      <th></th>\n",
       "      <th></th>\n",
       "      <th></th>\n",
       "      <th></th>\n",
       "      <th></th>\n",
       "      <th></th>\n",
       "      <th></th>\n",
       "      <th></th>\n",
       "    </tr>\n",
       "  </thead>\n",
       "  <tbody>\n",
       "    <tr>\n",
       "      <th>AFG</th>\n",
       "      <th>2003</th>\n",
       "      <td>-1.370957</td>\n",
       "      <td>-1.253621</td>\n",
       "      <td>-0.831503</td>\n",
       "      <td>-2.045394</td>\n",
       "      <td>-2.032765</td>\n",
       "      <td>-0.642633</td>\n",
       "      <td>-1.515060</td>\n",
       "      <td>-2.311958</td>\n",
       "      <td>-0.795809</td>\n",
       "      <td>-0.014570</td>\n",
       "      <td>...</td>\n",
       "      <td>1.673806</td>\n",
       "      <td>1.739524</td>\n",
       "      <td>2.098219</td>\n",
       "      <td>1.859170</td>\n",
       "      <td>-1.704699</td>\n",
       "      <td>-2.021793</td>\n",
       "      <td>-1.802788</td>\n",
       "      <td>-0.435048</td>\n",
       "      <td>-2.384321</td>\n",
       "      <td>-0.635867</td>\n",
       "    </tr>\n",
       "    <tr>\n",
       "      <th>ALB</th>\n",
       "      <th>2003</th>\n",
       "      <td>-0.437147</td>\n",
       "      <td>-0.714350</td>\n",
       "      <td>0.019330</td>\n",
       "      <td>0.677375</td>\n",
       "      <td>0.738880</td>\n",
       "      <td>0.388047</td>\n",
       "      <td>0.058993</td>\n",
       "      <td>0.337843</td>\n",
       "      <td>0.223829</td>\n",
       "      <td>0.076049</td>\n",
       "      <td>...</td>\n",
       "      <td>0.600778</td>\n",
       "      <td>0.503721</td>\n",
       "      <td>0.761108</td>\n",
       "      <td>0.640699</td>\n",
       "      <td>-0.482775</td>\n",
       "      <td>-0.832274</td>\n",
       "      <td>-0.665146</td>\n",
       "      <td>-0.406864</td>\n",
       "      <td>0.370755</td>\n",
       "      <td>-0.856260</td>\n",
       "    </tr>\n",
       "    <tr>\n",
       "      <th>DZA</th>\n",
       "      <th>2003</th>\n",
       "      <td>0.877862</td>\n",
       "      <td>0.941143</td>\n",
       "      <td>0.755413</td>\n",
       "      <td>0.651290</td>\n",
       "      <td>0.665681</td>\n",
       "      <td>0.522615</td>\n",
       "      <td>0.292921</td>\n",
       "      <td>0.412111</td>\n",
       "      <td>0.589842</td>\n",
       "      <td>0.204813</td>\n",
       "      <td>...</td>\n",
       "      <td>0.321565</td>\n",
       "      <td>-0.311775</td>\n",
       "      <td>-0.353906</td>\n",
       "      <td>-0.367896</td>\n",
       "      <td>0.315413</td>\n",
       "      <td>0.271737</td>\n",
       "      <td>0.282586</td>\n",
       "      <td>-0.315912</td>\n",
       "      <td>-1.611556</td>\n",
       "      <td>0.294681</td>\n",
       "    </tr>\n",
       "    <tr>\n",
       "      <th>AGO</th>\n",
       "      <th>2003</th>\n",
       "      <td>-0.565066</td>\n",
       "      <td>-1.128812</td>\n",
       "      <td>0.173264</td>\n",
       "      <td>-1.761520</td>\n",
       "      <td>-2.029211</td>\n",
       "      <td>-2.157139</td>\n",
       "      <td>-2.259912</td>\n",
       "      <td>-2.215257</td>\n",
       "      <td>-1.655678</td>\n",
       "      <td>0.236478</td>\n",
       "      <td>...</td>\n",
       "      <td>0.321565</td>\n",
       "      <td>1.016544</td>\n",
       "      <td>0.301361</td>\n",
       "      <td>0.732627</td>\n",
       "      <td>-1.050525</td>\n",
       "      <td>-0.364562</td>\n",
       "      <td>-0.778436</td>\n",
       "      <td>-0.073212</td>\n",
       "      <td>-0.435609</td>\n",
       "      <td>1.506842</td>\n",
       "    </tr>\n",
       "    <tr>\n",
       "      <th>ATG</th>\n",
       "      <th>2003</th>\n",
       "      <td>0.931588</td>\n",
       "      <td>1.056533</td>\n",
       "      <td>0.758211</td>\n",
       "      <td>0.626143</td>\n",
       "      <td>0.652954</td>\n",
       "      <td>0.554588</td>\n",
       "      <td>0.157915</td>\n",
       "      <td>0.082327</td>\n",
       "      <td>0.034531</td>\n",
       "      <td>0.394843</td>\n",
       "      <td>...</td>\n",
       "      <td>3.347341</td>\n",
       "      <td>-0.759417</td>\n",
       "      <td>-0.598588</td>\n",
       "      <td>-0.666694</td>\n",
       "      <td>0.777225</td>\n",
       "      <td>0.615010</td>\n",
       "      <td>0.684710</td>\n",
       "      <td>1.146915</td>\n",
       "      <td>-0.234018</td>\n",
       "      <td>0.431255</td>\n",
       "    </tr>\n",
       "    <tr>\n",
       "      <th>...</th>\n",
       "      <th>...</th>\n",
       "      <td>...</td>\n",
       "      <td>...</td>\n",
       "      <td>...</td>\n",
       "      <td>...</td>\n",
       "      <td>...</td>\n",
       "      <td>...</td>\n",
       "      <td>...</td>\n",
       "      <td>...</td>\n",
       "      <td>...</td>\n",
       "      <td>...</td>\n",
       "      <td>...</td>\n",
       "      <td>...</td>\n",
       "      <td>...</td>\n",
       "      <td>...</td>\n",
       "      <td>...</td>\n",
       "      <td>...</td>\n",
       "      <td>...</td>\n",
       "      <td>...</td>\n",
       "      <td>...</td>\n",
       "      <td>...</td>\n",
       "      <td>...</td>\n",
       "    </tr>\n",
       "    <tr>\n",
       "      <th>VNM</th>\n",
       "      <th>2022</th>\n",
       "      <td>0.014173</td>\n",
       "      <td>-0.010199</td>\n",
       "      <td>0.076418</td>\n",
       "      <td>0.681262</td>\n",
       "      <td>0.731855</td>\n",
       "      <td>0.829491</td>\n",
       "      <td>1.496409</td>\n",
       "      <td>1.244598</td>\n",
       "      <td>1.304254</td>\n",
       "      <td>-0.068350</td>\n",
       "      <td>...</td>\n",
       "      <td>-0.529469</td>\n",
       "      <td>0.349534</td>\n",
       "      <td>0.414757</td>\n",
       "      <td>0.428930</td>\n",
       "      <td>-0.364406</td>\n",
       "      <td>-0.442677</td>\n",
       "      <td>-0.444494</td>\n",
       "      <td>-0.545674</td>\n",
       "      <td>0.941929</td>\n",
       "      <td>-0.436254</td>\n",
       "    </tr>\n",
       "    <tr>\n",
       "      <th>PSE</th>\n",
       "      <th>2022</th>\n",
       "      <td>0.506919</td>\n",
       "      <td>0.201387</td>\n",
       "      <td>0.756930</td>\n",
       "      <td>1.039188</td>\n",
       "      <td>0.992664</td>\n",
       "      <td>0.991992</td>\n",
       "      <td>0.057431</td>\n",
       "      <td>0.052956</td>\n",
       "      <td>-0.029367</td>\n",
       "      <td>-0.297910</td>\n",
       "      <td>...</td>\n",
       "      <td>0.363201</td>\n",
       "      <td>-0.676908</td>\n",
       "      <td>-0.801595</td>\n",
       "      <td>-0.776491</td>\n",
       "      <td>0.682158</td>\n",
       "      <td>0.756525</td>\n",
       "      <td>0.721833</td>\n",
       "      <td>-0.497033</td>\n",
       "      <td>-2.384321</td>\n",
       "      <td>-0.511382</td>\n",
       "    </tr>\n",
       "    <tr>\n",
       "      <th>YEM</th>\n",
       "      <th>2022</th>\n",
       "      <td>-0.565611</td>\n",
       "      <td>-0.540403</td>\n",
       "      <td>-0.418008</td>\n",
       "      <td>-0.341460</td>\n",
       "      <td>-0.340948</td>\n",
       "      <td>-0.317355</td>\n",
       "      <td>-1.403651</td>\n",
       "      <td>-1.567666</td>\n",
       "      <td>-1.410420</td>\n",
       "      <td>-0.063294</td>\n",
       "      <td>...</td>\n",
       "      <td>-0.274073</td>\n",
       "      <td>0.488380</td>\n",
       "      <td>0.414499</td>\n",
       "      <td>0.390357</td>\n",
       "      <td>-0.469442</td>\n",
       "      <td>-0.427279</td>\n",
       "      <td>-0.416500</td>\n",
       "      <td>-0.379340</td>\n",
       "      <td>-2.350722</td>\n",
       "      <td>-0.006176</td>\n",
       "    </tr>\n",
       "    <tr>\n",
       "      <th>ZMB</th>\n",
       "      <th>2022</th>\n",
       "      <td>-0.893239</td>\n",
       "      <td>-0.945206</td>\n",
       "      <td>-0.871440</td>\n",
       "      <td>-1.127931</td>\n",
       "      <td>-1.345178</td>\n",
       "      <td>-0.899529</td>\n",
       "      <td>-0.384512</td>\n",
       "      <td>-0.172336</td>\n",
       "      <td>-0.382753</td>\n",
       "      <td>0.033399</td>\n",
       "      <td>...</td>\n",
       "      <td>-0.687424</td>\n",
       "      <td>0.965749</td>\n",
       "      <td>0.784881</td>\n",
       "      <td>0.904240</td>\n",
       "      <td>-0.960678</td>\n",
       "      <td>-0.769184</td>\n",
       "      <td>-0.892840</td>\n",
       "      <td>0.238457</td>\n",
       "      <td>0.572346</td>\n",
       "      <td>1.283432</td>\n",
       "    </tr>\n",
       "    <tr>\n",
       "      <th>ZWE</th>\n",
       "      <th>2022</th>\n",
       "      <td>-0.602208</td>\n",
       "      <td>-0.863152</td>\n",
       "      <td>0.040668</td>\n",
       "      <td>-0.783166</td>\n",
       "      <td>-0.898180</td>\n",
       "      <td>-0.573887</td>\n",
       "      <td>0.554452</td>\n",
       "      <td>0.790359</td>\n",
       "      <td>0.022400</td>\n",
       "      <td>2.424629</td>\n",
       "      <td>...</td>\n",
       "      <td>-0.694126</td>\n",
       "      <td>0.579537</td>\n",
       "      <td>0.246313</td>\n",
       "      <td>0.478519</td>\n",
       "      <td>-0.599062</td>\n",
       "      <td>-0.260721</td>\n",
       "      <td>-0.493977</td>\n",
       "      <td>0.379839</td>\n",
       "      <td>0.874732</td>\n",
       "      <td>1.518501</td>\n",
       "    </tr>\n",
       "  </tbody>\n",
       "</table>\n",
       "<p>3760 rows × 749 columns</p>\n",
       "</div>"
      ],
      "text/plain": [
       "                   EG.CFT.ACCS.ZS  EG.CFT.ACCS.RU.ZS  EG.CFT.ACCS.UR.ZS  \\\n",
       "Country Code year                                                         \n",
       "AFG          2003       -1.370957          -1.253621          -0.831503   \n",
       "ALB          2003       -0.437147          -0.714350           0.019330   \n",
       "DZA          2003        0.877862           0.941143           0.755413   \n",
       "AGO          2003       -0.565066          -1.128812           0.173264   \n",
       "ATG          2003        0.931588           1.056533           0.758211   \n",
       "...                           ...                ...                ...   \n",
       "VNM          2022        0.014173          -0.010199           0.076418   \n",
       "PSE          2022        0.506919           0.201387           0.756930   \n",
       "YEM          2022       -0.565611          -0.540403          -0.418008   \n",
       "ZMB          2022       -0.893239          -0.945206          -0.871440   \n",
       "ZWE          2022       -0.602208          -0.863152           0.040668   \n",
       "\n",
       "                   EG.ELC.ACCS.ZS  EG.ELC.ACCS.RU.ZS  EG.ELC.ACCS.UR.ZS  \\\n",
       "Country Code year                                                         \n",
       "AFG          2003       -2.045394          -2.032765          -0.642633   \n",
       "ALB          2003        0.677375           0.738880           0.388047   \n",
       "DZA          2003        0.651290           0.665681           0.522615   \n",
       "AGO          2003       -1.761520          -2.029211          -2.157139   \n",
       "ATG          2003        0.626143           0.652954           0.554588   \n",
       "...                           ...                ...                ...   \n",
       "VNM          2022        0.681262           0.731855           0.829491   \n",
       "PSE          2022        1.039188           0.992664           0.991992   \n",
       "YEM          2022       -0.341460          -0.340948          -0.317355   \n",
       "ZMB          2022       -1.127931          -1.345178          -0.899529   \n",
       "ZWE          2022       -0.783166          -0.898180          -0.573887   \n",
       "\n",
       "                   SE.PRM.TENR  SE.PRM.TENR.FE  SE.PRM.TENR.MA  \\\n",
       "Country Code year                                                \n",
       "AFG          2003    -1.515060       -2.311958       -0.795809   \n",
       "ALB          2003     0.058993        0.337843        0.223829   \n",
       "DZA          2003     0.292921        0.412111        0.589842   \n",
       "AGO          2003    -2.259912       -2.215257       -1.655678   \n",
       "ATG          2003     0.157915        0.082327        0.034531   \n",
       "...                        ...             ...             ...   \n",
       "VNM          2022     1.496409        1.244598        1.304254   \n",
       "PSE          2022     0.057431        0.052956       -0.029367   \n",
       "YEM          2022    -1.403651       -1.567666       -1.410420   \n",
       "ZMB          2022    -0.384512       -0.172336       -0.382753   \n",
       "ZWE          2022     0.554452        0.790359        0.022400   \n",
       "\n",
       "                   NY.ADJ.NNTY.KD.ZG  ...  VA.STD.ERR  SL.EMP.VULN.FE.ZS  \\\n",
       "Country Code year                     ...                                  \n",
       "AFG          2003          -0.014570  ...    1.673806           1.739524   \n",
       "ALB          2003           0.076049  ...    0.600778           0.503721   \n",
       "DZA          2003           0.204813  ...    0.321565          -0.311775   \n",
       "AGO          2003           0.236478  ...    0.321565           1.016544   \n",
       "ATG          2003           0.394843  ...    3.347341          -0.759417   \n",
       "...                              ...  ...         ...                ...   \n",
       "VNM          2022          -0.068350  ...   -0.529469           0.349534   \n",
       "PSE          2022          -0.297910  ...    0.363201          -0.676908   \n",
       "YEM          2022          -0.063294  ...   -0.274073           0.488380   \n",
       "ZMB          2022           0.033399  ...   -0.687424           0.965749   \n",
       "ZWE          2022           2.424629  ...   -0.694126           0.579537   \n",
       "\n",
       "                   SL.EMP.VULN.MA.ZS  SL.EMP.VULN.ZS  SL.EMP.WORK.FE.ZS  \\\n",
       "Country Code year                                                         \n",
       "AFG          2003           2.098219        1.859170          -1.704699   \n",
       "ALB          2003           0.761108        0.640699          -0.482775   \n",
       "DZA          2003          -0.353906       -0.367896           0.315413   \n",
       "AGO          2003           0.301361        0.732627          -1.050525   \n",
       "ATG          2003          -0.598588       -0.666694           0.777225   \n",
       "...                              ...             ...                ...   \n",
       "VNM          2022           0.414757        0.428930          -0.364406   \n",
       "PSE          2022          -0.801595       -0.776491           0.682158   \n",
       "YEM          2022           0.414499        0.390357          -0.469442   \n",
       "ZMB          2022           0.784881        0.904240          -0.960678   \n",
       "ZWE          2022           0.246313        0.478519          -0.599062   \n",
       "\n",
       "                   SL.EMP.WORK.MA.ZS  SL.EMP.WORK.ZS  ER.GDP.FWTL.M3.KD  \\\n",
       "Country Code year                                                         \n",
       "AFG          2003          -2.021793       -1.802788          -0.435048   \n",
       "ALB          2003          -0.832274       -0.665146          -0.406864   \n",
       "DZA          2003           0.271737        0.282586          -0.315912   \n",
       "AGO          2003          -0.364562       -0.778436          -0.073212   \n",
       "ATG          2003           0.615010        0.684710           1.146915   \n",
       "...                              ...             ...                ...   \n",
       "VNM          2022          -0.442677       -0.444494          -0.545674   \n",
       "PSE          2022           0.756525        0.721833          -0.497033   \n",
       "YEM          2022          -0.427279       -0.416500          -0.379340   \n",
       "ZMB          2022          -0.769184       -0.892840           0.238457   \n",
       "ZWE          2022          -0.260721       -0.493977           0.379839   \n",
       "\n",
       "                   SG.LAW.INDX  SH.DYN.AIDS.FE.ZS  \n",
       "Country Code year                                  \n",
       "AFG          2003    -2.384321          -0.635867  \n",
       "ALB          2003     0.370755          -0.856260  \n",
       "DZA          2003    -1.611556           0.294681  \n",
       "AGO          2003    -0.435609           1.506842  \n",
       "ATG          2003    -0.234018           0.431255  \n",
       "...                        ...                ...  \n",
       "VNM          2022     0.941929          -0.436254  \n",
       "PSE          2022    -2.384321          -0.511382  \n",
       "YEM          2022    -2.350722          -0.006176  \n",
       "ZMB          2022     0.572346           1.283432  \n",
       "ZWE          2022     0.874732           1.518501  \n",
       "\n",
       "[3760 rows x 749 columns]"
      ]
     },
     "execution_count": 27,
     "metadata": {},
     "output_type": "execute_result"
    }
   ],
   "source": [
    "wdi_data"
   ]
  },
  {
   "cell_type": "code",
   "execution_count": 28,
   "id": "1ce0b427-297f-4511-9d3b-3539ad47cd69",
   "metadata": {
    "tags": []
   },
   "outputs": [],
   "source": [
    "#Identify country codes present both in countrycubes and in WDI\n",
    "countries_overlap = np.intersect1d(np.array([i[0] for i in wdi_data.index]),atm_countrycube.countries.values)"
   ]
  },
  {
   "cell_type": "code",
   "execution_count": 29,
   "id": "54b4428d-4f94-45e3-8c42-d842cf97a0dc",
   "metadata": {
    "tags": []
   },
   "outputs": [],
   "source": [
    "wdi_df = wdi_data.loc[countries_overlap].query(\"year < 2022\").dropna(axis=1)\n",
    "atm_df = atm_countrycube.to_dataframe().loc[countries_overlap]\n",
    "bio_df = bio_countrycube.to_dataframe().loc[countries_overlap]"
   ]
  },
  {
   "cell_type": "code",
   "execution_count": 30,
   "id": "bc40f760-7a65-462c-b9e9-f47c42e39419",
   "metadata": {
    "tags": []
   },
   "outputs": [
    {
     "data": {
      "text/html": [
       "<div>\n",
       "<style scoped>\n",
       "    .dataframe tbody tr th:only-of-type {\n",
       "        vertical-align: middle;\n",
       "    }\n",
       "\n",
       "    .dataframe tbody tr th {\n",
       "        vertical-align: top;\n",
       "    }\n",
       "\n",
       "    .dataframe thead th {\n",
       "        text-align: right;\n",
       "    }\n",
       "</style>\n",
       "<table border=\"1\" class=\"dataframe\">\n",
       "  <thead>\n",
       "    <tr style=\"text-align: right;\">\n",
       "      <th></th>\n",
       "      <th></th>\n",
       "      <th>EG.CFT.ACCS.ZS</th>\n",
       "      <th>EG.CFT.ACCS.RU.ZS</th>\n",
       "      <th>EG.CFT.ACCS.UR.ZS</th>\n",
       "      <th>EG.ELC.ACCS.ZS</th>\n",
       "      <th>EG.ELC.ACCS.RU.ZS</th>\n",
       "      <th>EG.ELC.ACCS.UR.ZS</th>\n",
       "      <th>SE.PRM.TENR</th>\n",
       "      <th>SE.PRM.TENR.FE</th>\n",
       "      <th>SE.PRM.TENR.MA</th>\n",
       "      <th>NY.ADJ.NNTY.KD.ZG</th>\n",
       "      <th>...</th>\n",
       "      <th>min_air_temperature_2m</th>\n",
       "      <th>potential_evaporation</th>\n",
       "      <th>radiation_era5</th>\n",
       "      <th>evaporation</th>\n",
       "      <th>gross_primary_productivity</th>\n",
       "      <th>kndvi</th>\n",
       "      <th>root_moisture</th>\n",
       "      <th>sif_gosif</th>\n",
       "      <th>sm</th>\n",
       "      <th>terrestrial_ecosystem_respiration</th>\n",
       "    </tr>\n",
       "  </thead>\n",
       "  <tbody>\n",
       "    <tr>\n",
       "      <th rowspan=\"5\" valign=\"top\">AFG</th>\n",
       "      <th>2003</th>\n",
       "      <td>-1.370957</td>\n",
       "      <td>-1.253621</td>\n",
       "      <td>-0.831503</td>\n",
       "      <td>-2.045394</td>\n",
       "      <td>-2.032765</td>\n",
       "      <td>-0.642633</td>\n",
       "      <td>-1.515060</td>\n",
       "      <td>-2.311958</td>\n",
       "      <td>-0.795809</td>\n",
       "      <td>-0.014570</td>\n",
       "      <td>...</td>\n",
       "      <td>-1.475445</td>\n",
       "      <td>-0.626484</td>\n",
       "      <td>-0.188492</td>\n",
       "      <td>0.019062</td>\n",
       "      <td>0.315682</td>\n",
       "      <td>0.551539</td>\n",
       "      <td>0.047335</td>\n",
       "      <td>0.237246</td>\n",
       "      <td>-0.319368</td>\n",
       "      <td>-0.409104</td>\n",
       "    </tr>\n",
       "    <tr>\n",
       "      <th>2004</th>\n",
       "      <td>-1.342815</td>\n",
       "      <td>-1.244202</td>\n",
       "      <td>-0.713954</td>\n",
       "      <td>-1.881414</td>\n",
       "      <td>-1.870992</td>\n",
       "      <td>-0.570373</td>\n",
       "      <td>-1.981845</td>\n",
       "      <td>-2.791516</td>\n",
       "      <td>-0.986661</td>\n",
       "      <td>0.167548</td>\n",
       "      <td>...</td>\n",
       "      <td>-0.227529</td>\n",
       "      <td>0.477794</td>\n",
       "      <td>0.709786</td>\n",
       "      <td>-1.479052</td>\n",
       "      <td>-1.586688</td>\n",
       "      <td>-0.653485</td>\n",
       "      <td>-0.972850</td>\n",
       "      <td>-1.356066</td>\n",
       "      <td>-1.516119</td>\n",
       "      <td>-1.493229</td>\n",
       "    </tr>\n",
       "    <tr>\n",
       "      <th>2005</th>\n",
       "      <td>-1.306998</td>\n",
       "      <td>-1.234782</td>\n",
       "      <td>-0.593606</td>\n",
       "      <td>-1.717011</td>\n",
       "      <td>-1.658229</td>\n",
       "      <td>-0.827528</td>\n",
       "      <td>-1.996191</td>\n",
       "      <td>-2.527603</td>\n",
       "      <td>-1.158617</td>\n",
       "      <td>0.197484</td>\n",
       "      <td>...</td>\n",
       "      <td>-1.135158</td>\n",
       "      <td>-0.928594</td>\n",
       "      <td>-0.839212</td>\n",
       "      <td>-0.197261</td>\n",
       "      <td>-0.007116</td>\n",
       "      <td>0.357319</td>\n",
       "      <td>0.648013</td>\n",
       "      <td>0.236036</td>\n",
       "      <td>0.057192</td>\n",
       "      <td>-0.951609</td>\n",
       "    </tr>\n",
       "    <tr>\n",
       "      <th>2006</th>\n",
       "      <td>-1.271180</td>\n",
       "      <td>-1.220653</td>\n",
       "      <td>-0.481654</td>\n",
       "      <td>-1.551955</td>\n",
       "      <td>-1.547522</td>\n",
       "      <td>-0.422510</td>\n",
       "      <td>-1.541559</td>\n",
       "      <td>-2.080228</td>\n",
       "      <td>-0.808782</td>\n",
       "      <td>0.077743</td>\n",
       "      <td>...</td>\n",
       "      <td>0.851772</td>\n",
       "      <td>0.657814</td>\n",
       "      <td>0.016594</td>\n",
       "      <td>-1.392693</td>\n",
       "      <td>-1.127309</td>\n",
       "      <td>-1.137097</td>\n",
       "      <td>-0.929048</td>\n",
       "      <td>-0.939078</td>\n",
       "      <td>-0.828093</td>\n",
       "      <td>-0.689536</td>\n",
       "    </tr>\n",
       "    <tr>\n",
       "      <th>2007</th>\n",
       "      <td>-1.235363</td>\n",
       "      <td>-1.208878</td>\n",
       "      <td>-0.372501</td>\n",
       "      <td>-1.386195</td>\n",
       "      <td>-1.384073</td>\n",
       "      <td>-0.346540</td>\n",
       "      <td>-1.842168</td>\n",
       "      <td>-2.338078</td>\n",
       "      <td>-1.073416</td>\n",
       "      <td>0.767670</td>\n",
       "      <td>...</td>\n",
       "      <td>-0.513012</td>\n",
       "      <td>0.394774</td>\n",
       "      <td>0.032246</td>\n",
       "      <td>0.034863</td>\n",
       "      <td>0.124563</td>\n",
       "      <td>0.419393</td>\n",
       "      <td>-0.031020</td>\n",
       "      <td>0.227459</td>\n",
       "      <td>-0.593510</td>\n",
       "      <td>0.137991</td>\n",
       "    </tr>\n",
       "    <tr>\n",
       "      <th>...</th>\n",
       "      <th>...</th>\n",
       "      <td>...</td>\n",
       "      <td>...</td>\n",
       "      <td>...</td>\n",
       "      <td>...</td>\n",
       "      <td>...</td>\n",
       "      <td>...</td>\n",
       "      <td>...</td>\n",
       "      <td>...</td>\n",
       "      <td>...</td>\n",
       "      <td>...</td>\n",
       "      <td>...</td>\n",
       "      <td>...</td>\n",
       "      <td>...</td>\n",
       "      <td>...</td>\n",
       "      <td>...</td>\n",
       "      <td>...</td>\n",
       "      <td>...</td>\n",
       "      <td>...</td>\n",
       "      <td>...</td>\n",
       "      <td>...</td>\n",
       "      <td>...</td>\n",
       "    </tr>\n",
       "    <tr>\n",
       "      <th rowspan=\"5\" valign=\"top\">ZWE</th>\n",
       "      <th>2016</th>\n",
       "      <td>-0.859280</td>\n",
       "      <td>-1.157071</td>\n",
       "      <td>0.178861</td>\n",
       "      <td>-1.249892</td>\n",
       "      <td>-1.471589</td>\n",
       "      <td>-0.215809</td>\n",
       "      <td>-0.000649</td>\n",
       "      <td>0.002839</td>\n",
       "      <td>-0.034695</td>\n",
       "      <td>-0.131057</td>\n",
       "      <td>...</td>\n",
       "      <td>1.724522</td>\n",
       "      <td>1.130604</td>\n",
       "      <td>0.638819</td>\n",
       "      <td>-0.719131</td>\n",
       "      <td>-0.464557</td>\n",
       "      <td>-0.913610</td>\n",
       "      <td>-1.220360</td>\n",
       "      <td>-1.024803</td>\n",
       "      <td>-0.746050</td>\n",
       "      <td>-0.215390</td>\n",
       "    </tr>\n",
       "    <tr>\n",
       "      <th>2017</th>\n",
       "      <td>-0.864397</td>\n",
       "      <td>-1.154716</td>\n",
       "      <td>0.170465</td>\n",
       "      <td>-1.198647</td>\n",
       "      <td>-1.406508</td>\n",
       "      <td>-0.216847</td>\n",
       "      <td>0.104978</td>\n",
       "      <td>0.090151</td>\n",
       "      <td>0.019691</td>\n",
       "      <td>0.015720</td>\n",
       "      <td>...</td>\n",
       "      <td>-0.490266</td>\n",
       "      <td>-1.181224</td>\n",
       "      <td>-1.575181</td>\n",
       "      <td>1.547656</td>\n",
       "      <td>2.323141</td>\n",
       "      <td>2.308453</td>\n",
       "      <td>1.878520</td>\n",
       "      <td>2.313161</td>\n",
       "      <td>2.282044</td>\n",
       "      <td>2.448045</td>\n",
       "    </tr>\n",
       "    <tr>\n",
       "      <th>2018</th>\n",
       "      <td>-0.859280</td>\n",
       "      <td>-1.150006</td>\n",
       "      <td>0.164867</td>\n",
       "      <td>-1.150525</td>\n",
       "      <td>-1.346046</td>\n",
       "      <td>-0.218329</td>\n",
       "      <td>0.144295</td>\n",
       "      <td>0.121707</td>\n",
       "      <td>0.067325</td>\n",
       "      <td>-1.609957</td>\n",
       "      <td>...</td>\n",
       "      <td>0.653059</td>\n",
       "      <td>0.379604</td>\n",
       "      <td>0.372145</td>\n",
       "      <td>-0.265052</td>\n",
       "      <td>-0.287819</td>\n",
       "      <td>0.583212</td>\n",
       "      <td>-0.045531</td>\n",
       "      <td>0.213075</td>\n",
       "      <td>0.920651</td>\n",
       "      <td>-0.398405</td>\n",
       "    </tr>\n",
       "    <tr>\n",
       "      <th>2019</th>\n",
       "      <td>-0.854164</td>\n",
       "      <td>-1.142941</td>\n",
       "      <td>0.153672</td>\n",
       "      <td>-1.107124</td>\n",
       "      <td>-1.292074</td>\n",
       "      <td>-0.220105</td>\n",
       "      <td>-0.026285</td>\n",
       "      <td>0.128408</td>\n",
       "      <td>-0.144965</td>\n",
       "      <td>1.859286</td>\n",
       "      <td>...</td>\n",
       "      <td>1.346734</td>\n",
       "      <td>1.798219</td>\n",
       "      <td>1.772513</td>\n",
       "      <td>-1.592702</td>\n",
       "      <td>-1.159017</td>\n",
       "      <td>-1.065302</td>\n",
       "      <td>-1.655705</td>\n",
       "      <td>-0.804926</td>\n",
       "      <td>-0.934308</td>\n",
       "      <td>-1.175129</td>\n",
       "    </tr>\n",
       "    <tr>\n",
       "      <th>2020</th>\n",
       "      <td>-0.851605</td>\n",
       "      <td>-1.140586</td>\n",
       "      <td>0.153672</td>\n",
       "      <td>-0.901749</td>\n",
       "      <td>-1.043560</td>\n",
       "      <td>-0.203360</td>\n",
       "      <td>0.112703</td>\n",
       "      <td>0.385196</td>\n",
       "      <td>-0.018469</td>\n",
       "      <td>-0.682648</td>\n",
       "      <td>...</td>\n",
       "      <td>1.723340</td>\n",
       "      <td>-1.302509</td>\n",
       "      <td>-1.293263</td>\n",
       "      <td>-0.516729</td>\n",
       "      <td>-0.701725</td>\n",
       "      <td>-0.822507</td>\n",
       "      <td>-0.904580</td>\n",
       "      <td>-0.374283</td>\n",
       "      <td>-0.085077</td>\n",
       "      <td>-0.352174</td>\n",
       "    </tr>\n",
       "  </tbody>\n",
       "</table>\n",
       "<p>2876 rows × 762 columns</p>\n",
       "</div>"
      ],
      "text/plain": [
       "          EG.CFT.ACCS.ZS  EG.CFT.ACCS.RU.ZS  EG.CFT.ACCS.UR.ZS  \\\n",
       "AFG 2003       -1.370957          -1.253621          -0.831503   \n",
       "    2004       -1.342815          -1.244202          -0.713954   \n",
       "    2005       -1.306998          -1.234782          -0.593606   \n",
       "    2006       -1.271180          -1.220653          -0.481654   \n",
       "    2007       -1.235363          -1.208878          -0.372501   \n",
       "...                  ...                ...                ...   \n",
       "ZWE 2016       -0.859280          -1.157071           0.178861   \n",
       "    2017       -0.864397          -1.154716           0.170465   \n",
       "    2018       -0.859280          -1.150006           0.164867   \n",
       "    2019       -0.854164          -1.142941           0.153672   \n",
       "    2020       -0.851605          -1.140586           0.153672   \n",
       "\n",
       "          EG.ELC.ACCS.ZS  EG.ELC.ACCS.RU.ZS  EG.ELC.ACCS.UR.ZS  SE.PRM.TENR  \\\n",
       "AFG 2003       -2.045394          -2.032765          -0.642633    -1.515060   \n",
       "    2004       -1.881414          -1.870992          -0.570373    -1.981845   \n",
       "    2005       -1.717011          -1.658229          -0.827528    -1.996191   \n",
       "    2006       -1.551955          -1.547522          -0.422510    -1.541559   \n",
       "    2007       -1.386195          -1.384073          -0.346540    -1.842168   \n",
       "...                  ...                ...                ...          ...   \n",
       "ZWE 2016       -1.249892          -1.471589          -0.215809    -0.000649   \n",
       "    2017       -1.198647          -1.406508          -0.216847     0.104978   \n",
       "    2018       -1.150525          -1.346046          -0.218329     0.144295   \n",
       "    2019       -1.107124          -1.292074          -0.220105    -0.026285   \n",
       "    2020       -0.901749          -1.043560          -0.203360     0.112703   \n",
       "\n",
       "          SE.PRM.TENR.FE  SE.PRM.TENR.MA  NY.ADJ.NNTY.KD.ZG  ...  \\\n",
       "AFG 2003       -2.311958       -0.795809          -0.014570  ...   \n",
       "    2004       -2.791516       -0.986661           0.167548  ...   \n",
       "    2005       -2.527603       -1.158617           0.197484  ...   \n",
       "    2006       -2.080228       -0.808782           0.077743  ...   \n",
       "    2007       -2.338078       -1.073416           0.767670  ...   \n",
       "...                  ...             ...                ...  ...   \n",
       "ZWE 2016        0.002839       -0.034695          -0.131057  ...   \n",
       "    2017        0.090151        0.019691           0.015720  ...   \n",
       "    2018        0.121707        0.067325          -1.609957  ...   \n",
       "    2019        0.128408       -0.144965           1.859286  ...   \n",
       "    2020        0.385196       -0.018469          -0.682648  ...   \n",
       "\n",
       "          min_air_temperature_2m  potential_evaporation  radiation_era5  \\\n",
       "AFG 2003               -1.475445              -0.626484       -0.188492   \n",
       "    2004               -0.227529               0.477794        0.709786   \n",
       "    2005               -1.135158              -0.928594       -0.839212   \n",
       "    2006                0.851772               0.657814        0.016594   \n",
       "    2007               -0.513012               0.394774        0.032246   \n",
       "...                          ...                    ...             ...   \n",
       "ZWE 2016                1.724522               1.130604        0.638819   \n",
       "    2017               -0.490266              -1.181224       -1.575181   \n",
       "    2018                0.653059               0.379604        0.372145   \n",
       "    2019                1.346734               1.798219        1.772513   \n",
       "    2020                1.723340              -1.302509       -1.293263   \n",
       "\n",
       "          evaporation  gross_primary_productivity     kndvi  root_moisture  \\\n",
       "AFG 2003     0.019062                    0.315682  0.551539       0.047335   \n",
       "    2004    -1.479052                   -1.586688 -0.653485      -0.972850   \n",
       "    2005    -0.197261                   -0.007116  0.357319       0.648013   \n",
       "    2006    -1.392693                   -1.127309 -1.137097      -0.929048   \n",
       "    2007     0.034863                    0.124563  0.419393      -0.031020   \n",
       "...               ...                         ...       ...            ...   \n",
       "ZWE 2016    -0.719131                   -0.464557 -0.913610      -1.220360   \n",
       "    2017     1.547656                    2.323141  2.308453       1.878520   \n",
       "    2018    -0.265052                   -0.287819  0.583212      -0.045531   \n",
       "    2019    -1.592702                   -1.159017 -1.065302      -1.655705   \n",
       "    2020    -0.516729                   -0.701725 -0.822507      -0.904580   \n",
       "\n",
       "          sif_gosif        sm  terrestrial_ecosystem_respiration  \n",
       "AFG 2003   0.237246 -0.319368                          -0.409104  \n",
       "    2004  -1.356066 -1.516119                          -1.493229  \n",
       "    2005   0.236036  0.057192                          -0.951609  \n",
       "    2006  -0.939078 -0.828093                          -0.689536  \n",
       "    2007   0.227459 -0.593510                           0.137991  \n",
       "...             ...       ...                                ...  \n",
       "ZWE 2016  -1.024803 -0.746050                          -0.215390  \n",
       "    2017   2.313161  2.282044                           2.448045  \n",
       "    2018   0.213075  0.920651                          -0.398405  \n",
       "    2019  -0.804926 -0.934308                          -1.175129  \n",
       "    2020  -0.374283 -0.085077                          -0.352174  \n",
       "\n",
       "[2876 rows x 762 columns]"
      ]
     },
     "execution_count": 30,
     "metadata": {},
     "output_type": "execute_result"
    }
   ],
   "source": [
    "alldata = pd.concat((wdi_df,atm_df,bio_df),axis=1).dropna()\n",
    "alldata"
   ]
  },
  {
   "cell_type": "markdown",
   "id": "f4d58c11-e9d9-4b4f-afba-6570f7bc30b3",
   "metadata": {},
   "source": [
    "The table above is now a merged dataframe of worldbank socioeconomic indicators with data extracted from the esdc. We can use normal pandas data indexing rules to, for example we can extract a normalized annual time series of sif for the country of Italy:"
   ]
  },
  {
   "cell_type": "code",
   "execution_count": 31,
   "id": "9f909935-4dbd-49fe-9c5c-7d8dd06019cb",
   "metadata": {
    "tags": []
   },
   "outputs": [
    {
     "data": {
      "image/png": "[encoded data removed]",
      "text/plain": [
       "<Figure size 640x480 with 1 Axes>"
      ]
     },
     "metadata": {},
     "output_type": "display_data"
    }
   ],
   "source": [
    "alldata[['sif_gosif','kndvi','air_temperature_2m']].loc['ITA'].plot()\n",
    "plt.title(\"Normalized annual SIF, kndvi and Tair averaged over Italy\")\n",
    "plt.show()"
   ]
  },
  {
   "cell_type": "markdown",
   "id": "d8410e20-b039-430c-be32-6fa3ac7d8e92",
   "metadata": {},
   "source": [
    "As a next step we define a function that performs a Canonical Correlation analysis on different subsets of the dataset representing certain domains and therefore constructing principal components from the data that maximise the explained variance across the different domains. "
   ]
  },
  {
   "cell_type": "code",
   "execution_count": 32,
   "id": "07aed75a-f4f6-4be5-8e28-4fceeb08076e",
   "metadata": {
    "tags": []
   },
   "outputs": [],
   "source": [
    "def cca_subgroups(alldata, ncomp=1, **names):\n",
    "    n1,n2 = list(names.keys())\n",
    "    subset1 = names[n1]\n",
    "    subset2 = names[n2]\n",
    "    model = CCA(ncomp).fit(alldata[subset1],alldata[subset2])\n",
    "    tr1, tr2 = model.transform(alldata[subset1],alldata[subset2])\n",
    "    transformed1 = pd.DataFrame(tr1,index = alldata.index,columns=['{}_Comp{}'.format(n1,i+1) for i in range(ncomp)])\n",
    "    transformed2 = pd.DataFrame(tr2,index = alldata.index,columns=['{}_Comp{}'.format(n2,i+1) for i in range(ncomp)])\n",
    "    return model,pd.concat([transformed1,transformed2],axis=1)"
   ]
  },
  {
   "cell_type": "markdown",
   "id": "15eeab92-1036-4686-9e12-d26233fcae6c",
   "metadata": {},
   "source": [
    "We first apply the CCA on subsets of atmosphere an biosphere variables"
   ]
  },
  {
   "cell_type": "code",
   "execution_count": 33,
   "id": "da4cacce-1061-440c-9b73-aec6a6efb636",
   "metadata": {
    "tags": []
   },
   "outputs": [],
   "source": [
    "model, transformed = cca_subgroups(alldata,ncomp=2, atm=atm_var, bio=bio_var)"
   ]
  },
  {
   "cell_type": "markdown",
   "id": "c7cfc836-e52f-44a3-9157-ccd4360d2510",
   "metadata": {},
   "source": [
    "This results in a transformed dataframe where component 1 and 2 are computed both based on atmos[pheric and biospheric data:"
   ]
  },
  {
   "cell_type": "code",
   "execution_count": 34,
   "id": "1e08c8c2-7028-4a26-b8bd-0cc669b6659b",
   "metadata": {
    "tags": []
   },
   "outputs": [
    {
     "data": {
      "text/html": [
       "<div>\n",
       "<style scoped>\n",
       "    .dataframe tbody tr th:only-of-type {\n",
       "        vertical-align: middle;\n",
       "    }\n",
       "\n",
       "    .dataframe tbody tr th {\n",
       "        vertical-align: top;\n",
       "    }\n",
       "\n",
       "    .dataframe thead th {\n",
       "        text-align: right;\n",
       "    }\n",
       "</style>\n",
       "<table border=\"1\" class=\"dataframe\">\n",
       "  <thead>\n",
       "    <tr style=\"text-align: right;\">\n",
       "      <th></th>\n",
       "      <th></th>\n",
       "      <th>atm_Comp1</th>\n",
       "      <th>atm_Comp2</th>\n",
       "      <th>bio_Comp1</th>\n",
       "      <th>bio_Comp2</th>\n",
       "    </tr>\n",
       "  </thead>\n",
       "  <tbody>\n",
       "    <tr>\n",
       "      <th rowspan=\"5\" valign=\"top\">AFG</th>\n",
       "      <th>2003</th>\n",
       "      <td>0.085622</td>\n",
       "      <td>-1.030812</td>\n",
       "      <td>0.157922</td>\n",
       "      <td>-0.292160</td>\n",
       "    </tr>\n",
       "    <tr>\n",
       "      <th>2004</th>\n",
       "      <td>0.959350</td>\n",
       "      <td>0.034229</td>\n",
       "      <td>0.838714</td>\n",
       "      <td>-0.582942</td>\n",
       "    </tr>\n",
       "    <tr>\n",
       "      <th>2005</th>\n",
       "      <td>-1.055503</td>\n",
       "      <td>-0.785706</td>\n",
       "      <td>-0.491882</td>\n",
       "      <td>-0.707531</td>\n",
       "    </tr>\n",
       "    <tr>\n",
       "      <th>2006</th>\n",
       "      <td>-0.025981</td>\n",
       "      <td>0.857641</td>\n",
       "      <td>0.591726</td>\n",
       "      <td>-0.363832</td>\n",
       "    </tr>\n",
       "    <tr>\n",
       "      <th>2007</th>\n",
       "      <td>0.036199</td>\n",
       "      <td>0.277627</td>\n",
       "      <td>0.151489</td>\n",
       "      <td>0.135674</td>\n",
       "    </tr>\n",
       "    <tr>\n",
       "      <th>...</th>\n",
       "      <th>...</th>\n",
       "      <td>...</td>\n",
       "      <td>...</td>\n",
       "      <td>...</td>\n",
       "      <td>...</td>\n",
       "    </tr>\n",
       "    <tr>\n",
       "      <th rowspan=\"5\" valign=\"top\">ZWE</th>\n",
       "      <th>2016</th>\n",
       "      <td>0.713924</td>\n",
       "      <td>1.346705</td>\n",
       "      <td>1.139171</td>\n",
       "      <td>-0.025858</td>\n",
       "    </tr>\n",
       "    <tr>\n",
       "      <th>2017</th>\n",
       "      <td>-2.443722</td>\n",
       "      <td>-0.521449</td>\n",
       "      <td>-2.007304</td>\n",
       "      <td>0.567911</td>\n",
       "    </tr>\n",
       "    <tr>\n",
       "      <th>2018</th>\n",
       "      <td>0.643321</td>\n",
       "      <td>0.429425</td>\n",
       "      <td>-0.413124</td>\n",
       "      <td>-0.210140</td>\n",
       "    </tr>\n",
       "    <tr>\n",
       "      <th>2019</th>\n",
       "      <td>2.370890</td>\n",
       "      <td>1.370719</td>\n",
       "      <td>1.196972</td>\n",
       "      <td>-0.475497</td>\n",
       "    </tr>\n",
       "    <tr>\n",
       "      <th>2020</th>\n",
       "      <td>-1.426962</td>\n",
       "      <td>0.124987</td>\n",
       "      <td>0.570861</td>\n",
       "      <td>0.133499</td>\n",
       "    </tr>\n",
       "  </tbody>\n",
       "</table>\n",
       "<p>2876 rows × 4 columns</p>\n",
       "</div>"
      ],
      "text/plain": [
       "          atm_Comp1  atm_Comp2  bio_Comp1  bio_Comp2\n",
       "AFG 2003   0.085622  -1.030812   0.157922  -0.292160\n",
       "    2004   0.959350   0.034229   0.838714  -0.582942\n",
       "    2005  -1.055503  -0.785706  -0.491882  -0.707531\n",
       "    2006  -0.025981   0.857641   0.591726  -0.363832\n",
       "    2007   0.036199   0.277627   0.151489   0.135674\n",
       "...             ...        ...        ...        ...\n",
       "ZWE 2016   0.713924   1.346705   1.139171  -0.025858\n",
       "    2017  -2.443722  -0.521449  -2.007304   0.567911\n",
       "    2018   0.643321   0.429425  -0.413124  -0.210140\n",
       "    2019   2.370890   1.370719   1.196972  -0.475497\n",
       "    2020  -1.426962   0.124987   0.570861   0.133499\n",
       "\n",
       "[2876 rows x 4 columns]"
      ]
     },
     "execution_count": 34,
     "metadata": {},
     "output_type": "execute_result"
    }
   ],
   "source": [
    "transformed"
   ]
  },
  {
   "cell_type": "markdown",
   "id": "a10d76f1-e819-4c96-b632-f8437de83181",
   "metadata": {},
   "source": [
    "As designed by the method, the components are highly correlated, which can be inspected by a scatter plot. "
   ]
  },
  {
   "cell_type": "code",
   "execution_count": 35,
   "id": "262856aa-7d5f-4673-9e66-0ab80bbe9f1c",
   "metadata": {
    "tags": []
   },
   "outputs": [
    {
     "data": {
      "text/plain": [
       "<matplotlib.collections.PathCollection at 0x7f6d3ff91d00>"
      ]
     },
     "execution_count": 35,
     "metadata": {},
     "output_type": "execute_result"
    },
    {
     "data": {
      "image/png": "[encoded data removed]",
      "text/plain": [
       "<Figure size 640x480 with 1 Axes>"
      ]
     },
     "metadata": {},
     "output_type": "display_data"
    }
   ],
   "source": [
    "plt.scatter(transformed['atm_Comp1'],transformed['bio_Comp1'])"
   ]
  },
  {
   "cell_type": "markdown",
   "id": "8aabd5e4-232c-47bb-b808-851935d728e3",
   "metadata": {},
   "source": [
    "To get a better overview one can inspect trajectories for single countries in the CCA compnents space and start looking at outlier years. "
   ]
  },
  {
   "cell_type": "code",
   "execution_count": 36,
   "id": "1446892f-2e39-43b1-8da2-bc521b4160fa",
   "metadata": {
    "tags": []
   },
   "outputs": [],
   "source": [
    "def country_scatterplot(transformed, country, comp=1):\n",
    "    n1,n2 = [n for n in transformed if 'Comp{}'.format(comp) in n]\n",
    "    components = transformed.loc[country]\n",
    "    fig, ax = plt.subplots()\n",
    "    ax.scatter(components[n1],components[n2])\n",
    "    n1s, n2s = n1.split('_')[0],n2.split('_')[0]\n",
    "    plt.xlabel(n1s)\n",
    "    plt.ylabel(n2s)\n",
    "    plt.title(\"{}-{} Trajectory\".format(n1s,n2s))\n",
    "    for y in range(2003,2021):\n",
    "        ax.annotate(str(y),(components[n1][y],components[n2][y]))"
   ]
  },
  {
   "cell_type": "code",
   "execution_count": 37,
   "id": "554aa7da-8803-452f-8a8f-2c6ca504b84f",
   "metadata": {
    "tags": []
   },
   "outputs": [
    {
     "data": {
      "image/png": "[encoded data removed]",
      "text/plain": [
       "<Figure size 640x480 with 1 Axes>"
      ]
     },
     "metadata": {},
     "output_type": "display_data"
    }
   ],
   "source": [
    "country_scatterplot(transformed,'DEU')"
   ]
  },
  {
   "cell_type": "markdown",
   "id": "e81d4e58-3ada-430e-aaa5-0e2918aa449c",
   "metadata": {},
   "source": [
    "To improve interpretability we can have a look at the weights for the component construction. The Component 1 is high warm and dry anomalies during a year. "
   ]
  },
  {
   "cell_type": "code",
   "execution_count": 38,
   "id": "6ac9a670-1e42-4bdd-86f4-71e7b6366c0a",
   "metadata": {
    "tags": []
   },
   "outputs": [
    {
     "data": {
      "image/png": "[encoded data removed]",
      "text/plain": [
       "<Figure size 640x480 with 1 Axes>"
      ]
     },
     "metadata": {},
     "output_type": "display_data"
    }
   ],
   "source": [
    "plt.bar(atm_svar,model.x_weights_[:,0])\n",
    "plt.bar(bio_svar,model.y_weights_[:,0])\n",
    "plt.show()"
   ]
  },
  {
   "cell_type": "markdown",
   "id": "eae80c1f-ab34-450b-8ce6-75236dbb6562",
   "metadata": {
    "tags": []
   },
   "source": [
    "In the next step we repeat the CCA for the biosphere and socioeconomic subset of the data and can investigate the correlation structure of the extracted components:\n"
   ]
  },
  {
   "cell_type": "code",
   "execution_count": 39,
   "id": "d347d3e4-cf34-4af2-81ee-d3b91c41e40f",
   "metadata": {
    "tags": []
   },
   "outputs": [],
   "source": [
    "wdi_var = wdi_df.columns.values"
   ]
  },
  {
   "cell_type": "code",
   "execution_count": 40,
   "id": "359991e7-7629-4879-b6e8-bc3197e79d2e",
   "metadata": {
    "tags": []
   },
   "outputs": [],
   "source": [
    "model, transformed = cca_subgroups(alldata,ncomp=2, bio=bio_var, soc=wdi_var)"
   ]
  },
  {
   "cell_type": "code",
   "execution_count": 41,
   "id": "b9081d05-5caa-42a3-8320-b2244e7dbffc",
   "metadata": {
    "tags": []
   },
   "outputs": [
    {
     "data": {
      "image/png": "[encoded data removed]",
      "text/plain": [
       "<Figure size 640x480 with 1 Axes>"
      ]
     },
     "metadata": {},
     "output_type": "display_data"
    }
   ],
   "source": [
    "plt.scatter(transformed['bio_Comp1'],transformed['soc_Comp1'])\n",
    "plt.show()"
   ]
  },
  {
   "cell_type": "code",
   "execution_count": 42,
   "id": "b6ced711-99b3-434b-aff8-1a0d539fd6a5",
   "metadata": {
    "tags": []
   },
   "outputs": [
    {
     "data": {
      "image/png": "[encoded data removed]",
      "text/plain": [
       "<Figure size 640x480 with 1 Axes>"
      ]
     },
     "metadata": {},
     "output_type": "display_data"
    }
   ],
   "source": [
    "country_scatterplot(transformed,'DEU')"
   ]
  },
  {
   "cell_type": "code",
   "execution_count": 43,
   "id": "c30322c0-1b09-4024-9d80-8a1b641a7a81",
   "metadata": {
    "tags": []
   },
   "outputs": [
    {
     "data": {
      "image/png": "[encoded data removed]",
      "text/plain": [
       "<Figure size 640x480 with 1 Axes>"
      ]
     },
     "metadata": {},
     "output_type": "display_data"
    }
   ],
   "source": [
    "country_scatterplot(transformed,'ITA')"
   ]
  },
  {
   "cell_type": "code",
   "execution_count": 44,
   "id": "2a647a19-6c2d-4cac-a75c-53807fa8cf8e",
   "metadata": {
    "tags": []
   },
   "outputs": [],
   "source": [
    "team_store.delete_data('countrycube_atm.nc')"
   ]
  },
  {
   "cell_type": "markdown",
   "id": "48fb49d4-59bf-4c6e-b010-196c7a052ba1",
   "metadata": {},
   "source": []
  },
  {
   "cell_type": "code",
   "execution_count": 45,
   "id": "ff1032be-d26e-4032-b835-f06e0b0692d4",
   "metadata": {
    "tags": []
   },
   "outputs": [],
   "source": [
    "team_store.delete_data('countrycube_bio.nc')"
   ]
  },
  {
   "cell_type": "code",
   "execution_count": null,
   "id": "578959cc-b181-42a8-8fed-2da4d4785723",
   "metadata": {},
   "outputs": [],
   "source": []
  },
  {
   "cell_type": "code",
   "execution_count": null,
   "id": "37288e8d-409d-4b1a-9c7a-5ac6dbd168c3",
   "metadata": {},
   "outputs": [],
   "source": []
  }
 ],
 "metadata": {
  "kernelspec": {
   "display_name": "users-science-case-phi",
   "language": "python",
   "name": "conda-env-users-science-case-phi-py"
  },
  "language_info": {
   "codemirror_mode": {
    "name": "ipython",
    "version": 3
   },
   "file_extension": ".py",
   "mimetype": "text/x-python",
   "name": "python",
   "nbconvert_exporter": "python",
   "pygments_lexer": "ipython3",
   "version": "3.12.11"
  }
 },
 "nbformat": 4,
 "nbformat_minor": 5
}
